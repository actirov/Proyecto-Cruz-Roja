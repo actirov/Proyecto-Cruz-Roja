{
  "cells": [
    {
      "cell_type": "markdown",
      "source": [
        "# DiaBETO: a Diabetes intelligent assistant - Better Early Treatment Oracle"
      ],
      "metadata": {
        "id": "KqPFU-nXHe3r"
      }
    },
    {
      "cell_type": "code",
      "execution_count": 1,
      "metadata": {
        "id": "auaqKUAuFRwJ"
      },
      "outputs": [],
      "source": [
        "import numpy as np\n",
        "import pandas as pd\n",
        "import matplotlib.pyplot as plt\n",
        "\n",
        "from sklearn.preprocessing import OneHotEncoder\n",
        "from sklearn.preprocessing import RobustScaler\n",
        "from sklearn.model_selection import train_test_split"
      ]
    },
    {
      "cell_type": "markdown",
      "metadata": {
        "id": "oN6aBWNOWrY7"
      },
      "source": [
        "# Part 1: Load data into Colab"
      ]
    },
    {
      "cell_type": "code",
      "execution_count": 12,
      "metadata": {
        "colab": {
          "base_uri": "https://localhost:8080/",
          "height": 74
        },
        "id": "kB4uTQwSFkVr",
        "outputId": "4d333b70-083d-4cee-cccd-4ec967da0715"
      },
      "outputs": [
        {
          "output_type": "display_data",
          "data": {
            "text/plain": [
              "<IPython.core.display.HTML object>"
            ],
            "text/html": [
              "\n",
              "     <input type=\"file\" id=\"files-d2a37881-81e2-4dcd-8f4e-a8a91c5b08fd\" name=\"files[]\" multiple disabled\n",
              "        style=\"border:none\" />\n",
              "     <output id=\"result-d2a37881-81e2-4dcd-8f4e-a8a91c5b08fd\">\n",
              "      Upload widget is only available when the cell has been executed in the\n",
              "      current browser session. Please rerun this cell to enable.\n",
              "      </output>\n",
              "      <script>// Copyright 2017 Google LLC\n",
              "//\n",
              "// Licensed under the Apache License, Version 2.0 (the \"License\");\n",
              "// you may not use this file except in compliance with the License.\n",
              "// You may obtain a copy of the License at\n",
              "//\n",
              "//      http://www.apache.org/licenses/LICENSE-2.0\n",
              "//\n",
              "// Unless required by applicable law or agreed to in writing, software\n",
              "// distributed under the License is distributed on an \"AS IS\" BASIS,\n",
              "// WITHOUT WARRANTIES OR CONDITIONS OF ANY KIND, either express or implied.\n",
              "// See the License for the specific language governing permissions and\n",
              "// limitations under the License.\n",
              "\n",
              "/**\n",
              " * @fileoverview Helpers for google.colab Python module.\n",
              " */\n",
              "(function(scope) {\n",
              "function span(text, styleAttributes = {}) {\n",
              "  const element = document.createElement('span');\n",
              "  element.textContent = text;\n",
              "  for (const key of Object.keys(styleAttributes)) {\n",
              "    element.style[key] = styleAttributes[key];\n",
              "  }\n",
              "  return element;\n",
              "}\n",
              "\n",
              "// Max number of bytes which will be uploaded at a time.\n",
              "const MAX_PAYLOAD_SIZE = 100 * 1024;\n",
              "\n",
              "function _uploadFiles(inputId, outputId) {\n",
              "  const steps = uploadFilesStep(inputId, outputId);\n",
              "  const outputElement = document.getElementById(outputId);\n",
              "  // Cache steps on the outputElement to make it available for the next call\n",
              "  // to uploadFilesContinue from Python.\n",
              "  outputElement.steps = steps;\n",
              "\n",
              "  return _uploadFilesContinue(outputId);\n",
              "}\n",
              "\n",
              "// This is roughly an async generator (not supported in the browser yet),\n",
              "// where there are multiple asynchronous steps and the Python side is going\n",
              "// to poll for completion of each step.\n",
              "// This uses a Promise to block the python side on completion of each step,\n",
              "// then passes the result of the previous step as the input to the next step.\n",
              "function _uploadFilesContinue(outputId) {\n",
              "  const outputElement = document.getElementById(outputId);\n",
              "  const steps = outputElement.steps;\n",
              "\n",
              "  const next = steps.next(outputElement.lastPromiseValue);\n",
              "  return Promise.resolve(next.value.promise).then((value) => {\n",
              "    // Cache the last promise value to make it available to the next\n",
              "    // step of the generator.\n",
              "    outputElement.lastPromiseValue = value;\n",
              "    return next.value.response;\n",
              "  });\n",
              "}\n",
              "\n",
              "/**\n",
              " * Generator function which is called between each async step of the upload\n",
              " * process.\n",
              " * @param {string} inputId Element ID of the input file picker element.\n",
              " * @param {string} outputId Element ID of the output display.\n",
              " * @return {!Iterable<!Object>} Iterable of next steps.\n",
              " */\n",
              "function* uploadFilesStep(inputId, outputId) {\n",
              "  const inputElement = document.getElementById(inputId);\n",
              "  inputElement.disabled = false;\n",
              "\n",
              "  const outputElement = document.getElementById(outputId);\n",
              "  outputElement.innerHTML = '';\n",
              "\n",
              "  const pickedPromise = new Promise((resolve) => {\n",
              "    inputElement.addEventListener('change', (e) => {\n",
              "      resolve(e.target.files);\n",
              "    });\n",
              "  });\n",
              "\n",
              "  const cancel = document.createElement('button');\n",
              "  inputElement.parentElement.appendChild(cancel);\n",
              "  cancel.textContent = 'Cancel upload';\n",
              "  const cancelPromise = new Promise((resolve) => {\n",
              "    cancel.onclick = () => {\n",
              "      resolve(null);\n",
              "    };\n",
              "  });\n",
              "\n",
              "  // Wait for the user to pick the files.\n",
              "  const files = yield {\n",
              "    promise: Promise.race([pickedPromise, cancelPromise]),\n",
              "    response: {\n",
              "      action: 'starting',\n",
              "    }\n",
              "  };\n",
              "\n",
              "  cancel.remove();\n",
              "\n",
              "  // Disable the input element since further picks are not allowed.\n",
              "  inputElement.disabled = true;\n",
              "\n",
              "  if (!files) {\n",
              "    return {\n",
              "      response: {\n",
              "        action: 'complete',\n",
              "      }\n",
              "    };\n",
              "  }\n",
              "\n",
              "  for (const file of files) {\n",
              "    const li = document.createElement('li');\n",
              "    li.append(span(file.name, {fontWeight: 'bold'}));\n",
              "    li.append(span(\n",
              "        `(${file.type || 'n/a'}) - ${file.size} bytes, ` +\n",
              "        `last modified: ${\n",
              "            file.lastModifiedDate ? file.lastModifiedDate.toLocaleDateString() :\n",
              "                                    'n/a'} - `));\n",
              "    const percent = span('0% done');\n",
              "    li.appendChild(percent);\n",
              "\n",
              "    outputElement.appendChild(li);\n",
              "\n",
              "    const fileDataPromise = new Promise((resolve) => {\n",
              "      const reader = new FileReader();\n",
              "      reader.onload = (e) => {\n",
              "        resolve(e.target.result);\n",
              "      };\n",
              "      reader.readAsArrayBuffer(file);\n",
              "    });\n",
              "    // Wait for the data to be ready.\n",
              "    let fileData = yield {\n",
              "      promise: fileDataPromise,\n",
              "      response: {\n",
              "        action: 'continue',\n",
              "      }\n",
              "    };\n",
              "\n",
              "    // Use a chunked sending to avoid message size limits. See b/62115660.\n",
              "    let position = 0;\n",
              "    do {\n",
              "      const length = Math.min(fileData.byteLength - position, MAX_PAYLOAD_SIZE);\n",
              "      const chunk = new Uint8Array(fileData, position, length);\n",
              "      position += length;\n",
              "\n",
              "      const base64 = btoa(String.fromCharCode.apply(null, chunk));\n",
              "      yield {\n",
              "        response: {\n",
              "          action: 'append',\n",
              "          file: file.name,\n",
              "          data: base64,\n",
              "        },\n",
              "      };\n",
              "\n",
              "      let percentDone = fileData.byteLength === 0 ?\n",
              "          100 :\n",
              "          Math.round((position / fileData.byteLength) * 100);\n",
              "      percent.textContent = `${percentDone}% done`;\n",
              "\n",
              "    } while (position < fileData.byteLength);\n",
              "  }\n",
              "\n",
              "  // All done.\n",
              "  yield {\n",
              "    response: {\n",
              "      action: 'complete',\n",
              "    }\n",
              "  };\n",
              "}\n",
              "\n",
              "scope.google = scope.google || {};\n",
              "scope.google.colab = scope.google.colab || {};\n",
              "scope.google.colab._files = {\n",
              "  _uploadFiles,\n",
              "  _uploadFilesContinue,\n",
              "};\n",
              "})(self);\n",
              "</script> "
            ]
          },
          "metadata": {}
        },
        {
          "output_type": "stream",
          "name": "stdout",
          "text": [
            "Saving Diabetes2.csv to Diabetes2 (1).csv\n"
          ]
        }
      ],
      "source": [
        "# Requiered to select a file from your HD\n",
        "from google.colab import files\n",
        "uploaded = files.upload()"
      ]
    },
    {
      "cell_type": "code",
      "execution_count": 18,
      "metadata": {
        "colab": {
          "base_uri": "https://localhost:8080/",
          "height": 423
        },
        "id": "JwhYkkpoGG8y",
        "outputId": "953b8e8a-2a7a-4944-f47f-4a273fe3b240"
      },
      "outputs": [
        {
          "output_type": "execute_result",
          "data": {
            "text/plain": [
              "     edad     genero  glucosa   IMC  CLASS\n",
              "0      50   Femenino      4.9  24.0      0\n",
              "1      26  Masculino      4.9  23.0      0\n",
              "2      50   Femenino      4.9  24.0      0\n",
              "3      50   Femenino      4.9  24.0      0\n",
              "4      33  Masculino      4.9  21.0      0\n",
              "..    ...        ...      ...   ...    ...\n",
              "995    71  Masculino      7.0  30.0      1\n",
              "996    31  Masculino     12.3  37.2      1\n",
              "997    30  Masculino      6.7  27.4      1\n",
              "998    38  Masculino      6.7  40.5      1\n",
              "999    54  Masculino      6.9  33.0      1\n",
              "\n",
              "[1000 rows x 5 columns]"
            ],
            "text/html": [
              "\n",
              "  <div id=\"df-d776d212-ffdb-43ed-b2a8-c82ed545fa56\">\n",
              "    <div class=\"colab-df-container\">\n",
              "      <div>\n",
              "<style scoped>\n",
              "    .dataframe tbody tr th:only-of-type {\n",
              "        vertical-align: middle;\n",
              "    }\n",
              "\n",
              "    .dataframe tbody tr th {\n",
              "        vertical-align: top;\n",
              "    }\n",
              "\n",
              "    .dataframe thead th {\n",
              "        text-align: right;\n",
              "    }\n",
              "</style>\n",
              "<table border=\"1\" class=\"dataframe\">\n",
              "  <thead>\n",
              "    <tr style=\"text-align: right;\">\n",
              "      <th></th>\n",
              "      <th>edad</th>\n",
              "      <th>genero</th>\n",
              "      <th>glucosa</th>\n",
              "      <th>IMC</th>\n",
              "      <th>CLASS</th>\n",
              "    </tr>\n",
              "  </thead>\n",
              "  <tbody>\n",
              "    <tr>\n",
              "      <th>0</th>\n",
              "      <td>50</td>\n",
              "      <td>Femenino</td>\n",
              "      <td>4.9</td>\n",
              "      <td>24.0</td>\n",
              "      <td>0</td>\n",
              "    </tr>\n",
              "    <tr>\n",
              "      <th>1</th>\n",
              "      <td>26</td>\n",
              "      <td>Masculino</td>\n",
              "      <td>4.9</td>\n",
              "      <td>23.0</td>\n",
              "      <td>0</td>\n",
              "    </tr>\n",
              "    <tr>\n",
              "      <th>2</th>\n",
              "      <td>50</td>\n",
              "      <td>Femenino</td>\n",
              "      <td>4.9</td>\n",
              "      <td>24.0</td>\n",
              "      <td>0</td>\n",
              "    </tr>\n",
              "    <tr>\n",
              "      <th>3</th>\n",
              "      <td>50</td>\n",
              "      <td>Femenino</td>\n",
              "      <td>4.9</td>\n",
              "      <td>24.0</td>\n",
              "      <td>0</td>\n",
              "    </tr>\n",
              "    <tr>\n",
              "      <th>4</th>\n",
              "      <td>33</td>\n",
              "      <td>Masculino</td>\n",
              "      <td>4.9</td>\n",
              "      <td>21.0</td>\n",
              "      <td>0</td>\n",
              "    </tr>\n",
              "    <tr>\n",
              "      <th>...</th>\n",
              "      <td>...</td>\n",
              "      <td>...</td>\n",
              "      <td>...</td>\n",
              "      <td>...</td>\n",
              "      <td>...</td>\n",
              "    </tr>\n",
              "    <tr>\n",
              "      <th>995</th>\n",
              "      <td>71</td>\n",
              "      <td>Masculino</td>\n",
              "      <td>7.0</td>\n",
              "      <td>30.0</td>\n",
              "      <td>1</td>\n",
              "    </tr>\n",
              "    <tr>\n",
              "      <th>996</th>\n",
              "      <td>31</td>\n",
              "      <td>Masculino</td>\n",
              "      <td>12.3</td>\n",
              "      <td>37.2</td>\n",
              "      <td>1</td>\n",
              "    </tr>\n",
              "    <tr>\n",
              "      <th>997</th>\n",
              "      <td>30</td>\n",
              "      <td>Masculino</td>\n",
              "      <td>6.7</td>\n",
              "      <td>27.4</td>\n",
              "      <td>1</td>\n",
              "    </tr>\n",
              "    <tr>\n",
              "      <th>998</th>\n",
              "      <td>38</td>\n",
              "      <td>Masculino</td>\n",
              "      <td>6.7</td>\n",
              "      <td>40.5</td>\n",
              "      <td>1</td>\n",
              "    </tr>\n",
              "    <tr>\n",
              "      <th>999</th>\n",
              "      <td>54</td>\n",
              "      <td>Masculino</td>\n",
              "      <td>6.9</td>\n",
              "      <td>33.0</td>\n",
              "      <td>1</td>\n",
              "    </tr>\n",
              "  </tbody>\n",
              "</table>\n",
              "<p>1000 rows × 5 columns</p>\n",
              "</div>\n",
              "      <button class=\"colab-df-convert\" onclick=\"convertToInteractive('df-d776d212-ffdb-43ed-b2a8-c82ed545fa56')\"\n",
              "              title=\"Convert this dataframe to an interactive table.\"\n",
              "              style=\"display:none;\">\n",
              "        \n",
              "  <svg xmlns=\"http://www.w3.org/2000/svg\" height=\"24px\"viewBox=\"0 0 24 24\"\n",
              "       width=\"24px\">\n",
              "    <path d=\"M0 0h24v24H0V0z\" fill=\"none\"/>\n",
              "    <path d=\"M18.56 5.44l.94 2.06.94-2.06 2.06-.94-2.06-.94-.94-2.06-.94 2.06-2.06.94zm-11 1L8.5 8.5l.94-2.06 2.06-.94-2.06-.94L8.5 2.5l-.94 2.06-2.06.94zm10 10l.94 2.06.94-2.06 2.06-.94-2.06-.94-.94-2.06-.94 2.06-2.06.94z\"/><path d=\"M17.41 7.96l-1.37-1.37c-.4-.4-.92-.59-1.43-.59-.52 0-1.04.2-1.43.59L10.3 9.45l-7.72 7.72c-.78.78-.78 2.05 0 2.83L4 21.41c.39.39.9.59 1.41.59.51 0 1.02-.2 1.41-.59l7.78-7.78 2.81-2.81c.8-.78.8-2.07 0-2.86zM5.41 20L4 18.59l7.72-7.72 1.47 1.35L5.41 20z\"/>\n",
              "  </svg>\n",
              "      </button>\n",
              "      \n",
              "  <style>\n",
              "    .colab-df-container {\n",
              "      display:flex;\n",
              "      flex-wrap:wrap;\n",
              "      gap: 12px;\n",
              "    }\n",
              "\n",
              "    .colab-df-convert {\n",
              "      background-color: #E8F0FE;\n",
              "      border: none;\n",
              "      border-radius: 50%;\n",
              "      cursor: pointer;\n",
              "      display: none;\n",
              "      fill: #1967D2;\n",
              "      height: 32px;\n",
              "      padding: 0 0 0 0;\n",
              "      width: 32px;\n",
              "    }\n",
              "\n",
              "    .colab-df-convert:hover {\n",
              "      background-color: #E2EBFA;\n",
              "      box-shadow: 0px 1px 2px rgba(60, 64, 67, 0.3), 0px 1px 3px 1px rgba(60, 64, 67, 0.15);\n",
              "      fill: #174EA6;\n",
              "    }\n",
              "\n",
              "    [theme=dark] .colab-df-convert {\n",
              "      background-color: #3B4455;\n",
              "      fill: #D2E3FC;\n",
              "    }\n",
              "\n",
              "    [theme=dark] .colab-df-convert:hover {\n",
              "      background-color: #434B5C;\n",
              "      box-shadow: 0px 1px 3px 1px rgba(0, 0, 0, 0.15);\n",
              "      filter: drop-shadow(0px 1px 2px rgba(0, 0, 0, 0.3));\n",
              "      fill: #FFFFFF;\n",
              "    }\n",
              "  </style>\n",
              "\n",
              "      <script>\n",
              "        const buttonEl =\n",
              "          document.querySelector('#df-d776d212-ffdb-43ed-b2a8-c82ed545fa56 button.colab-df-convert');\n",
              "        buttonEl.style.display =\n",
              "          google.colab.kernel.accessAllowed ? 'block' : 'none';\n",
              "\n",
              "        async function convertToInteractive(key) {\n",
              "          const element = document.querySelector('#df-d776d212-ffdb-43ed-b2a8-c82ed545fa56');\n",
              "          const dataTable =\n",
              "            await google.colab.kernel.invokeFunction('convertToInteractive',\n",
              "                                                     [key], {});\n",
              "          if (!dataTable) return;\n",
              "\n",
              "          const docLinkHtml = 'Like what you see? Visit the ' +\n",
              "            '<a target=\"_blank\" href=https://colab.research.google.com/notebooks/data_table.ipynb>data table notebook</a>'\n",
              "            + ' to learn more about interactive tables.';\n",
              "          element.innerHTML = '';\n",
              "          dataTable['output_type'] = 'display_data';\n",
              "          await google.colab.output.renderOutput(dataTable, element);\n",
              "          const docLink = document.createElement('div');\n",
              "          docLink.innerHTML = docLinkHtml;\n",
              "          element.appendChild(docLink);\n",
              "        }\n",
              "      </script>\n",
              "    </div>\n",
              "  </div>\n",
              "  "
            ]
          },
          "metadata": {},
          "execution_count": 18
        }
      ],
      "source": [
        "# Import file and store it in a data frame\n",
        "df = pd.read_csv('Diabetes2.csv') # Cambia al nombre del archivo que cargues\n",
        "df.dropna(inplace=True)\n",
        "df.drop(columns=['Unnamed: 0'], inplace=True)\n",
        "df.CLASS = np.where(df.CLASS=='N', 0, 1)\n",
        "df"
      ]
    },
    {
      "cell_type": "markdown",
      "metadata": {
        "id": "7AnH6VY-W09n"
      },
      "source": [
        "# Part 2: Format data and split it into numpy arrays"
      ]
    },
    {
      "cell_type": "code",
      "execution_count": 19,
      "metadata": {
        "id": "OaRBLIHNdrSN"
      },
      "outputs": [],
      "source": [
        "def gender_to_categorical(gen):\n",
        "  enc = OneHotEncoder(sparse=False)\n",
        "  WD = enc.fit_transform(gen)\n",
        "  print(\"== categories:\", enc.categories_, \"==\")\n",
        "  return WD, [item for sublist in enc.categories_ for item in sublist]"
      ]
    },
    {
      "cell_type": "code",
      "execution_count": 20,
      "metadata": {
        "colab": {
          "base_uri": "https://localhost:8080/",
          "height": 722
        },
        "id": "dFhZ5cEGSk2e",
        "outputId": "44297e97-1225-494a-e2f7-a7effb7c137c"
      },
      "outputs": [
        {
          "output_type": "stream",
          "name": "stderr",
          "text": [
            "/usr/local/lib/python3.10/dist-packages/sklearn/preprocessing/_encoders.py:868: FutureWarning: `sparse` was renamed to `sparse_output` in version 1.2 and will be removed in 1.4. `sparse_output` is ignored unless you leave `sparse` to its default value.\n",
            "  warnings.warn(\n"
          ]
        },
        {
          "output_type": "stream",
          "name": "stdout",
          "text": [
            "== categories: [array(['Femenino', 'Masculino'], dtype=object)] ==\n",
            "Input values X with shape (1000, 5). With values\n"
          ]
        },
        {
          "output_type": "display_data",
          "data": {
            "text/plain": [
              "<Figure size 800x300 with 1 Axes>"
            ],
            "image/png": "[encoded data removed]"
          },
          "metadata": {}
        },
        {
          "output_type": "execute_result",
          "data": {
            "text/plain": [
              "                 0            1            2            3            4\n",
              "count  1000.000000  1000.000000  1000.000000  1000.000000  1000.000000\n",
              "mean     53.528000     8.281160    29.578020     0.435000     0.565000\n",
              "std       8.799241     2.534003     4.962388     0.496005     0.496005\n",
              "min      20.000000     0.900000    19.000000     0.000000     0.000000\n",
              "25%      51.000000     6.500000    26.000000     0.000000     0.000000\n",
              "50%      55.000000     8.000000    30.000000     0.000000     1.000000\n",
              "75%      59.000000    10.200000    33.000000     1.000000     1.000000\n",
              "max      79.000000    16.000000    47.750000     1.000000     1.000000"
            ],
            "text/html": [
              "\n",
              "  <div id=\"df-855bc0ee-6445-4513-ab09-39560c12ef95\">\n",
              "    <div class=\"colab-df-container\">\n",
              "      <div>\n",
              "<style scoped>\n",
              "    .dataframe tbody tr th:only-of-type {\n",
              "        vertical-align: middle;\n",
              "    }\n",
              "\n",
              "    .dataframe tbody tr th {\n",
              "        vertical-align: top;\n",
              "    }\n",
              "\n",
              "    .dataframe thead th {\n",
              "        text-align: right;\n",
              "    }\n",
              "</style>\n",
              "<table border=\"1\" class=\"dataframe\">\n",
              "  <thead>\n",
              "    <tr style=\"text-align: right;\">\n",
              "      <th></th>\n",
              "      <th>0</th>\n",
              "      <th>1</th>\n",
              "      <th>2</th>\n",
              "      <th>3</th>\n",
              "      <th>4</th>\n",
              "    </tr>\n",
              "  </thead>\n",
              "  <tbody>\n",
              "    <tr>\n",
              "      <th>count</th>\n",
              "      <td>1000.000000</td>\n",
              "      <td>1000.000000</td>\n",
              "      <td>1000.000000</td>\n",
              "      <td>1000.000000</td>\n",
              "      <td>1000.000000</td>\n",
              "    </tr>\n",
              "    <tr>\n",
              "      <th>mean</th>\n",
              "      <td>53.528000</td>\n",
              "      <td>8.281160</td>\n",
              "      <td>29.578020</td>\n",
              "      <td>0.435000</td>\n",
              "      <td>0.565000</td>\n",
              "    </tr>\n",
              "    <tr>\n",
              "      <th>std</th>\n",
              "      <td>8.799241</td>\n",
              "      <td>2.534003</td>\n",
              "      <td>4.962388</td>\n",
              "      <td>0.496005</td>\n",
              "      <td>0.496005</td>\n",
              "    </tr>\n",
              "    <tr>\n",
              "      <th>min</th>\n",
              "      <td>20.000000</td>\n",
              "      <td>0.900000</td>\n",
              "      <td>19.000000</td>\n",
              "      <td>0.000000</td>\n",
              "      <td>0.000000</td>\n",
              "    </tr>\n",
              "    <tr>\n",
              "      <th>25%</th>\n",
              "      <td>51.000000</td>\n",
              "      <td>6.500000</td>\n",
              "      <td>26.000000</td>\n",
              "      <td>0.000000</td>\n",
              "      <td>0.000000</td>\n",
              "    </tr>\n",
              "    <tr>\n",
              "      <th>50%</th>\n",
              "      <td>55.000000</td>\n",
              "      <td>8.000000</td>\n",
              "      <td>30.000000</td>\n",
              "      <td>0.000000</td>\n",
              "      <td>1.000000</td>\n",
              "    </tr>\n",
              "    <tr>\n",
              "      <th>75%</th>\n",
              "      <td>59.000000</td>\n",
              "      <td>10.200000</td>\n",
              "      <td>33.000000</td>\n",
              "      <td>1.000000</td>\n",
              "      <td>1.000000</td>\n",
              "    </tr>\n",
              "    <tr>\n",
              "      <th>max</th>\n",
              "      <td>79.000000</td>\n",
              "      <td>16.000000</td>\n",
              "      <td>47.750000</td>\n",
              "      <td>1.000000</td>\n",
              "      <td>1.000000</td>\n",
              "    </tr>\n",
              "  </tbody>\n",
              "</table>\n",
              "</div>\n",
              "      <button class=\"colab-df-convert\" onclick=\"convertToInteractive('df-855bc0ee-6445-4513-ab09-39560c12ef95')\"\n",
              "              title=\"Convert this dataframe to an interactive table.\"\n",
              "              style=\"display:none;\">\n",
              "        \n",
              "  <svg xmlns=\"http://www.w3.org/2000/svg\" height=\"24px\"viewBox=\"0 0 24 24\"\n",
              "       width=\"24px\">\n",
              "    <path d=\"M0 0h24v24H0V0z\" fill=\"none\"/>\n",
              "    <path d=\"M18.56 5.44l.94 2.06.94-2.06 2.06-.94-2.06-.94-.94-2.06-.94 2.06-2.06.94zm-11 1L8.5 8.5l.94-2.06 2.06-.94-2.06-.94L8.5 2.5l-.94 2.06-2.06.94zm10 10l.94 2.06.94-2.06 2.06-.94-2.06-.94-.94-2.06-.94 2.06-2.06.94z\"/><path d=\"M17.41 7.96l-1.37-1.37c-.4-.4-.92-.59-1.43-.59-.52 0-1.04.2-1.43.59L10.3 9.45l-7.72 7.72c-.78.78-.78 2.05 0 2.83L4 21.41c.39.39.9.59 1.41.59.51 0 1.02-.2 1.41-.59l7.78-7.78 2.81-2.81c.8-.78.8-2.07 0-2.86zM5.41 20L4 18.59l7.72-7.72 1.47 1.35L5.41 20z\"/>\n",
              "  </svg>\n",
              "      </button>\n",
              "      \n",
              "  <style>\n",
              "    .colab-df-container {\n",
              "      display:flex;\n",
              "      flex-wrap:wrap;\n",
              "      gap: 12px;\n",
              "    }\n",
              "\n",
              "    .colab-df-convert {\n",
              "      background-color: #E8F0FE;\n",
              "      border: none;\n",
              "      border-radius: 50%;\n",
              "      cursor: pointer;\n",
              "      display: none;\n",
              "      fill: #1967D2;\n",
              "      height: 32px;\n",
              "      padding: 0 0 0 0;\n",
              "      width: 32px;\n",
              "    }\n",
              "\n",
              "    .colab-df-convert:hover {\n",
              "      background-color: #E2EBFA;\n",
              "      box-shadow: 0px 1px 2px rgba(60, 64, 67, 0.3), 0px 1px 3px 1px rgba(60, 64, 67, 0.15);\n",
              "      fill: #174EA6;\n",
              "    }\n",
              "\n",
              "    [theme=dark] .colab-df-convert {\n",
              "      background-color: #3B4455;\n",
              "      fill: #D2E3FC;\n",
              "    }\n",
              "\n",
              "    [theme=dark] .colab-df-convert:hover {\n",
              "      background-color: #434B5C;\n",
              "      box-shadow: 0px 1px 3px 1px rgba(0, 0, 0, 0.15);\n",
              "      filter: drop-shadow(0px 1px 2px rgba(0, 0, 0, 0.3));\n",
              "      fill: #FFFFFF;\n",
              "    }\n",
              "  </style>\n",
              "\n",
              "      <script>\n",
              "        const buttonEl =\n",
              "          document.querySelector('#df-855bc0ee-6445-4513-ab09-39560c12ef95 button.colab-df-convert');\n",
              "        buttonEl.style.display =\n",
              "          google.colab.kernel.accessAllowed ? 'block' : 'none';\n",
              "\n",
              "        async function convertToInteractive(key) {\n",
              "          const element = document.querySelector('#df-855bc0ee-6445-4513-ab09-39560c12ef95');\n",
              "          const dataTable =\n",
              "            await google.colab.kernel.invokeFunction('convertToInteractive',\n",
              "                                                     [key], {});\n",
              "          if (!dataTable) return;\n",
              "\n",
              "          const docLinkHtml = 'Like what you see? Visit the ' +\n",
              "            '<a target=\"_blank\" href=https://colab.research.google.com/notebooks/data_table.ipynb>data table notebook</a>'\n",
              "            + ' to learn more about interactive tables.';\n",
              "          element.innerHTML = '';\n",
              "          dataTable['output_type'] = 'display_data';\n",
              "          await google.colab.output.renderOutput(dataTable, element);\n",
              "          const docLink = document.createElement('div');\n",
              "          docLink.innerHTML = docLinkHtml;\n",
              "          element.appendChild(docLink);\n",
              "        }\n",
              "      </script>\n",
              "    </div>\n",
              "  </div>\n",
              "  "
            ]
          },
          "metadata": {},
          "execution_count": 20
        }
      ],
      "source": [
        "# Extract input features and convert them to a numpy array\n",
        "labels = ['edad', 'glucosa', 'IMC' ]\n",
        "X = df[labels].to_numpy()\n",
        "WD, categories = gender_to_categorical(df[['genero']])\n",
        "X = np.concatenate((X, WD), axis=1)\n",
        "\n",
        "print(f\"Input values X with shape {X.shape}. With values\")\n",
        "\n",
        "plt.figure(figsize=(8, 3))\n",
        "plt.boxplot(X)\n",
        "plt.xticks(range(1, 6), labels + categories, rotation=90)\n",
        "plt.show()\n",
        "\n",
        "pd.DataFrame(X).describe()"
      ]
    },
    {
      "cell_type": "code",
      "execution_count": 21,
      "metadata": {
        "colab": {
          "base_uri": "https://localhost:8080/",
          "height": 605
        },
        "id": "dA2VIaEEHGwA",
        "outputId": "57d6f7c0-207c-495b-8df9-17cfd6358e52"
      },
      "outputs": [
        {
          "output_type": "display_data",
          "data": {
            "text/plain": [
              "<Figure size 800x300 with 1 Axes>"
            ],
            "image/png": "[encoded data removed]"
          },
          "metadata": {}
        },
        {
          "output_type": "execute_result",
          "data": {
            "text/plain": [
              "               0\n",
              "count  1000.0000\n",
              "mean      0.8980\n",
              "std       0.3028\n",
              "min       0.0000\n",
              "25%       1.0000\n",
              "50%       1.0000\n",
              "75%       1.0000\n",
              "max       1.0000"
            ],
            "text/html": [
              "\n",
              "  <div id=\"df-64f428a6-d8cf-4adc-b683-64bbce297d30\">\n",
              "    <div class=\"colab-df-container\">\n",
              "      <div>\n",
              "<style scoped>\n",
              "    .dataframe tbody tr th:only-of-type {\n",
              "        vertical-align: middle;\n",
              "    }\n",
              "\n",
              "    .dataframe tbody tr th {\n",
              "        vertical-align: top;\n",
              "    }\n",
              "\n",
              "    .dataframe thead th {\n",
              "        text-align: right;\n",
              "    }\n",
              "</style>\n",
              "<table border=\"1\" class=\"dataframe\">\n",
              "  <thead>\n",
              "    <tr style=\"text-align: right;\">\n",
              "      <th></th>\n",
              "      <th>0</th>\n",
              "    </tr>\n",
              "  </thead>\n",
              "  <tbody>\n",
              "    <tr>\n",
              "      <th>count</th>\n",
              "      <td>1000.0000</td>\n",
              "    </tr>\n",
              "    <tr>\n",
              "      <th>mean</th>\n",
              "      <td>0.8980</td>\n",
              "    </tr>\n",
              "    <tr>\n",
              "      <th>std</th>\n",
              "      <td>0.3028</td>\n",
              "    </tr>\n",
              "    <tr>\n",
              "      <th>min</th>\n",
              "      <td>0.0000</td>\n",
              "    </tr>\n",
              "    <tr>\n",
              "      <th>25%</th>\n",
              "      <td>1.0000</td>\n",
              "    </tr>\n",
              "    <tr>\n",
              "      <th>50%</th>\n",
              "      <td>1.0000</td>\n",
              "    </tr>\n",
              "    <tr>\n",
              "      <th>75%</th>\n",
              "      <td>1.0000</td>\n",
              "    </tr>\n",
              "    <tr>\n",
              "      <th>max</th>\n",
              "      <td>1.0000</td>\n",
              "    </tr>\n",
              "  </tbody>\n",
              "</table>\n",
              "</div>\n",
              "      <button class=\"colab-df-convert\" onclick=\"convertToInteractive('df-64f428a6-d8cf-4adc-b683-64bbce297d30')\"\n",
              "              title=\"Convert this dataframe to an interactive table.\"\n",
              "              style=\"display:none;\">\n",
              "        \n",
              "  <svg xmlns=\"http://www.w3.org/2000/svg\" height=\"24px\"viewBox=\"0 0 24 24\"\n",
              "       width=\"24px\">\n",
              "    <path d=\"M0 0h24v24H0V0z\" fill=\"none\"/>\n",
              "    <path d=\"M18.56 5.44l.94 2.06.94-2.06 2.06-.94-2.06-.94-.94-2.06-.94 2.06-2.06.94zm-11 1L8.5 8.5l.94-2.06 2.06-.94-2.06-.94L8.5 2.5l-.94 2.06-2.06.94zm10 10l.94 2.06.94-2.06 2.06-.94-2.06-.94-.94-2.06-.94 2.06-2.06.94z\"/><path d=\"M17.41 7.96l-1.37-1.37c-.4-.4-.92-.59-1.43-.59-.52 0-1.04.2-1.43.59L10.3 9.45l-7.72 7.72c-.78.78-.78 2.05 0 2.83L4 21.41c.39.39.9.59 1.41.59.51 0 1.02-.2 1.41-.59l7.78-7.78 2.81-2.81c.8-.78.8-2.07 0-2.86zM5.41 20L4 18.59l7.72-7.72 1.47 1.35L5.41 20z\"/>\n",
              "  </svg>\n",
              "      </button>\n",
              "      \n",
              "  <style>\n",
              "    .colab-df-container {\n",
              "      display:flex;\n",
              "      flex-wrap:wrap;\n",
              "      gap: 12px;\n",
              "    }\n",
              "\n",
              "    .colab-df-convert {\n",
              "      background-color: #E8F0FE;\n",
              "      border: none;\n",
              "      border-radius: 50%;\n",
              "      cursor: pointer;\n",
              "      display: none;\n",
              "      fill: #1967D2;\n",
              "      height: 32px;\n",
              "      padding: 0 0 0 0;\n",
              "      width: 32px;\n",
              "    }\n",
              "\n",
              "    .colab-df-convert:hover {\n",
              "      background-color: #E2EBFA;\n",
              "      box-shadow: 0px 1px 2px rgba(60, 64, 67, 0.3), 0px 1px 3px 1px rgba(60, 64, 67, 0.15);\n",
              "      fill: #174EA6;\n",
              "    }\n",
              "\n",
              "    [theme=dark] .colab-df-convert {\n",
              "      background-color: #3B4455;\n",
              "      fill: #D2E3FC;\n",
              "    }\n",
              "\n",
              "    [theme=dark] .colab-df-convert:hover {\n",
              "      background-color: #434B5C;\n",
              "      box-shadow: 0px 1px 3px 1px rgba(0, 0, 0, 0.15);\n",
              "      filter: drop-shadow(0px 1px 2px rgba(0, 0, 0, 0.3));\n",
              "      fill: #FFFFFF;\n",
              "    }\n",
              "  </style>\n",
              "\n",
              "      <script>\n",
              "        const buttonEl =\n",
              "          document.querySelector('#df-64f428a6-d8cf-4adc-b683-64bbce297d30 button.colab-df-convert');\n",
              "        buttonEl.style.display =\n",
              "          google.colab.kernel.accessAllowed ? 'block' : 'none';\n",
              "\n",
              "        async function convertToInteractive(key) {\n",
              "          const element = document.querySelector('#df-64f428a6-d8cf-4adc-b683-64bbce297d30');\n",
              "          const dataTable =\n",
              "            await google.colab.kernel.invokeFunction('convertToInteractive',\n",
              "                                                     [key], {});\n",
              "          if (!dataTable) return;\n",
              "\n",
              "          const docLinkHtml = 'Like what you see? Visit the ' +\n",
              "            '<a target=\"_blank\" href=https://colab.research.google.com/notebooks/data_table.ipynb>data table notebook</a>'\n",
              "            + ' to learn more about interactive tables.';\n",
              "          element.innerHTML = '';\n",
              "          dataTable['output_type'] = 'display_data';\n",
              "          await google.colab.output.renderOutput(dataTable, element);\n",
              "          const docLink = document.createElement('div');\n",
              "          docLink.innerHTML = docLinkHtml;\n",
              "          element.appendChild(docLink);\n",
              "        }\n",
              "      </script>\n",
              "    </div>\n",
              "  </div>\n",
              "  "
            ]
          },
          "metadata": {},
          "execution_count": 21
        }
      ],
      "source": [
        "# Extract output features and convert them to a numpy array\n",
        "Y = df[['CLASS']].to_numpy()\n",
        "\n",
        "plt.figure(figsize=(8, 3))\n",
        "plt.boxplot(Y)\n",
        "plt.xticks(range(1, 2), ['CLASS'], rotation=90)\n",
        "plt.show()\n",
        "\n",
        "pd.DataFrame(Y).describe()"
      ]
    },
    {
      "cell_type": "code",
      "execution_count": 22,
      "metadata": {
        "colab": {
          "base_uri": "https://localhost:8080/"
        },
        "id": "zAKGr2d4W_OU",
        "outputId": "066a3b33-1203-4a51-c917-b4a0b563c3b6"
      },
      "outputs": [
        {
          "output_type": "stream",
          "name": "stdout",
          "text": [
            "(900, 5)\n",
            "(900, 1)\n",
            "(100, 5)\n",
            "(100, 1)\n"
          ]
        }
      ],
      "source": [
        "# Split data into train+val and test sets\n",
        "x_train, x_test, y_train, y_test = train_test_split(X, Y, test_size=0.1)\n",
        "\n",
        "print(x_train.shape)\n",
        "print(y_train.shape)\n",
        "print(x_test.shape)\n",
        "print(y_test.shape)"
      ]
    },
    {
      "cell_type": "code",
      "execution_count": 23,
      "metadata": {
        "colab": {
          "base_uri": "https://localhost:8080/",
          "height": 605
        },
        "id": "d4nkvcV3MmC9",
        "outputId": "2c230038-2f0f-43a8-a5dd-38c1424e242b"
      },
      "outputs": [
        {
          "output_type": "display_data",
          "data": {
            "text/plain": [
              "<Figure size 1200x300 with 2 Axes>"
            ],
            "image/png": "[encoded data removed]"
          },
          "metadata": {}
        },
        {
          "output_type": "execute_result",
          "data": {
            "text/plain": [
              "                0\n",
              "count  900.000000\n",
              "mean    -0.102222\n",
              "std      0.303109\n",
              "min     -1.000000\n",
              "25%      0.000000\n",
              "50%      0.000000\n",
              "75%      0.000000\n",
              "max      0.000000"
            ],
            "text/html": [
              "\n",
              "  <div id=\"df-c5e2d2d1-90e0-41a0-925d-cbfa53b23ffb\">\n",
              "    <div class=\"colab-df-container\">\n",
              "      <div>\n",
              "<style scoped>\n",
              "    .dataframe tbody tr th:only-of-type {\n",
              "        vertical-align: middle;\n",
              "    }\n",
              "\n",
              "    .dataframe tbody tr th {\n",
              "        vertical-align: top;\n",
              "    }\n",
              "\n",
              "    .dataframe thead th {\n",
              "        text-align: right;\n",
              "    }\n",
              "</style>\n",
              "<table border=\"1\" class=\"dataframe\">\n",
              "  <thead>\n",
              "    <tr style=\"text-align: right;\">\n",
              "      <th></th>\n",
              "      <th>0</th>\n",
              "    </tr>\n",
              "  </thead>\n",
              "  <tbody>\n",
              "    <tr>\n",
              "      <th>count</th>\n",
              "      <td>900.000000</td>\n",
              "    </tr>\n",
              "    <tr>\n",
              "      <th>mean</th>\n",
              "      <td>-0.102222</td>\n",
              "    </tr>\n",
              "    <tr>\n",
              "      <th>std</th>\n",
              "      <td>0.303109</td>\n",
              "    </tr>\n",
              "    <tr>\n",
              "      <th>min</th>\n",
              "      <td>-1.000000</td>\n",
              "    </tr>\n",
              "    <tr>\n",
              "      <th>25%</th>\n",
              "      <td>0.000000</td>\n",
              "    </tr>\n",
              "    <tr>\n",
              "      <th>50%</th>\n",
              "      <td>0.000000</td>\n",
              "    </tr>\n",
              "    <tr>\n",
              "      <th>75%</th>\n",
              "      <td>0.000000</td>\n",
              "    </tr>\n",
              "    <tr>\n",
              "      <th>max</th>\n",
              "      <td>0.000000</td>\n",
              "    </tr>\n",
              "  </tbody>\n",
              "</table>\n",
              "</div>\n",
              "      <button class=\"colab-df-convert\" onclick=\"convertToInteractive('df-c5e2d2d1-90e0-41a0-925d-cbfa53b23ffb')\"\n",
              "              title=\"Convert this dataframe to an interactive table.\"\n",
              "              style=\"display:none;\">\n",
              "        \n",
              "  <svg xmlns=\"http://www.w3.org/2000/svg\" height=\"24px\"viewBox=\"0 0 24 24\"\n",
              "       width=\"24px\">\n",
              "    <path d=\"M0 0h24v24H0V0z\" fill=\"none\"/>\n",
              "    <path d=\"M18.56 5.44l.94 2.06.94-2.06 2.06-.94-2.06-.94-.94-2.06-.94 2.06-2.06.94zm-11 1L8.5 8.5l.94-2.06 2.06-.94-2.06-.94L8.5 2.5l-.94 2.06-2.06.94zm10 10l.94 2.06.94-2.06 2.06-.94-2.06-.94-.94-2.06-.94 2.06-2.06.94z\"/><path d=\"M17.41 7.96l-1.37-1.37c-.4-.4-.92-.59-1.43-.59-.52 0-1.04.2-1.43.59L10.3 9.45l-7.72 7.72c-.78.78-.78 2.05 0 2.83L4 21.41c.39.39.9.59 1.41.59.51 0 1.02-.2 1.41-.59l7.78-7.78 2.81-2.81c.8-.78.8-2.07 0-2.86zM5.41 20L4 18.59l7.72-7.72 1.47 1.35L5.41 20z\"/>\n",
              "  </svg>\n",
              "      </button>\n",
              "      \n",
              "  <style>\n",
              "    .colab-df-container {\n",
              "      display:flex;\n",
              "      flex-wrap:wrap;\n",
              "      gap: 12px;\n",
              "    }\n",
              "\n",
              "    .colab-df-convert {\n",
              "      background-color: #E8F0FE;\n",
              "      border: none;\n",
              "      border-radius: 50%;\n",
              "      cursor: pointer;\n",
              "      display: none;\n",
              "      fill: #1967D2;\n",
              "      height: 32px;\n",
              "      padding: 0 0 0 0;\n",
              "      width: 32px;\n",
              "    }\n",
              "\n",
              "    .colab-df-convert:hover {\n",
              "      background-color: #E2EBFA;\n",
              "      box-shadow: 0px 1px 2px rgba(60, 64, 67, 0.3), 0px 1px 3px 1px rgba(60, 64, 67, 0.15);\n",
              "      fill: #174EA6;\n",
              "    }\n",
              "\n",
              "    [theme=dark] .colab-df-convert {\n",
              "      background-color: #3B4455;\n",
              "      fill: #D2E3FC;\n",
              "    }\n",
              "\n",
              "    [theme=dark] .colab-df-convert:hover {\n",
              "      background-color: #434B5C;\n",
              "      box-shadow: 0px 1px 3px 1px rgba(0, 0, 0, 0.15);\n",
              "      filter: drop-shadow(0px 1px 2px rgba(0, 0, 0, 0.3));\n",
              "      fill: #FFFFFF;\n",
              "    }\n",
              "  </style>\n",
              "\n",
              "      <script>\n",
              "        const buttonEl =\n",
              "          document.querySelector('#df-c5e2d2d1-90e0-41a0-925d-cbfa53b23ffb button.colab-df-convert');\n",
              "        buttonEl.style.display =\n",
              "          google.colab.kernel.accessAllowed ? 'block' : 'none';\n",
              "\n",
              "        async function convertToInteractive(key) {\n",
              "          const element = document.querySelector('#df-c5e2d2d1-90e0-41a0-925d-cbfa53b23ffb');\n",
              "          const dataTable =\n",
              "            await google.colab.kernel.invokeFunction('convertToInteractive',\n",
              "                                                     [key], {});\n",
              "          if (!dataTable) return;\n",
              "\n",
              "          const docLinkHtml = 'Like what you see? Visit the ' +\n",
              "            '<a target=\"_blank\" href=https://colab.research.google.com/notebooks/data_table.ipynb>data table notebook</a>'\n",
              "            + ' to learn more about interactive tables.';\n",
              "          element.innerHTML = '';\n",
              "          dataTable['output_type'] = 'display_data';\n",
              "          await google.colab.output.renderOutput(dataTable, element);\n",
              "          const docLink = document.createElement('div');\n",
              "          docLink.innerHTML = docLinkHtml;\n",
              "          element.appendChild(docLink);\n",
              "        }\n",
              "      </script>\n",
              "    </div>\n",
              "  </div>\n",
              "  "
            ]
          },
          "metadata": {},
          "execution_count": 23
        }
      ],
      "source": [
        "# Normalize (zero-center) and standardize (scale) output data\n",
        "scalerY = RobustScaler()\n",
        "y_train = scalerY.fit_transform(y_train)\n",
        "y_test = scalerY.transform(y_test)\n",
        "\n",
        "plt.figure(figsize=(12, 3))\n",
        "plt.subplot(1, 2, 1)\n",
        "plt.boxplot(y_train)\n",
        "plt.xticks(range(1, 2), ['CLASS'], rotation=90)\n",
        "plt.subplot(1, 2, 2)\n",
        "plt.boxplot(y_test)\n",
        "plt.xticks(range(1, 2), ['CLASS'], rotation=90)\n",
        "plt.show()\n",
        "\n",
        "pd.DataFrame(y_train).describe()"
      ]
    },
    {
      "cell_type": "markdown",
      "metadata": {
        "id": "dreChfyNYqsB"
      },
      "source": [
        "# Part 3: Create DNN models and train them"
      ]
    },
    {
      "cell_type": "code",
      "execution_count": 25,
      "metadata": {
        "colab": {
          "base_uri": "https://localhost:8080/"
        },
        "id": "yOqB71xRhfpA",
        "outputId": "bf555888-234f-4152-9417-eeca1649475f"
      },
      "outputs": [
        {
          "output_type": "stream",
          "name": "stdout",
          "text": [
            "\u001b[?25l     \u001b[90m━━━━━━━━━━━━━━━━━━━━━━━━━━━━━━━━━━━━━━━━\u001b[0m \u001b[32m0.0/176.1 kB\u001b[0m \u001b[31m?\u001b[0m eta \u001b[36m-:--:--\u001b[0m\r\u001b[2K     \u001b[90m━━━━━━━━━━━━━━━━━━━━━━━━━━━━━━━━━━━━━━\u001b[0m \u001b[32m176.1/176.1 kB\u001b[0m \u001b[31m15.2 MB/s\u001b[0m eta \u001b[36m0:00:00\u001b[0m\n",
            "\u001b[?25h"
          ]
        }
      ],
      "source": [
        "!pip install -q -U keras-tuner"
      ]
    },
    {
      "cell_type": "code",
      "execution_count": 26,
      "metadata": {
        "id": "JO90QIV_HZyX"
      },
      "outputs": [],
      "source": [
        "# tensorflow imports\n",
        "import tensorflow as tf\n",
        "from tensorflow.keras.models import Sequential\n",
        "from tensorflow.keras.layers import InputLayer, Dense\n",
        "from tensorflow.keras.optimizers import Adam\n",
        "\n",
        "import keras_tuner as kt\n",
        "from keras_tuner.tuners import RandomSearch"
      ]
    },
    {
      "cell_type": "markdown",
      "metadata": {
        "id": "Xx9N-n_K4_3k"
      },
      "source": [
        "# Part 3.1: DNN with custom functions"
      ]
    },
    {
      "cell_type": "code",
      "source": [
        "mlp = Sequential([\n",
        "                  InputLayer(30),\n",
        "                  Dense(512, activation='relu'),\n",
        "                  Dense(128, activation='relu'),\n",
        "                  Dense( 32, activation='relu'),\n",
        "                  Dense(6, activation='softmax')\n",
        "])\n",
        "\n",
        "mlp.summary()"
      ],
      "metadata": {
        "colab": {
          "base_uri": "https://localhost:8080/"
        },
        "id": "x4vQsuSrGkVb",
        "outputId": "79b2576f-0252-4273-bf7e-946c4841b62e"
      },
      "execution_count": null,
      "outputs": [
        {
          "output_type": "stream",
          "name": "stdout",
          "text": [
            "Model: \"sequential\"\n",
            "_________________________________________________________________\n",
            " Layer (type)                Output Shape              Param #   \n",
            "=================================================================\n",
            " dense (Dense)               (None, 512)               15872     \n",
            "                                                                 \n",
            " dense_1 (Dense)             (None, 128)               65664     \n",
            "                                                                 \n",
            " dense_2 (Dense)             (None, 32)                4128      \n",
            "                                                                 \n",
            " dense_3 (Dense)             (None, 6)                 198       \n",
            "                                                                 \n",
            "=================================================================\n",
            "Total params: 85,862\n",
            "Trainable params: 85,862\n",
            "Non-trainable params: 0\n",
            "_________________________________________________________________\n"
          ]
        }
      ]
    },
    {
      "cell_type": "code",
      "execution_count": null,
      "metadata": {
        "colab": {
          "base_uri": "https://localhost:8080/"
        },
        "id": "ENX7lCg3Ido4",
        "outputId": "ae16c3b9-6724-4c5c-87ad-9bee42220c06"
      },
      "outputs": [
        {
          "name": "stdout",
          "output_type": "stream",
          "text": [
            "Model: \"sequential\"\n",
            "_________________________________________________________________\n",
            " Layer (type)                Output Shape              Param #   \n",
            "=================================================================\n",
            " dense (Dense)               (None, 1024)              29696     \n",
            "                                                                 \n",
            " dense_1 (Dense)             (None, 512)               524800    \n",
            "                                                                 \n",
            " dense_2 (Dense)             (None, 256)               131328    \n",
            "                                                                 \n",
            " OUTPUT (Dense)              (None, 2)                 514       \n",
            "                                                                 \n",
            "=================================================================\n",
            "Total params: 686,338\n",
            "Trainable params: 686,338\n",
            "Non-trainable params: 0\n",
            "_________________________________________________________________\n"
          ]
        }
      ],
      "source": [
        "# Create a Deep Network\n",
        "DNN = Sequential()\n",
        "DNN.add(InputLayer(input_shape=x_train.shape[1:], name='INPUT'))\n",
        "\n",
        "DNN.add(Dense(units=1024, activation='relu'))\n",
        "DNN.add(Dense(units=512, activation='relu'))\n",
        "DNN.add(Dense(units=256, activation='relu'))\n",
        "\n",
        "DNN.add(Dense(units=y_train.shape[1], activation='linear', name='OUTPUT'))\n",
        "\n",
        "DNN.summary()"
      ]
    },
    {
      "cell_type": "code",
      "execution_count": null,
      "metadata": {
        "id": "KWzdmn_gJDBW"
      },
      "outputs": [],
      "source": [
        "def r_square(y, y_hat):\n",
        "  \"\"\" Define R square loss, to use it as metric during training\n",
        "  \"\"\"\n",
        "  residual = tf.reduce_sum(tf.square(tf.subtract(y, y_hat)))\n",
        "  total = tf.reduce_sum(tf.square(tf.subtract(y, tf.reduce_mean(y))))\n",
        "  return tf.subtract(1.0, residual / total)"
      ]
    },
    {
      "cell_type": "code",
      "execution_count": null,
      "metadata": {
        "id": "fZ_ThBsBet0H"
      },
      "outputs": [],
      "source": [
        "def my_mse(y, y_hat):\n",
        "  \"\"\" Define MSE loss, to use it as loss function\n",
        "  \"\"\"\n",
        "  return tf.reduce_mean(tf.square(y - y_hat))"
      ]
    },
    {
      "cell_type": "code",
      "execution_count": null,
      "metadata": {
        "id": "Y8TlQWPOVfxw"
      },
      "outputs": [],
      "source": [
        "# Define training parameters\n",
        "# Option 1: Usar un optimizador predefinido, pero con hyperparams no estándar\n",
        "#from tensorflow.keras.optimizers import SGD\n",
        "#sgd = SGD(learning_rate=0.02, momentum=0.6)\n",
        "#DNN.compile(optimizer=sgd, loss='mse')\n",
        "\n",
        "# Option 2: Usar optimizador predefinido, con una pérdida custom, e incluir otras\n",
        "# métricas de monitoreo\n",
        "DNN.compile(optimizer='adam', loss=my_mse, metrics=['mape', r_square])\n",
        "\n",
        "# Try with different optimizers\n",
        "#DNN.compile(optimizer=???, loss='mse')"
      ]
    },
    {
      "cell_type": "code",
      "execution_count": null,
      "metadata": {
        "colab": {
          "base_uri": "https://localhost:8080/"
        },
        "id": "wGzdI7gJMYRt",
        "outputId": "86968a1e-d354-47a2-ba46-ed549dd3eadf"
      },
      "outputs": [
        {
          "name": "stdout",
          "output_type": "stream",
          "text": [
            "Epoch 1/30\n",
            "202/202 [==============================] - 4s 8ms/step - loss: 726.6567 - mape: 16959480.0000 - r_square: -879.2759 - val_loss: 0.4104 - val_mape: 1727380.7500 - val_r_square: 0.3734\n",
            "Epoch 2/30\n",
            "202/202 [==============================] - 1s 6ms/step - loss: 25.8820 - mape: 10498903.0000 - r_square: -36.5811 - val_loss: 1.0489 - val_mape: 3675646.2500 - val_r_square: -0.6052\n",
            "Epoch 3/30\n",
            "202/202 [==============================] - 1s 6ms/step - loss: 0.4263 - mape: 1743144.6250 - r_square: 0.3796 - val_loss: 0.4491 - val_mape: 1773724.6250 - val_r_square: 0.3193\n",
            "Epoch 4/30\n",
            "202/202 [==============================] - 1s 6ms/step - loss: 0.3197 - mape: 1394894.8750 - r_square: 0.5352 - val_loss: 0.6555 - val_mape: 2179828.5000 - val_r_square: 0.0065\n",
            "Epoch 5/30\n",
            "202/202 [==============================] - 1s 6ms/step - loss: 0.3754 - mape: 1593221.0000 - r_square: 0.4552 - val_loss: 0.2163 - val_mape: 1455561.3750 - val_r_square: 0.6699\n",
            "Epoch 6/30\n",
            "202/202 [==============================] - 1s 6ms/step - loss: 0.4218 - mape: 1703006.8750 - r_square: 0.3959 - val_loss: 0.2125 - val_mape: 1551820.7500 - val_r_square: 0.6756\n",
            "Epoch 7/30\n",
            "202/202 [==============================] - 1s 6ms/step - loss: 0.4463 - mape: 1841709.5000 - r_square: 0.3493 - val_loss: 0.5029 - val_mape: 2493627.5000 - val_r_square: 0.2335\n",
            "Epoch 8/30\n",
            "202/202 [==============================] - 1s 7ms/step - loss: 1.4964 - mape: 2673653.5000 - r_square: -1.2042 - val_loss: 0.2684 - val_mape: 1629809.1250 - val_r_square: 0.5913\n",
            "Epoch 9/30\n",
            "202/202 [==============================] - 1s 6ms/step - loss: 6.0429 - mape: 4740988.5000 - r_square: -8.2941 - val_loss: 0.6180 - val_mape: 1516776.3750 - val_r_square: 0.0697\n",
            "Epoch 10/30\n",
            "202/202 [==============================] - 1s 6ms/step - loss: 0.5099 - mape: 1809688.2500 - r_square: 0.2715 - val_loss: 0.2501 - val_mape: 1662185.8750 - val_r_square: 0.6192\n",
            "Epoch 11/30\n",
            "202/202 [==============================] - 1s 6ms/step - loss: 0.2613 - mape: 1308619.2500 - r_square: 0.6218 - val_loss: 0.2018 - val_mape: 1513521.3750 - val_r_square: 0.6922\n",
            "Epoch 12/30\n",
            "202/202 [==============================] - 1s 6ms/step - loss: 0.3240 - mape: 1530869.7500 - r_square: 0.5314 - val_loss: 0.1996 - val_mape: 1477405.5000 - val_r_square: 0.6957\n",
            "Epoch 13/30\n",
            "202/202 [==============================] - 1s 7ms/step - loss: 0.8453 - mape: 2030113.2500 - r_square: -0.2166 - val_loss: 0.2489 - val_mape: 1722654.8750 - val_r_square: 0.6206\n",
            "Epoch 14/30\n",
            "202/202 [==============================] - 1s 5ms/step - loss: 0.4501 - mape: 1647453.2500 - r_square: 0.3496 - val_loss: 0.3885 - val_mape: 2027320.0000 - val_r_square: 0.4116\n",
            "Epoch 15/30\n",
            "202/202 [==============================] - 1s 7ms/step - loss: 0.7226 - mape: 2141432.2500 - r_square: -0.0606 - val_loss: 0.2075 - val_mape: 1333030.1250 - val_r_square: 0.6842\n",
            "Epoch 16/30\n",
            "202/202 [==============================] - 1s 6ms/step - loss: 0.4364 - mape: 1646063.0000 - r_square: 0.3651 - val_loss: 0.2296 - val_mape: 1307212.2500 - val_r_square: 0.6504\n",
            "Epoch 17/30\n",
            "202/202 [==============================] - 1s 6ms/step - loss: 0.8311 - mape: 2274043.7500 - r_square: -0.2257 - val_loss: 0.3512 - val_mape: 1570344.0000 - val_r_square: 0.4711\n",
            "Epoch 18/30\n",
            "202/202 [==============================] - 1s 7ms/step - loss: 2.2833 - mape: 3088643.0000 - r_square: -2.3297 - val_loss: 0.4015 - val_mape: 2130056.5000 - val_r_square: 0.3875\n",
            "Epoch 19/30\n",
            "202/202 [==============================] - 1s 6ms/step - loss: 0.2997 - mape: 1455215.1250 - r_square: 0.5721 - val_loss: 0.4155 - val_mape: 1985672.3750 - val_r_square: 0.3727\n",
            "Epoch 20/30\n",
            "202/202 [==============================] - 1s 6ms/step - loss: 0.4481 - mape: 1736961.1250 - r_square: 0.3515 - val_loss: 0.2134 - val_mape: 1439022.8750 - val_r_square: 0.6767\n",
            "Epoch 21/30\n",
            "202/202 [==============================] - 1s 5ms/step - loss: 0.2859 - mape: 1355851.1250 - r_square: 0.5834 - val_loss: 0.3176 - val_mape: 1659001.8750 - val_r_square: 0.5164\n",
            "Epoch 22/30\n",
            "202/202 [==============================] - 1s 4ms/step - loss: 0.3330 - mape: 1582028.8750 - r_square: 0.5195 - val_loss: 0.3083 - val_mape: 1843761.1250 - val_r_square: 0.5320\n",
            "Epoch 23/30\n",
            "202/202 [==============================] - 1s 4ms/step - loss: 0.5814 - mape: 1864009.1250 - r_square: 0.1382 - val_loss: 0.5054 - val_mape: 3344078.2500 - val_r_square: 0.2273\n",
            "Epoch 24/30\n",
            "202/202 [==============================] - 1s 4ms/step - loss: 0.3728 - mape: 1673028.6250 - r_square: 0.4623 - val_loss: 0.1996 - val_mape: 1539078.3750 - val_r_square: 0.6958\n",
            "Epoch 25/30\n",
            "202/202 [==============================] - 1s 4ms/step - loss: 0.2657 - mape: 1411973.1250 - r_square: 0.6133 - val_loss: 0.2342 - val_mape: 1300665.6250 - val_r_square: 0.6420\n",
            "Epoch 26/30\n",
            "202/202 [==============================] - 1s 4ms/step - loss: 0.3259 - mape: 1442763.0000 - r_square: 0.5231 - val_loss: 0.3190 - val_mape: 1446819.6250 - val_r_square: 0.5158\n",
            "Epoch 27/30\n",
            "202/202 [==============================] - 1s 4ms/step - loss: 0.2801 - mape: 1337750.6250 - r_square: 0.5912 - val_loss: 0.5988 - val_mape: 2491678.5000 - val_r_square: 0.0889\n",
            "Epoch 28/30\n",
            "202/202 [==============================] - 1s 4ms/step - loss: 0.3218 - mape: 1580407.6250 - r_square: 0.5329 - val_loss: 0.2172 - val_mape: 1585272.8750 - val_r_square: 0.6686\n",
            "Epoch 29/30\n",
            "202/202 [==============================] - 1s 4ms/step - loss: 0.4792 - mape: 1579125.5000 - r_square: 0.3120 - val_loss: 0.3252 - val_mape: 2055842.0000 - val_r_square: 0.5038\n",
            "Epoch 30/30\n",
            "202/202 [==============================] - 1s 4ms/step - loss: 0.3946 - mape: 1589923.8750 - r_square: 0.4281 - val_loss: 0.2892 - val_mape: 2006001.8750 - val_r_square: 0.5616\n"
          ]
        }
      ],
      "source": [
        "# Train model\n",
        "H = DNN.fit(x=x_train, y=y_train, batch_size=128, epochs=30, validation_split=0.1)"
      ]
    },
    {
      "cell_type": "code",
      "execution_count": null,
      "metadata": {
        "colab": {
          "base_uri": "https://localhost:8080/"
        },
        "id": "sun9_RyLYzMM",
        "outputId": "471cb1cf-8016-4d09-ff1a-7ed1145187d3"
      },
      "outputs": [
        {
          "data": {
            "image/png": "[encoded data removed]",
            "text/plain": [
              "<Figure size 1440x288 with 3 Axes>"
            ]
          },
          "metadata": {},
          "output_type": "display_data"
        }
      ],
      "source": [
        "# Plot loss\n",
        "plt.figure(figsize=(20, 4))\n",
        "plt.subplot(1, 3, 1)\n",
        "plt.plot(DNN.history.history['loss'], label='Training', linewidth=2)\n",
        "plt.plot(DNN.history.history['val_loss'], label='Validation', linewidth=2)\n",
        "plt.legend()\n",
        "plt.xlabel('Epoch')\n",
        "plt.ylabel('Loss (mse)')\n",
        "plt.grid()\n",
        "plt.subplot(1, 3, 2)\n",
        "plt.plot(DNN.history.history['mape'], label='Training', linewidth=2)\n",
        "plt.plot(DNN.history.history['val_mape'], label='Validation', linewidth=2)\n",
        "plt.legend()\n",
        "plt.xlabel('Epoch')\n",
        "plt.ylabel('MAPE')\n",
        "plt.grid()\n",
        "plt.subplot(1, 3, 3)\n",
        "plt.plot(DNN.history.history['r_square'], label='Training', linewidth=2)\n",
        "plt.plot(DNN.history.history['val_r_square'], label='Validation', linewidth=2)\n",
        "plt.legend()\n",
        "plt.xlabel('Epoch')\n",
        "plt.ylabel('r square')\n",
        "plt.grid()\n",
        "plt.show()"
      ]
    },
    {
      "cell_type": "code",
      "execution_count": null,
      "metadata": {
        "colab": {
          "base_uri": "https://localhost:8080/"
        },
        "id": "jqWaiy_fb0-x",
        "outputId": "f4878d6a-d4d9-49ab-9013-784fd6724d7c"
      },
      "outputs": [
        {
          "name": "stdout",
          "output_type": "stream",
          "text": [
            "Test loss, MAPE, and r2: [0.32468682527542114, 1231897.125, 0.5469706058502197]\n"
          ]
        }
      ],
      "source": [
        "# Compute test loss\n",
        "loss_test = DNN.evaluate(x=x_test, y=y_test, verbose=False)\n",
        "print(\"Test loss, MAPE, and r2:\", loss_test)"
      ]
    },
    {
      "cell_type": "code",
      "execution_count": null,
      "metadata": {
        "colab": {
          "base_uri": "https://localhost:8080/"
        },
        "id": "lQxF7hMCb8Cp",
        "outputId": "ee3adde0-032b-4168-8a90-1c50acda1da3"
      },
      "outputs": [
        {
          "name": "stdout",
          "output_type": "stream",
          "text": [
            "100/100 [==============================] - 0s 2ms/step\n",
            "(3182, 2)\n"
          ]
        }
      ],
      "source": [
        "# Predict on test set\n",
        "y_test_hat = DNN.predict(x=x_test)\n",
        "print(y_test_hat.shape)"
      ]
    },
    {
      "cell_type": "code",
      "execution_count": null,
      "metadata": {
        "colab": {
          "base_uri": "https://localhost:8080/"
        },
        "id": "tfAf4cIqcGyQ",
        "outputId": "b8de4c92-75ad-4b0f-fb38-baff7b817f5d"
      },
      "outputs": [
        {
          "data": {
            "image/png": "[encoded data removed]",
            "text/plain": [
              "<Figure size 432x288 with 1 Axes>"
            ]
          },
          "metadata": {},
          "output_type": "display_data"
        }
      ],
      "source": [
        "# Plot y_test_hat\n",
        "indx = np.random.permutation(len(y_test))[:500]\n",
        "plt.scatter(y_test[indx, 0], y_test[indx, 1], c='b', label='y')\n",
        "plt.scatter(y_test_hat[indx, 0], y_test_hat[indx, 1], c='r', marker='+', label='y_h')\n",
        "\n",
        "plt.legend()\n",
        "plt.grid(True)\n",
        "plt.xlabel('PM2.5')\n",
        "plt.ylabel('NO2')\n",
        "plt.title('Test set and its predictions')\n",
        "plt.show()"
      ]
    },
    {
      "cell_type": "markdown",
      "metadata": {
        "id": "Flg_pGZD5_0F"
      },
      "source": [
        "# 3.2 Auto tuning of hyperparams: number of units and optimizer"
      ]
    },
    {
      "cell_type": "code",
      "execution_count": 27,
      "metadata": {
        "id": "KWp4wGxlhsI6"
      },
      "outputs": [],
      "source": [
        "def model_builder(hp):\n",
        "  ''' Define a auxiliar function to create DNN models with varying\n",
        "      hyperparameters.\n",
        "  '''\n",
        "  model = Sequential()\n",
        "  model.add(InputLayer(input_shape=x_train.shape[1:], name='INPUT'))\n",
        "\n",
        "  # Choose an optimal number of units for the unique hidden layer between 64-1024\n",
        "  hp_units = hp.Int('units', min_value=64, max_value=1024, step=64)\n",
        "  model.add(Dense(units=hp_units, activation='relu'))\n",
        "  # Add output layer\n",
        "  model.add(Dense(units=y_train.shape[1], name='OUTPUT', activation='sigmoid'))\n",
        "\n",
        "  # Choose best optimizer\n",
        "  model.compile(optimizer=hp.Choice('optimizer', values=['sgd', 'adam', 'adagrad', 'adadelta']), loss='mse', metrics=['mape'])\n",
        "  \n",
        "  return model"
      ]
    },
    {
      "cell_type": "code",
      "execution_count": 28,
      "metadata": {
        "colab": {
          "base_uri": "https://localhost:8080/"
        },
        "id": "4wn2eOcXioPQ",
        "outputId": "6f563a40-80d8-4929-a7e5-b58bd6594a85"
      },
      "outputs": [
        {
          "output_type": "stream",
          "name": "stdout",
          "text": [
            "Search space summary\n",
            "Default search space size: 2\n",
            "units (Int)\n",
            "{'default': None, 'conditions': [], 'min_value': 64, 'max_value': 1024, 'step': 64, 'sampling': 'linear'}\n",
            "optimizer (Choice)\n",
            "{'default': 'sgd', 'conditions': [], 'values': ['sgd', 'adam', 'adagrad', 'adadelta'], 'ordered': False}\n"
          ]
        }
      ],
      "source": [
        "# Create a tuner and show the search space\n",
        "tuner = RandomSearch(model_builder,\n",
        "                     objective='val_loss',\n",
        "                     max_trials=32)\n",
        "\n",
        "tuner.search_space_summary()"
      ]
    },
    {
      "cell_type": "code",
      "execution_count": 29,
      "metadata": {
        "colab": {
          "base_uri": "https://localhost:8080/",
          "height": 558
        },
        "id": "wcjclyCRrKXN",
        "outputId": "fed5aeaa-928d-47e7-882b-a03fb39154b2"
      },
      "outputs": [
        {
          "output_type": "stream",
          "name": "stdout",
          "text": [
            "Trial 17 Complete [00h 00m 03s]\n",
            "val_loss: 0.08888889104127884\n",
            "\n",
            "Best val_loss So Far: 0.08888889104127884\n",
            "Total elapsed time: 00h 01m 02s\n",
            "\n",
            "Search: Running Trial #18\n",
            "\n",
            "Value             |Best Value So Far |Hyperparameter\n",
            "896               |192               |units\n",
            "adadelta          |sgd               |optimizer\n",
            "\n"
          ]
        },
        {
          "output_type": "error",
          "ename": "KeyboardInterrupt",
          "evalue": "ignored",
          "traceback": [
            "\u001b[0;31m---------------------------------------------------------------------------\u001b[0m",
            "\u001b[0;31mKeyboardInterrupt\u001b[0m                         Traceback (most recent call last)",
            "\u001b[0;32m<ipython-input-29-25a6bd85674f>\u001b[0m in \u001b[0;36m<cell line: 2>\u001b[0;34m()\u001b[0m\n\u001b[1;32m      1\u001b[0m \u001b[0;31m# Make an initial quick exploration of the hyperparam space\u001b[0m\u001b[0;34m\u001b[0m\u001b[0;34m\u001b[0m\u001b[0m\n\u001b[0;32m----> 2\u001b[0;31m \u001b[0mtuner\u001b[0m\u001b[0;34m.\u001b[0m\u001b[0msearch\u001b[0m\u001b[0;34m(\u001b[0m\u001b[0mx_train\u001b[0m\u001b[0;34m,\u001b[0m \u001b[0my_train\u001b[0m\u001b[0;34m,\u001b[0m \u001b[0mepochs\u001b[0m\u001b[0;34m=\u001b[0m\u001b[0;36m10\u001b[0m\u001b[0;34m,\u001b[0m \u001b[0mvalidation_split\u001b[0m\u001b[0;34m=\u001b[0m\u001b[0;36m0.1\u001b[0m\u001b[0;34m)\u001b[0m\u001b[0;34m\u001b[0m\u001b[0;34m\u001b[0m\u001b[0m\n\u001b[0m",
            "\u001b[0;32m/usr/local/lib/python3.10/dist-packages/keras_tuner/engine/base_tuner.py\u001b[0m in \u001b[0;36msearch\u001b[0;34m(self, *fit_args, **fit_kwargs)\u001b[0m\n\u001b[1;32m    228\u001b[0m \u001b[0;34m\u001b[0m\u001b[0m\n\u001b[1;32m    229\u001b[0m             \u001b[0mself\u001b[0m\u001b[0;34m.\u001b[0m\u001b[0mon_trial_begin\u001b[0m\u001b[0;34m(\u001b[0m\u001b[0mtrial\u001b[0m\u001b[0;34m)\u001b[0m\u001b[0;34m\u001b[0m\u001b[0;34m\u001b[0m\u001b[0m\n\u001b[0;32m--> 230\u001b[0;31m             \u001b[0mself\u001b[0m\u001b[0;34m.\u001b[0m\u001b[0m_try_run_and_update_trial\u001b[0m\u001b[0;34m(\u001b[0m\u001b[0mtrial\u001b[0m\u001b[0;34m,\u001b[0m \u001b[0;34m*\u001b[0m\u001b[0mfit_args\u001b[0m\u001b[0;34m,\u001b[0m \u001b[0;34m**\u001b[0m\u001b[0mfit_kwargs\u001b[0m\u001b[0;34m)\u001b[0m\u001b[0;34m\u001b[0m\u001b[0;34m\u001b[0m\u001b[0m\n\u001b[0m\u001b[1;32m    231\u001b[0m             \u001b[0mself\u001b[0m\u001b[0;34m.\u001b[0m\u001b[0mon_trial_end\u001b[0m\u001b[0;34m(\u001b[0m\u001b[0mtrial\u001b[0m\u001b[0;34m)\u001b[0m\u001b[0;34m\u001b[0m\u001b[0;34m\u001b[0m\u001b[0m\n\u001b[1;32m    232\u001b[0m         \u001b[0mself\u001b[0m\u001b[0;34m.\u001b[0m\u001b[0mon_search_end\u001b[0m\u001b[0;34m(\u001b[0m\u001b[0;34m)\u001b[0m\u001b[0;34m\u001b[0m\u001b[0;34m\u001b[0m\u001b[0m\n",
            "\u001b[0;32m/usr/local/lib/python3.10/dist-packages/keras_tuner/engine/base_tuner.py\u001b[0m in \u001b[0;36m_try_run_and_update_trial\u001b[0;34m(self, trial, *fit_args, **fit_kwargs)\u001b[0m\n\u001b[1;32m    268\u001b[0m     \u001b[0;32mdef\u001b[0m \u001b[0m_try_run_and_update_trial\u001b[0m\u001b[0;34m(\u001b[0m\u001b[0mself\u001b[0m\u001b[0;34m,\u001b[0m \u001b[0mtrial\u001b[0m\u001b[0;34m,\u001b[0m \u001b[0;34m*\u001b[0m\u001b[0mfit_args\u001b[0m\u001b[0;34m,\u001b[0m \u001b[0;34m**\u001b[0m\u001b[0mfit_kwargs\u001b[0m\u001b[0;34m)\u001b[0m\u001b[0;34m:\u001b[0m\u001b[0;34m\u001b[0m\u001b[0;34m\u001b[0m\u001b[0m\n\u001b[1;32m    269\u001b[0m         \u001b[0;32mtry\u001b[0m\u001b[0;34m:\u001b[0m\u001b[0;34m\u001b[0m\u001b[0;34m\u001b[0m\u001b[0m\n\u001b[0;32m--> 270\u001b[0;31m             \u001b[0mself\u001b[0m\u001b[0;34m.\u001b[0m\u001b[0m_run_and_update_trial\u001b[0m\u001b[0;34m(\u001b[0m\u001b[0mtrial\u001b[0m\u001b[0;34m,\u001b[0m \u001b[0;34m*\u001b[0m\u001b[0mfit_args\u001b[0m\u001b[0;34m,\u001b[0m \u001b[0;34m**\u001b[0m\u001b[0mfit_kwargs\u001b[0m\u001b[0;34m)\u001b[0m\u001b[0;34m\u001b[0m\u001b[0;34m\u001b[0m\u001b[0m\n\u001b[0m\u001b[1;32m    271\u001b[0m             \u001b[0mtrial\u001b[0m\u001b[0;34m.\u001b[0m\u001b[0mstatus\u001b[0m \u001b[0;34m=\u001b[0m \u001b[0mtrial_module\u001b[0m\u001b[0;34m.\u001b[0m\u001b[0mTrialStatus\u001b[0m\u001b[0;34m.\u001b[0m\u001b[0mCOMPLETED\u001b[0m\u001b[0;34m\u001b[0m\u001b[0;34m\u001b[0m\u001b[0m\n\u001b[1;32m    272\u001b[0m             \u001b[0;32mreturn\u001b[0m\u001b[0;34m\u001b[0m\u001b[0;34m\u001b[0m\u001b[0m\n",
            "\u001b[0;32m/usr/local/lib/python3.10/dist-packages/keras_tuner/engine/base_tuner.py\u001b[0m in \u001b[0;36m_run_and_update_trial\u001b[0;34m(self, trial, *fit_args, **fit_kwargs)\u001b[0m\n\u001b[1;32m    233\u001b[0m \u001b[0;34m\u001b[0m\u001b[0m\n\u001b[1;32m    234\u001b[0m     \u001b[0;32mdef\u001b[0m \u001b[0m_run_and_update_trial\u001b[0m\u001b[0;34m(\u001b[0m\u001b[0mself\u001b[0m\u001b[0;34m,\u001b[0m \u001b[0mtrial\u001b[0m\u001b[0;34m,\u001b[0m \u001b[0;34m*\u001b[0m\u001b[0mfit_args\u001b[0m\u001b[0;34m,\u001b[0m \u001b[0;34m**\u001b[0m\u001b[0mfit_kwargs\u001b[0m\u001b[0;34m)\u001b[0m\u001b[0;34m:\u001b[0m\u001b[0;34m\u001b[0m\u001b[0;34m\u001b[0m\u001b[0m\n\u001b[0;32m--> 235\u001b[0;31m         \u001b[0mresults\u001b[0m \u001b[0;34m=\u001b[0m \u001b[0mself\u001b[0m\u001b[0;34m.\u001b[0m\u001b[0mrun_trial\u001b[0m\u001b[0;34m(\u001b[0m\u001b[0mtrial\u001b[0m\u001b[0;34m,\u001b[0m \u001b[0;34m*\u001b[0m\u001b[0mfit_args\u001b[0m\u001b[0;34m,\u001b[0m \u001b[0;34m**\u001b[0m\u001b[0mfit_kwargs\u001b[0m\u001b[0;34m)\u001b[0m\u001b[0;34m\u001b[0m\u001b[0;34m\u001b[0m\u001b[0m\n\u001b[0m\u001b[1;32m    236\u001b[0m         if self.oracle.get_trial(trial.trial_id).metrics.exists(\n\u001b[1;32m    237\u001b[0m             \u001b[0mself\u001b[0m\u001b[0;34m.\u001b[0m\u001b[0moracle\u001b[0m\u001b[0;34m.\u001b[0m\u001b[0mobjective\u001b[0m\u001b[0;34m.\u001b[0m\u001b[0mname\u001b[0m\u001b[0;34m\u001b[0m\u001b[0;34m\u001b[0m\u001b[0m\n",
            "\u001b[0;32m/usr/local/lib/python3.10/dist-packages/keras_tuner/engine/tuner.py\u001b[0m in \u001b[0;36mrun_trial\u001b[0;34m(self, trial, *args, **kwargs)\u001b[0m\n\u001b[1;32m    285\u001b[0m             \u001b[0mcallbacks\u001b[0m\u001b[0;34m.\u001b[0m\u001b[0mappend\u001b[0m\u001b[0;34m(\u001b[0m\u001b[0mmodel_checkpoint\u001b[0m\u001b[0;34m)\u001b[0m\u001b[0;34m\u001b[0m\u001b[0;34m\u001b[0m\u001b[0m\n\u001b[1;32m    286\u001b[0m             \u001b[0mcopied_kwargs\u001b[0m\u001b[0;34m[\u001b[0m\u001b[0;34m\"callbacks\"\u001b[0m\u001b[0;34m]\u001b[0m \u001b[0;34m=\u001b[0m \u001b[0mcallbacks\u001b[0m\u001b[0;34m\u001b[0m\u001b[0;34m\u001b[0m\u001b[0m\n\u001b[0;32m--> 287\u001b[0;31m             \u001b[0mobj_value\u001b[0m \u001b[0;34m=\u001b[0m \u001b[0mself\u001b[0m\u001b[0;34m.\u001b[0m\u001b[0m_build_and_fit_model\u001b[0m\u001b[0;34m(\u001b[0m\u001b[0mtrial\u001b[0m\u001b[0;34m,\u001b[0m \u001b[0;34m*\u001b[0m\u001b[0margs\u001b[0m\u001b[0;34m,\u001b[0m \u001b[0;34m**\u001b[0m\u001b[0mcopied_kwargs\u001b[0m\u001b[0;34m)\u001b[0m\u001b[0;34m\u001b[0m\u001b[0;34m\u001b[0m\u001b[0m\n\u001b[0m\u001b[1;32m    288\u001b[0m \u001b[0;34m\u001b[0m\u001b[0m\n\u001b[1;32m    289\u001b[0m             \u001b[0mhistories\u001b[0m\u001b[0;34m.\u001b[0m\u001b[0mappend\u001b[0m\u001b[0;34m(\u001b[0m\u001b[0mobj_value\u001b[0m\u001b[0;34m)\u001b[0m\u001b[0;34m\u001b[0m\u001b[0;34m\u001b[0m\u001b[0m\n",
            "\u001b[0;32m/usr/local/lib/python3.10/dist-packages/keras_tuner/engine/tuner.py\u001b[0m in \u001b[0;36m_build_and_fit_model\u001b[0;34m(self, trial, *args, **kwargs)\u001b[0m\n\u001b[1;32m    211\u001b[0m         \"\"\"\n\u001b[1;32m    212\u001b[0m         \u001b[0mhp\u001b[0m \u001b[0;34m=\u001b[0m \u001b[0mtrial\u001b[0m\u001b[0;34m.\u001b[0m\u001b[0mhyperparameters\u001b[0m\u001b[0;34m\u001b[0m\u001b[0;34m\u001b[0m\u001b[0m\n\u001b[0;32m--> 213\u001b[0;31m         \u001b[0mmodel\u001b[0m \u001b[0;34m=\u001b[0m \u001b[0mself\u001b[0m\u001b[0;34m.\u001b[0m\u001b[0m_try_build\u001b[0m\u001b[0;34m(\u001b[0m\u001b[0mhp\u001b[0m\u001b[0;34m)\u001b[0m\u001b[0;34m\u001b[0m\u001b[0;34m\u001b[0m\u001b[0m\n\u001b[0m\u001b[1;32m    214\u001b[0m         \u001b[0mresults\u001b[0m \u001b[0;34m=\u001b[0m \u001b[0mself\u001b[0m\u001b[0;34m.\u001b[0m\u001b[0mhypermodel\u001b[0m\u001b[0;34m.\u001b[0m\u001b[0mfit\u001b[0m\u001b[0;34m(\u001b[0m\u001b[0mhp\u001b[0m\u001b[0;34m,\u001b[0m \u001b[0mmodel\u001b[0m\u001b[0;34m,\u001b[0m \u001b[0;34m*\u001b[0m\u001b[0margs\u001b[0m\u001b[0;34m,\u001b[0m \u001b[0;34m**\u001b[0m\u001b[0mkwargs\u001b[0m\u001b[0;34m)\u001b[0m\u001b[0;34m\u001b[0m\u001b[0;34m\u001b[0m\u001b[0m\n\u001b[1;32m    215\u001b[0m         tuner_utils.validate_trial_results(\n",
            "\u001b[0;32m/usr/local/lib/python3.10/dist-packages/keras_tuner/engine/tuner.py\u001b[0m in \u001b[0;36m_try_build\u001b[0;34m(self, hp)\u001b[0m\n\u001b[1;32m    153\u001b[0m         \u001b[0mgc\u001b[0m\u001b[0;34m.\u001b[0m\u001b[0mcollect\u001b[0m\u001b[0;34m(\u001b[0m\u001b[0;34m)\u001b[0m\u001b[0;34m\u001b[0m\u001b[0;34m\u001b[0m\u001b[0m\n\u001b[1;32m    154\u001b[0m \u001b[0;34m\u001b[0m\u001b[0m\n\u001b[0;32m--> 155\u001b[0;31m         \u001b[0mmodel\u001b[0m \u001b[0;34m=\u001b[0m \u001b[0mself\u001b[0m\u001b[0;34m.\u001b[0m\u001b[0m_build_hypermodel\u001b[0m\u001b[0;34m(\u001b[0m\u001b[0mhp\u001b[0m\u001b[0;34m)\u001b[0m\u001b[0;34m\u001b[0m\u001b[0;34m\u001b[0m\u001b[0m\n\u001b[0m\u001b[1;32m    156\u001b[0m         \u001b[0;31m# Stop if `build()` does not return a valid model.\u001b[0m\u001b[0;34m\u001b[0m\u001b[0;34m\u001b[0m\u001b[0m\n\u001b[1;32m    157\u001b[0m         \u001b[0;32mif\u001b[0m \u001b[0;32mnot\u001b[0m \u001b[0misinstance\u001b[0m\u001b[0;34m(\u001b[0m\u001b[0mmodel\u001b[0m\u001b[0;34m,\u001b[0m \u001b[0mkeras\u001b[0m\u001b[0;34m.\u001b[0m\u001b[0mmodels\u001b[0m\u001b[0;34m.\u001b[0m\u001b[0mModel\u001b[0m\u001b[0;34m)\u001b[0m\u001b[0;34m:\u001b[0m\u001b[0;34m\u001b[0m\u001b[0;34m\u001b[0m\u001b[0m\n",
            "\u001b[0;32m/usr/local/lib/python3.10/dist-packages/keras_tuner/engine/tuner.py\u001b[0m in \u001b[0;36m_build_hypermodel\u001b[0;34m(self, hp)\u001b[0m\n\u001b[1;32m    144\u001b[0m     \u001b[0;32mdef\u001b[0m \u001b[0m_build_hypermodel\u001b[0m\u001b[0;34m(\u001b[0m\u001b[0mself\u001b[0m\u001b[0;34m,\u001b[0m \u001b[0mhp\u001b[0m\u001b[0;34m)\u001b[0m\u001b[0;34m:\u001b[0m\u001b[0;34m\u001b[0m\u001b[0;34m\u001b[0m\u001b[0m\n\u001b[1;32m    145\u001b[0m         \u001b[0;32mwith\u001b[0m \u001b[0mmaybe_distribute\u001b[0m\u001b[0;34m(\u001b[0m\u001b[0mself\u001b[0m\u001b[0;34m.\u001b[0m\u001b[0mdistribution_strategy\u001b[0m\u001b[0;34m)\u001b[0m\u001b[0;34m:\u001b[0m\u001b[0;34m\u001b[0m\u001b[0;34m\u001b[0m\u001b[0m\n\u001b[0;32m--> 146\u001b[0;31m             \u001b[0mmodel\u001b[0m \u001b[0;34m=\u001b[0m \u001b[0mself\u001b[0m\u001b[0;34m.\u001b[0m\u001b[0mhypermodel\u001b[0m\u001b[0;34m.\u001b[0m\u001b[0mbuild\u001b[0m\u001b[0;34m(\u001b[0m\u001b[0mhp\u001b[0m\u001b[0;34m)\u001b[0m\u001b[0;34m\u001b[0m\u001b[0;34m\u001b[0m\u001b[0m\n\u001b[0m\u001b[1;32m    147\u001b[0m             \u001b[0mself\u001b[0m\u001b[0;34m.\u001b[0m\u001b[0m_override_compile_args\u001b[0m\u001b[0;34m(\u001b[0m\u001b[0mmodel\u001b[0m\u001b[0;34m)\u001b[0m\u001b[0;34m\u001b[0m\u001b[0;34m\u001b[0m\u001b[0m\n\u001b[1;32m    148\u001b[0m             \u001b[0;32mreturn\u001b[0m \u001b[0mmodel\u001b[0m\u001b[0;34m\u001b[0m\u001b[0;34m\u001b[0m\u001b[0m\n",
            "\u001b[0;32m<ipython-input-27-572210858fb1>\u001b[0m in \u001b[0;36mmodel_builder\u001b[0;34m(hp)\u001b[0m\n\u001b[1;32m     10\u001b[0m   \u001b[0mmodel\u001b[0m\u001b[0;34m.\u001b[0m\u001b[0madd\u001b[0m\u001b[0;34m(\u001b[0m\u001b[0mDense\u001b[0m\u001b[0;34m(\u001b[0m\u001b[0munits\u001b[0m\u001b[0;34m=\u001b[0m\u001b[0mhp_units\u001b[0m\u001b[0;34m,\u001b[0m \u001b[0mactivation\u001b[0m\u001b[0;34m=\u001b[0m\u001b[0;34m'relu'\u001b[0m\u001b[0;34m)\u001b[0m\u001b[0;34m)\u001b[0m\u001b[0;34m\u001b[0m\u001b[0;34m\u001b[0m\u001b[0m\n\u001b[1;32m     11\u001b[0m   \u001b[0;31m# Add output layer\u001b[0m\u001b[0;34m\u001b[0m\u001b[0;34m\u001b[0m\u001b[0m\n\u001b[0;32m---> 12\u001b[0;31m   \u001b[0mmodel\u001b[0m\u001b[0;34m.\u001b[0m\u001b[0madd\u001b[0m\u001b[0;34m(\u001b[0m\u001b[0mDense\u001b[0m\u001b[0;34m(\u001b[0m\u001b[0munits\u001b[0m\u001b[0;34m=\u001b[0m\u001b[0my_train\u001b[0m\u001b[0;34m.\u001b[0m\u001b[0mshape\u001b[0m\u001b[0;34m[\u001b[0m\u001b[0;36m1\u001b[0m\u001b[0;34m]\u001b[0m\u001b[0;34m,\u001b[0m \u001b[0mname\u001b[0m\u001b[0;34m=\u001b[0m\u001b[0;34m'OUTPUT'\u001b[0m\u001b[0;34m,\u001b[0m \u001b[0mactivation\u001b[0m\u001b[0;34m=\u001b[0m\u001b[0;34m'sigmoid'\u001b[0m\u001b[0;34m)\u001b[0m\u001b[0;34m)\u001b[0m\u001b[0;34m\u001b[0m\u001b[0;34m\u001b[0m\u001b[0m\n\u001b[0m\u001b[1;32m     13\u001b[0m \u001b[0;34m\u001b[0m\u001b[0m\n\u001b[1;32m     14\u001b[0m   \u001b[0;31m# Choose best optimizer\u001b[0m\u001b[0;34m\u001b[0m\u001b[0;34m\u001b[0m\u001b[0m\n",
            "\u001b[0;32m/usr/local/lib/python3.10/dist-packages/tensorflow/python/trackable/base.py\u001b[0m in \u001b[0;36m_method_wrapper\u001b[0;34m(self, *args, **kwargs)\u001b[0m\n\u001b[1;32m    203\u001b[0m     \u001b[0mself\u001b[0m\u001b[0;34m.\u001b[0m\u001b[0m_self_setattr_tracking\u001b[0m \u001b[0;34m=\u001b[0m \u001b[0;32mFalse\u001b[0m  \u001b[0;31m# pylint: disable=protected-access\u001b[0m\u001b[0;34m\u001b[0m\u001b[0;34m\u001b[0m\u001b[0m\n\u001b[1;32m    204\u001b[0m     \u001b[0;32mtry\u001b[0m\u001b[0;34m:\u001b[0m\u001b[0;34m\u001b[0m\u001b[0;34m\u001b[0m\u001b[0m\n\u001b[0;32m--> 205\u001b[0;31m       \u001b[0mresult\u001b[0m \u001b[0;34m=\u001b[0m \u001b[0mmethod\u001b[0m\u001b[0;34m(\u001b[0m\u001b[0mself\u001b[0m\u001b[0;34m,\u001b[0m \u001b[0;34m*\u001b[0m\u001b[0margs\u001b[0m\u001b[0;34m,\u001b[0m \u001b[0;34m**\u001b[0m\u001b[0mkwargs\u001b[0m\u001b[0;34m)\u001b[0m\u001b[0;34m\u001b[0m\u001b[0;34m\u001b[0m\u001b[0m\n\u001b[0m\u001b[1;32m    206\u001b[0m     \u001b[0;32mfinally\u001b[0m\u001b[0;34m:\u001b[0m\u001b[0;34m\u001b[0m\u001b[0;34m\u001b[0m\u001b[0m\n\u001b[1;32m    207\u001b[0m       \u001b[0mself\u001b[0m\u001b[0;34m.\u001b[0m\u001b[0m_self_setattr_tracking\u001b[0m \u001b[0;34m=\u001b[0m \u001b[0mprevious_value\u001b[0m  \u001b[0;31m# pylint: disable=protected-access\u001b[0m\u001b[0;34m\u001b[0m\u001b[0;34m\u001b[0m\u001b[0m\n",
            "\u001b[0;32m/usr/local/lib/python3.10/dist-packages/keras/utils/traceback_utils.py\u001b[0m in \u001b[0;36merror_handler\u001b[0;34m(*args, **kwargs)\u001b[0m\n\u001b[1;32m     63\u001b[0m         \u001b[0mfiltered_tb\u001b[0m \u001b[0;34m=\u001b[0m \u001b[0;32mNone\u001b[0m\u001b[0;34m\u001b[0m\u001b[0;34m\u001b[0m\u001b[0m\n\u001b[1;32m     64\u001b[0m         \u001b[0;32mtry\u001b[0m\u001b[0;34m:\u001b[0m\u001b[0;34m\u001b[0m\u001b[0;34m\u001b[0m\u001b[0m\n\u001b[0;32m---> 65\u001b[0;31m             \u001b[0;32mreturn\u001b[0m \u001b[0mfn\u001b[0m\u001b[0;34m(\u001b[0m\u001b[0;34m*\u001b[0m\u001b[0margs\u001b[0m\u001b[0;34m,\u001b[0m \u001b[0;34m**\u001b[0m\u001b[0mkwargs\u001b[0m\u001b[0;34m)\u001b[0m\u001b[0;34m\u001b[0m\u001b[0;34m\u001b[0m\u001b[0m\n\u001b[0m\u001b[1;32m     66\u001b[0m         \u001b[0;32mexcept\u001b[0m \u001b[0mException\u001b[0m \u001b[0;32mas\u001b[0m \u001b[0me\u001b[0m\u001b[0;34m:\u001b[0m\u001b[0;34m\u001b[0m\u001b[0;34m\u001b[0m\u001b[0m\n\u001b[1;32m     67\u001b[0m             \u001b[0mfiltered_tb\u001b[0m \u001b[0;34m=\u001b[0m \u001b[0m_process_traceback_frames\u001b[0m\u001b[0;34m(\u001b[0m\u001b[0me\u001b[0m\u001b[0;34m.\u001b[0m\u001b[0m__traceback__\u001b[0m\u001b[0;34m)\u001b[0m\u001b[0;34m\u001b[0m\u001b[0;34m\u001b[0m\u001b[0m\n",
            "\u001b[0;32m/usr/local/lib/python3.10/dist-packages/keras/engine/sequential.py\u001b[0m in \u001b[0;36madd\u001b[0;34m(self, layer)\u001b[0m\n\u001b[1;32m    234\u001b[0m             \u001b[0;31m# If the model is being built continuously on top of an input layer:\u001b[0m\u001b[0;34m\u001b[0m\u001b[0;34m\u001b[0m\u001b[0m\n\u001b[1;32m    235\u001b[0m             \u001b[0;31m# refresh its output.\u001b[0m\u001b[0;34m\u001b[0m\u001b[0;34m\u001b[0m\u001b[0m\n\u001b[0;32m--> 236\u001b[0;31m             \u001b[0moutput_tensor\u001b[0m \u001b[0;34m=\u001b[0m \u001b[0mlayer\u001b[0m\u001b[0;34m(\u001b[0m\u001b[0mself\u001b[0m\u001b[0;34m.\u001b[0m\u001b[0moutputs\u001b[0m\u001b[0;34m[\u001b[0m\u001b[0;36m0\u001b[0m\u001b[0;34m]\u001b[0m\u001b[0;34m)\u001b[0m\u001b[0;34m\u001b[0m\u001b[0;34m\u001b[0m\u001b[0m\n\u001b[0m\u001b[1;32m    237\u001b[0m             \u001b[0;32mif\u001b[0m \u001b[0mlen\u001b[0m\u001b[0;34m(\u001b[0m\u001b[0mtf\u001b[0m\u001b[0;34m.\u001b[0m\u001b[0mnest\u001b[0m\u001b[0;34m.\u001b[0m\u001b[0mflatten\u001b[0m\u001b[0;34m(\u001b[0m\u001b[0moutput_tensor\u001b[0m\u001b[0;34m)\u001b[0m\u001b[0;34m)\u001b[0m \u001b[0;34m!=\u001b[0m \u001b[0;36m1\u001b[0m\u001b[0;34m:\u001b[0m\u001b[0;34m\u001b[0m\u001b[0;34m\u001b[0m\u001b[0m\n\u001b[1;32m    238\u001b[0m                 \u001b[0;32mraise\u001b[0m \u001b[0mValueError\u001b[0m\u001b[0;34m(\u001b[0m\u001b[0mSINGLE_LAYER_OUTPUT_ERROR_MSG\u001b[0m\u001b[0;34m)\u001b[0m\u001b[0;34m\u001b[0m\u001b[0;34m\u001b[0m\u001b[0m\n",
            "\u001b[0;32m/usr/local/lib/python3.10/dist-packages/keras/utils/traceback_utils.py\u001b[0m in \u001b[0;36merror_handler\u001b[0;34m(*args, **kwargs)\u001b[0m\n\u001b[1;32m     63\u001b[0m         \u001b[0mfiltered_tb\u001b[0m \u001b[0;34m=\u001b[0m \u001b[0;32mNone\u001b[0m\u001b[0;34m\u001b[0m\u001b[0;34m\u001b[0m\u001b[0m\n\u001b[1;32m     64\u001b[0m         \u001b[0;32mtry\u001b[0m\u001b[0;34m:\u001b[0m\u001b[0;34m\u001b[0m\u001b[0;34m\u001b[0m\u001b[0m\n\u001b[0;32m---> 65\u001b[0;31m             \u001b[0;32mreturn\u001b[0m \u001b[0mfn\u001b[0m\u001b[0;34m(\u001b[0m\u001b[0;34m*\u001b[0m\u001b[0margs\u001b[0m\u001b[0;34m,\u001b[0m \u001b[0;34m**\u001b[0m\u001b[0mkwargs\u001b[0m\u001b[0;34m)\u001b[0m\u001b[0;34m\u001b[0m\u001b[0;34m\u001b[0m\u001b[0m\n\u001b[0m\u001b[1;32m     66\u001b[0m         \u001b[0;32mexcept\u001b[0m \u001b[0mException\u001b[0m \u001b[0;32mas\u001b[0m \u001b[0me\u001b[0m\u001b[0;34m:\u001b[0m\u001b[0;34m\u001b[0m\u001b[0;34m\u001b[0m\u001b[0m\n\u001b[1;32m     67\u001b[0m             \u001b[0mfiltered_tb\u001b[0m \u001b[0;34m=\u001b[0m \u001b[0m_process_traceback_frames\u001b[0m\u001b[0;34m(\u001b[0m\u001b[0me\u001b[0m\u001b[0;34m.\u001b[0m\u001b[0m__traceback__\u001b[0m\u001b[0;34m)\u001b[0m\u001b[0;34m\u001b[0m\u001b[0;34m\u001b[0m\u001b[0m\n",
            "\u001b[0;32m/usr/local/lib/python3.10/dist-packages/keras/engine/base_layer.py\u001b[0m in \u001b[0;36m__call__\u001b[0;34m(self, *args, **kwargs)\u001b[0m\n\u001b[1;32m   1056\u001b[0m             \u001b[0mself\u001b[0m\u001b[0;34m,\u001b[0m \u001b[0minputs\u001b[0m\u001b[0;34m,\u001b[0m \u001b[0margs\u001b[0m\u001b[0;34m,\u001b[0m \u001b[0mkwargs\u001b[0m\u001b[0;34m,\u001b[0m \u001b[0minput_list\u001b[0m\u001b[0;34m\u001b[0m\u001b[0;34m\u001b[0m\u001b[0m\n\u001b[1;32m   1057\u001b[0m         ):\n\u001b[0;32m-> 1058\u001b[0;31m             return self._functional_construction_call(\n\u001b[0m\u001b[1;32m   1059\u001b[0m                 \u001b[0minputs\u001b[0m\u001b[0;34m,\u001b[0m \u001b[0margs\u001b[0m\u001b[0;34m,\u001b[0m \u001b[0mkwargs\u001b[0m\u001b[0;34m,\u001b[0m \u001b[0minput_list\u001b[0m\u001b[0;34m\u001b[0m\u001b[0;34m\u001b[0m\u001b[0m\n\u001b[1;32m   1060\u001b[0m             )\n",
            "\u001b[0;32m/usr/local/lib/python3.10/dist-packages/keras/engine/base_layer.py\u001b[0m in \u001b[0;36m_functional_construction_call\u001b[0;34m(self, inputs, args, kwargs, input_list)\u001b[0m\n\u001b[1;32m   2570\u001b[0m             \u001b[0;31m# Check input assumptions set after layer building, e.g. input\u001b[0m\u001b[0;34m\u001b[0m\u001b[0;34m\u001b[0m\u001b[0m\n\u001b[1;32m   2571\u001b[0m             \u001b[0;31m# shape.\u001b[0m\u001b[0;34m\u001b[0m\u001b[0;34m\u001b[0m\u001b[0m\n\u001b[0;32m-> 2572\u001b[0;31m             outputs = self._keras_tensor_symbolic_call(\n\u001b[0m\u001b[1;32m   2573\u001b[0m                 \u001b[0minputs\u001b[0m\u001b[0;34m,\u001b[0m \u001b[0minput_masks\u001b[0m\u001b[0;34m,\u001b[0m \u001b[0margs\u001b[0m\u001b[0;34m,\u001b[0m \u001b[0mkwargs\u001b[0m\u001b[0;34m\u001b[0m\u001b[0;34m\u001b[0m\u001b[0m\n\u001b[1;32m   2574\u001b[0m             )\n",
            "\u001b[0;32m/usr/local/lib/python3.10/dist-packages/keras/engine/base_layer.py\u001b[0m in \u001b[0;36m_keras_tensor_symbolic_call\u001b[0;34m(self, inputs, input_masks, args, kwargs)\u001b[0m\n\u001b[1;32m   2417\u001b[0m             )\n\u001b[1;32m   2418\u001b[0m         \u001b[0;32melse\u001b[0m\u001b[0;34m:\u001b[0m\u001b[0;34m\u001b[0m\u001b[0;34m\u001b[0m\u001b[0m\n\u001b[0;32m-> 2419\u001b[0;31m             return self._infer_output_signature(\n\u001b[0m\u001b[1;32m   2420\u001b[0m                 \u001b[0minputs\u001b[0m\u001b[0;34m,\u001b[0m \u001b[0margs\u001b[0m\u001b[0;34m,\u001b[0m \u001b[0mkwargs\u001b[0m\u001b[0;34m,\u001b[0m \u001b[0minput_masks\u001b[0m\u001b[0;34m\u001b[0m\u001b[0;34m\u001b[0m\u001b[0m\n\u001b[1;32m   2421\u001b[0m             )\n",
            "\u001b[0;32m/usr/local/lib/python3.10/dist-packages/keras/engine/base_layer.py\u001b[0m in \u001b[0;36m_infer_output_signature\u001b[0;34m(self, inputs, args, kwargs, input_masks)\u001b[0m\n\u001b[1;32m   2474\u001b[0m                     \u001b[0;31m# TODO(kaftan): do we maybe_build here, or have we already\u001b[0m\u001b[0;34m\u001b[0m\u001b[0;34m\u001b[0m\u001b[0m\n\u001b[1;32m   2475\u001b[0m                     \u001b[0;31m# done it?\u001b[0m\u001b[0;34m\u001b[0m\u001b[0;34m\u001b[0m\u001b[0m\n\u001b[0;32m-> 2476\u001b[0;31m                     \u001b[0mself\u001b[0m\u001b[0;34m.\u001b[0m\u001b[0m_maybe_build\u001b[0m\u001b[0;34m(\u001b[0m\u001b[0minputs\u001b[0m\u001b[0;34m)\u001b[0m\u001b[0;34m\u001b[0m\u001b[0;34m\u001b[0m\u001b[0m\n\u001b[0m\u001b[1;32m   2477\u001b[0m                     \u001b[0minputs\u001b[0m \u001b[0;34m=\u001b[0m \u001b[0mself\u001b[0m\u001b[0;34m.\u001b[0m\u001b[0m_maybe_cast_inputs\u001b[0m\u001b[0;34m(\u001b[0m\u001b[0minputs\u001b[0m\u001b[0;34m)\u001b[0m\u001b[0;34m\u001b[0m\u001b[0;34m\u001b[0m\u001b[0m\n\u001b[1;32m   2478\u001b[0m                     \u001b[0moutputs\u001b[0m \u001b[0;34m=\u001b[0m \u001b[0mcall_fn\u001b[0m\u001b[0;34m(\u001b[0m\u001b[0minputs\u001b[0m\u001b[0;34m,\u001b[0m \u001b[0;34m*\u001b[0m\u001b[0margs\u001b[0m\u001b[0;34m,\u001b[0m \u001b[0;34m**\u001b[0m\u001b[0mkwargs\u001b[0m\u001b[0;34m)\u001b[0m\u001b[0;34m\u001b[0m\u001b[0;34m\u001b[0m\u001b[0m\n",
            "\u001b[0;32m/usr/local/lib/python3.10/dist-packages/keras/engine/base_layer.py\u001b[0m in \u001b[0;36m_maybe_build\u001b[0;34m(self, inputs)\u001b[0m\n\u001b[1;32m   3021\u001b[0m                 \u001b[0;31m# later pollute any eager operations.\u001b[0m\u001b[0;34m\u001b[0m\u001b[0;34m\u001b[0m\u001b[0m\n\u001b[1;32m   3022\u001b[0m                 \u001b[0;32mwith\u001b[0m \u001b[0mtf_utils\u001b[0m\u001b[0;34m.\u001b[0m\u001b[0mmaybe_init_scope\u001b[0m\u001b[0;34m(\u001b[0m\u001b[0mself\u001b[0m\u001b[0;34m)\u001b[0m\u001b[0;34m:\u001b[0m\u001b[0;34m\u001b[0m\u001b[0;34m\u001b[0m\u001b[0m\n\u001b[0;32m-> 3023\u001b[0;31m                     \u001b[0mself\u001b[0m\u001b[0;34m.\u001b[0m\u001b[0mbuild\u001b[0m\u001b[0;34m(\u001b[0m\u001b[0minput_shapes\u001b[0m\u001b[0;34m)\u001b[0m\u001b[0;34m\u001b[0m\u001b[0;34m\u001b[0m\u001b[0m\n\u001b[0m\u001b[1;32m   3024\u001b[0m             \u001b[0;31m# We must set also ensure that the layer is marked as built, and the\u001b[0m\u001b[0;34m\u001b[0m\u001b[0;34m\u001b[0m\u001b[0m\n\u001b[1;32m   3025\u001b[0m             \u001b[0;31m# build shape is stored since user defined build functions may not\u001b[0m\u001b[0;34m\u001b[0m\u001b[0;34m\u001b[0m\u001b[0m\n",
            "\u001b[0;32m/usr/local/lib/python3.10/dist-packages/keras/layers/core/dense.py\u001b[0m in \u001b[0;36mbuild\u001b[0;34m(self, input_shape)\u001b[0m\n\u001b[1;32m    152\u001b[0m             )\n\u001b[1;32m    153\u001b[0m         \u001b[0mself\u001b[0m\u001b[0;34m.\u001b[0m\u001b[0minput_spec\u001b[0m \u001b[0;34m=\u001b[0m \u001b[0mInputSpec\u001b[0m\u001b[0;34m(\u001b[0m\u001b[0mmin_ndim\u001b[0m\u001b[0;34m=\u001b[0m\u001b[0;36m2\u001b[0m\u001b[0;34m,\u001b[0m \u001b[0maxes\u001b[0m\u001b[0;34m=\u001b[0m\u001b[0;34m{\u001b[0m\u001b[0;34m-\u001b[0m\u001b[0;36m1\u001b[0m\u001b[0;34m:\u001b[0m \u001b[0mlast_dim\u001b[0m\u001b[0;34m}\u001b[0m\u001b[0;34m)\u001b[0m\u001b[0;34m\u001b[0m\u001b[0;34m\u001b[0m\u001b[0m\n\u001b[0;32m--> 154\u001b[0;31m         self.kernel = self.add_weight(\n\u001b[0m\u001b[1;32m    155\u001b[0m             \u001b[0;34m\"kernel\"\u001b[0m\u001b[0;34m,\u001b[0m\u001b[0;34m\u001b[0m\u001b[0;34m\u001b[0m\u001b[0m\n\u001b[1;32m    156\u001b[0m             \u001b[0mshape\u001b[0m\u001b[0;34m=\u001b[0m\u001b[0;34m[\u001b[0m\u001b[0mlast_dim\u001b[0m\u001b[0;34m,\u001b[0m \u001b[0mself\u001b[0m\u001b[0;34m.\u001b[0m\u001b[0munits\u001b[0m\u001b[0;34m]\u001b[0m\u001b[0;34m,\u001b[0m\u001b[0;34m\u001b[0m\u001b[0;34m\u001b[0m\u001b[0m\n",
            "\u001b[0;32m/usr/local/lib/python3.10/dist-packages/keras/engine/base_layer.py\u001b[0m in \u001b[0;36madd_weight\u001b[0;34m(self, name, shape, dtype, initializer, regularizer, trainable, constraint, use_resource, synchronization, aggregation, **kwargs)\u001b[0m\n\u001b[1;32m    710\u001b[0m             \u001b[0mgetter\u001b[0m \u001b[0;34m=\u001b[0m \u001b[0mfunctools\u001b[0m\u001b[0;34m.\u001b[0m\u001b[0mpartial\u001b[0m\u001b[0;34m(\u001b[0m\u001b[0mgetter\u001b[0m\u001b[0;34m,\u001b[0m \u001b[0mlayout\u001b[0m\u001b[0;34m=\u001b[0m\u001b[0mlayout\u001b[0m\u001b[0;34m)\u001b[0m\u001b[0;34m\u001b[0m\u001b[0;34m\u001b[0m\u001b[0m\n\u001b[1;32m    711\u001b[0m \u001b[0;34m\u001b[0m\u001b[0m\n\u001b[0;32m--> 712\u001b[0;31m         variable = self._add_variable_with_custom_getter(\n\u001b[0m\u001b[1;32m    713\u001b[0m             \u001b[0mname\u001b[0m\u001b[0;34m=\u001b[0m\u001b[0mname\u001b[0m\u001b[0;34m,\u001b[0m\u001b[0;34m\u001b[0m\u001b[0;34m\u001b[0m\u001b[0m\n\u001b[1;32m    714\u001b[0m             \u001b[0mshape\u001b[0m\u001b[0;34m=\u001b[0m\u001b[0mshape\u001b[0m\u001b[0;34m,\u001b[0m\u001b[0;34m\u001b[0m\u001b[0;34m\u001b[0m\u001b[0m\n",
            "\u001b[0;32m/usr/local/lib/python3.10/dist-packages/tensorflow/python/trackable/base.py\u001b[0m in \u001b[0;36m_add_variable_with_custom_getter\u001b[0;34m(self, name, shape, dtype, initializer, getter, overwrite, **kwargs_for_getter)\u001b[0m\n\u001b[1;32m    487\u001b[0m         \u001b[0;31m# \"best effort\" to set the initializer with the highest restore UID.\u001b[0m\u001b[0;34m\u001b[0m\u001b[0;34m\u001b[0m\u001b[0m\n\u001b[1;32m    488\u001b[0m         \u001b[0minitializer\u001b[0m \u001b[0;34m=\u001b[0m \u001b[0mcheckpoint_initializer\u001b[0m\u001b[0;34m\u001b[0m\u001b[0;34m\u001b[0m\u001b[0m\n\u001b[0;32m--> 489\u001b[0;31m     new_variable = getter(\n\u001b[0m\u001b[1;32m    490\u001b[0m         \u001b[0mname\u001b[0m\u001b[0;34m=\u001b[0m\u001b[0mname\u001b[0m\u001b[0;34m,\u001b[0m\u001b[0;34m\u001b[0m\u001b[0;34m\u001b[0m\u001b[0m\n\u001b[1;32m    491\u001b[0m         \u001b[0mshape\u001b[0m\u001b[0;34m=\u001b[0m\u001b[0mshape\u001b[0m\u001b[0;34m,\u001b[0m\u001b[0;34m\u001b[0m\u001b[0;34m\u001b[0m\u001b[0m\n",
            "\u001b[0;32m/usr/local/lib/python3.10/dist-packages/keras/engine/base_layer_utils.py\u001b[0m in \u001b[0;36mmake_variable\u001b[0;34m(name, shape, dtype, initializer, trainable, caching_device, validate_shape, constraint, use_resource, collections, synchronization, aggregation, partitioner, layout)\u001b[0m\n\u001b[1;32m    132\u001b[0m         \u001b[0;31m# However, this breaks legacy (Estimator) checkpoints because\u001b[0m\u001b[0;34m\u001b[0m\u001b[0;34m\u001b[0m\u001b[0m\n\u001b[1;32m    133\u001b[0m         \u001b[0;31m# it changes variable names. Remove this when V1 is fully deprecated.\u001b[0m\u001b[0;34m\u001b[0m\u001b[0;34m\u001b[0m\u001b[0m\n\u001b[0;32m--> 134\u001b[0;31m         return tf1.Variable(\n\u001b[0m\u001b[1;32m    135\u001b[0m             \u001b[0minitial_value\u001b[0m\u001b[0;34m=\u001b[0m\u001b[0minit_val\u001b[0m\u001b[0;34m,\u001b[0m\u001b[0;34m\u001b[0m\u001b[0;34m\u001b[0m\u001b[0m\n\u001b[1;32m    136\u001b[0m             \u001b[0mname\u001b[0m\u001b[0;34m=\u001b[0m\u001b[0mname\u001b[0m\u001b[0;34m,\u001b[0m\u001b[0;34m\u001b[0m\u001b[0;34m\u001b[0m\u001b[0m\n",
            "\u001b[0;32m/usr/local/lib/python3.10/dist-packages/tensorflow/python/util/traceback_utils.py\u001b[0m in \u001b[0;36merror_handler\u001b[0;34m(*args, **kwargs)\u001b[0m\n\u001b[1;32m    148\u001b[0m     \u001b[0mfiltered_tb\u001b[0m \u001b[0;34m=\u001b[0m \u001b[0;32mNone\u001b[0m\u001b[0;34m\u001b[0m\u001b[0;34m\u001b[0m\u001b[0m\n\u001b[1;32m    149\u001b[0m     \u001b[0;32mtry\u001b[0m\u001b[0;34m:\u001b[0m\u001b[0;34m\u001b[0m\u001b[0;34m\u001b[0m\u001b[0m\n\u001b[0;32m--> 150\u001b[0;31m       \u001b[0;32mreturn\u001b[0m \u001b[0mfn\u001b[0m\u001b[0;34m(\u001b[0m\u001b[0;34m*\u001b[0m\u001b[0margs\u001b[0m\u001b[0;34m,\u001b[0m \u001b[0;34m**\u001b[0m\u001b[0mkwargs\u001b[0m\u001b[0;34m)\u001b[0m\u001b[0;34m\u001b[0m\u001b[0;34m\u001b[0m\u001b[0m\n\u001b[0m\u001b[1;32m    151\u001b[0m     \u001b[0;32mexcept\u001b[0m \u001b[0mException\u001b[0m \u001b[0;32mas\u001b[0m \u001b[0me\u001b[0m\u001b[0;34m:\u001b[0m\u001b[0;34m\u001b[0m\u001b[0;34m\u001b[0m\u001b[0m\n\u001b[1;32m    152\u001b[0m       \u001b[0mfiltered_tb\u001b[0m \u001b[0;34m=\u001b[0m \u001b[0m_process_traceback_frames\u001b[0m\u001b[0;34m(\u001b[0m\u001b[0me\u001b[0m\u001b[0;34m.\u001b[0m\u001b[0m__traceback__\u001b[0m\u001b[0;34m)\u001b[0m\u001b[0;34m\u001b[0m\u001b[0;34m\u001b[0m\u001b[0m\n",
            "\u001b[0;32m/usr/local/lib/python3.10/dist-packages/tensorflow/python/ops/variables.py\u001b[0m in \u001b[0;36m__call__\u001b[0;34m(cls, *args, **kwargs)\u001b[0m\n\u001b[1;32m    283\u001b[0m   \u001b[0;32mdef\u001b[0m \u001b[0m__call__\u001b[0m\u001b[0;34m(\u001b[0m\u001b[0mcls\u001b[0m\u001b[0;34m,\u001b[0m \u001b[0;34m*\u001b[0m\u001b[0margs\u001b[0m\u001b[0;34m,\u001b[0m \u001b[0;34m**\u001b[0m\u001b[0mkwargs\u001b[0m\u001b[0;34m)\u001b[0m\u001b[0;34m:\u001b[0m\u001b[0;34m\u001b[0m\u001b[0;34m\u001b[0m\u001b[0m\n\u001b[1;32m    284\u001b[0m     \u001b[0;32mif\u001b[0m \u001b[0mcls\u001b[0m \u001b[0;32mis\u001b[0m \u001b[0mVariableV1\u001b[0m\u001b[0;34m:\u001b[0m\u001b[0;34m\u001b[0m\u001b[0;34m\u001b[0m\u001b[0m\n\u001b[0;32m--> 285\u001b[0;31m       \u001b[0;32mreturn\u001b[0m \u001b[0mcls\u001b[0m\u001b[0;34m.\u001b[0m\u001b[0m_variable_v1_call\u001b[0m\u001b[0;34m(\u001b[0m\u001b[0;34m*\u001b[0m\u001b[0margs\u001b[0m\u001b[0;34m,\u001b[0m \u001b[0;34m**\u001b[0m\u001b[0mkwargs\u001b[0m\u001b[0;34m)\u001b[0m\u001b[0;34m\u001b[0m\u001b[0;34m\u001b[0m\u001b[0m\n\u001b[0m\u001b[1;32m    286\u001b[0m     \u001b[0;32melif\u001b[0m \u001b[0mcls\u001b[0m \u001b[0;32mis\u001b[0m \u001b[0mVariable\u001b[0m\u001b[0;34m:\u001b[0m\u001b[0;34m\u001b[0m\u001b[0;34m\u001b[0m\u001b[0m\n\u001b[1;32m    287\u001b[0m       \u001b[0;32mreturn\u001b[0m \u001b[0mcls\u001b[0m\u001b[0;34m.\u001b[0m\u001b[0m_variable_v2_call\u001b[0m\u001b[0;34m(\u001b[0m\u001b[0;34m*\u001b[0m\u001b[0margs\u001b[0m\u001b[0;34m,\u001b[0m \u001b[0;34m**\u001b[0m\u001b[0mkwargs\u001b[0m\u001b[0;34m)\u001b[0m\u001b[0;34m\u001b[0m\u001b[0;34m\u001b[0m\u001b[0m\n",
            "\u001b[0;32m/usr/local/lib/python3.10/dist-packages/tensorflow/python/ops/variables.py\u001b[0m in \u001b[0;36m_variable_v1_call\u001b[0;34m(cls, initial_value, trainable, collections, validate_shape, caching_device, name, variable_def, dtype, expected_shape, import_scope, constraint, use_resource, synchronization, aggregation, shape)\u001b[0m\n\u001b[1;32m    224\u001b[0m     \u001b[0;32mif\u001b[0m \u001b[0maggregation\u001b[0m \u001b[0;32mis\u001b[0m \u001b[0;32mNone\u001b[0m\u001b[0;34m:\u001b[0m\u001b[0;34m\u001b[0m\u001b[0;34m\u001b[0m\u001b[0m\n\u001b[1;32m    225\u001b[0m       \u001b[0maggregation\u001b[0m \u001b[0;34m=\u001b[0m \u001b[0mVariableAggregation\u001b[0m\u001b[0;34m.\u001b[0m\u001b[0mNONE\u001b[0m\u001b[0;34m\u001b[0m\u001b[0;34m\u001b[0m\u001b[0m\n\u001b[0;32m--> 226\u001b[0;31m     return previous_getter(\n\u001b[0m\u001b[1;32m    227\u001b[0m         \u001b[0minitial_value\u001b[0m\u001b[0;34m=\u001b[0m\u001b[0minitial_value\u001b[0m\u001b[0;34m,\u001b[0m\u001b[0;34m\u001b[0m\u001b[0;34m\u001b[0m\u001b[0m\n\u001b[1;32m    228\u001b[0m         \u001b[0mtrainable\u001b[0m\u001b[0;34m=\u001b[0m\u001b[0mtrainable\u001b[0m\u001b[0;34m,\u001b[0m\u001b[0;34m\u001b[0m\u001b[0;34m\u001b[0m\u001b[0m\n",
            "\u001b[0;32m/usr/local/lib/python3.10/dist-packages/tensorflow/python/ops/variables.py\u001b[0m in \u001b[0;36m<lambda>\u001b[0;34m(**kwargs)\u001b[0m\n\u001b[1;32m    217\u001b[0m                         shape=None):\n\u001b[1;32m    218\u001b[0m     \u001b[0;34m\"\"\"Call on Variable class. Useful to force the signature.\"\"\"\u001b[0m\u001b[0;34m\u001b[0m\u001b[0;34m\u001b[0m\u001b[0m\n\u001b[0;32m--> 219\u001b[0;31m     \u001b[0mprevious_getter\u001b[0m \u001b[0;34m=\u001b[0m \u001b[0;32mlambda\u001b[0m \u001b[0;34m**\u001b[0m\u001b[0mkwargs\u001b[0m\u001b[0;34m:\u001b[0m \u001b[0mdefault_variable_creator\u001b[0m\u001b[0;34m(\u001b[0m\u001b[0;32mNone\u001b[0m\u001b[0;34m,\u001b[0m \u001b[0;34m**\u001b[0m\u001b[0mkwargs\u001b[0m\u001b[0;34m)\u001b[0m\u001b[0;34m\u001b[0m\u001b[0;34m\u001b[0m\u001b[0m\n\u001b[0m\u001b[1;32m    220\u001b[0m     \u001b[0;32mfor\u001b[0m \u001b[0m_\u001b[0m\u001b[0;34m,\u001b[0m \u001b[0mgetter\u001b[0m \u001b[0;32min\u001b[0m \u001b[0mops\u001b[0m\u001b[0;34m.\u001b[0m\u001b[0mget_default_graph\u001b[0m\u001b[0;34m(\u001b[0m\u001b[0;34m)\u001b[0m\u001b[0;34m.\u001b[0m\u001b[0m_variable_creator_stack\u001b[0m\u001b[0;34m:\u001b[0m  \u001b[0;31m# pylint: disable=protected-access\u001b[0m\u001b[0;34m\u001b[0m\u001b[0;34m\u001b[0m\u001b[0m\n\u001b[1;32m    221\u001b[0m       \u001b[0mprevious_getter\u001b[0m \u001b[0;34m=\u001b[0m \u001b[0m_make_getter\u001b[0m\u001b[0;34m(\u001b[0m\u001b[0mgetter\u001b[0m\u001b[0;34m,\u001b[0m \u001b[0mprevious_getter\u001b[0m\u001b[0;34m)\u001b[0m\u001b[0;34m\u001b[0m\u001b[0;34m\u001b[0m\u001b[0m\n",
            "\u001b[0;32m/usr/local/lib/python3.10/dist-packages/tensorflow/python/ops/variable_scope.py\u001b[0m in \u001b[0;36mdefault_variable_creator\u001b[0;34m(next_creator, **kwargs)\u001b[0m\n\u001b[1;32m   2705\u001b[0m   \u001b[0;32mif\u001b[0m \u001b[0muse_resource\u001b[0m\u001b[0;34m:\u001b[0m\u001b[0;34m\u001b[0m\u001b[0;34m\u001b[0m\u001b[0m\n\u001b[1;32m   2706\u001b[0m     \u001b[0mdistribute_strategy\u001b[0m \u001b[0;34m=\u001b[0m \u001b[0mkwargs\u001b[0m\u001b[0;34m.\u001b[0m\u001b[0mget\u001b[0m\u001b[0;34m(\u001b[0m\u001b[0;34m\"distribute_strategy\"\u001b[0m\u001b[0;34m,\u001b[0m \u001b[0;32mNone\u001b[0m\u001b[0;34m)\u001b[0m\u001b[0;34m\u001b[0m\u001b[0;34m\u001b[0m\u001b[0m\n\u001b[0;32m-> 2707\u001b[0;31m     return resource_variable_ops.ResourceVariable(\n\u001b[0m\u001b[1;32m   2708\u001b[0m         \u001b[0minitial_value\u001b[0m\u001b[0;34m=\u001b[0m\u001b[0minitial_value\u001b[0m\u001b[0;34m,\u001b[0m\u001b[0;34m\u001b[0m\u001b[0;34m\u001b[0m\u001b[0m\n\u001b[1;32m   2709\u001b[0m         \u001b[0mtrainable\u001b[0m\u001b[0;34m=\u001b[0m\u001b[0mtrainable\u001b[0m\u001b[0;34m,\u001b[0m\u001b[0;34m\u001b[0m\u001b[0;34m\u001b[0m\u001b[0m\n",
            "\u001b[0;32m/usr/local/lib/python3.10/dist-packages/tensorflow/python/util/traceback_utils.py\u001b[0m in \u001b[0;36merror_handler\u001b[0;34m(*args, **kwargs)\u001b[0m\n\u001b[1;32m    148\u001b[0m     \u001b[0mfiltered_tb\u001b[0m \u001b[0;34m=\u001b[0m \u001b[0;32mNone\u001b[0m\u001b[0;34m\u001b[0m\u001b[0;34m\u001b[0m\u001b[0m\n\u001b[1;32m    149\u001b[0m     \u001b[0;32mtry\u001b[0m\u001b[0;34m:\u001b[0m\u001b[0;34m\u001b[0m\u001b[0;34m\u001b[0m\u001b[0m\n\u001b[0;32m--> 150\u001b[0;31m       \u001b[0;32mreturn\u001b[0m \u001b[0mfn\u001b[0m\u001b[0;34m(\u001b[0m\u001b[0;34m*\u001b[0m\u001b[0margs\u001b[0m\u001b[0;34m,\u001b[0m \u001b[0;34m**\u001b[0m\u001b[0mkwargs\u001b[0m\u001b[0;34m)\u001b[0m\u001b[0;34m\u001b[0m\u001b[0;34m\u001b[0m\u001b[0m\n\u001b[0m\u001b[1;32m    151\u001b[0m     \u001b[0;32mexcept\u001b[0m \u001b[0mException\u001b[0m \u001b[0;32mas\u001b[0m \u001b[0me\u001b[0m\u001b[0;34m:\u001b[0m\u001b[0;34m\u001b[0m\u001b[0;34m\u001b[0m\u001b[0m\n\u001b[1;32m    152\u001b[0m       \u001b[0mfiltered_tb\u001b[0m \u001b[0;34m=\u001b[0m \u001b[0m_process_traceback_frames\u001b[0m\u001b[0;34m(\u001b[0m\u001b[0me\u001b[0m\u001b[0;34m.\u001b[0m\u001b[0m__traceback__\u001b[0m\u001b[0;34m)\u001b[0m\u001b[0;34m\u001b[0m\u001b[0;34m\u001b[0m\u001b[0m\n",
            "\u001b[0;32m/usr/local/lib/python3.10/dist-packages/tensorflow/python/ops/variables.py\u001b[0m in \u001b[0;36m__call__\u001b[0;34m(cls, *args, **kwargs)\u001b[0m\n\u001b[1;32m    287\u001b[0m       \u001b[0;32mreturn\u001b[0m \u001b[0mcls\u001b[0m\u001b[0;34m.\u001b[0m\u001b[0m_variable_v2_call\u001b[0m\u001b[0;34m(\u001b[0m\u001b[0;34m*\u001b[0m\u001b[0margs\u001b[0m\u001b[0;34m,\u001b[0m \u001b[0;34m**\u001b[0m\u001b[0mkwargs\u001b[0m\u001b[0;34m)\u001b[0m\u001b[0;34m\u001b[0m\u001b[0;34m\u001b[0m\u001b[0m\n\u001b[1;32m    288\u001b[0m     \u001b[0;32melse\u001b[0m\u001b[0;34m:\u001b[0m\u001b[0;34m\u001b[0m\u001b[0;34m\u001b[0m\u001b[0m\n\u001b[0;32m--> 289\u001b[0;31m       \u001b[0;32mreturn\u001b[0m \u001b[0msuper\u001b[0m\u001b[0;34m(\u001b[0m\u001b[0mVariableMetaclass\u001b[0m\u001b[0;34m,\u001b[0m \u001b[0mcls\u001b[0m\u001b[0;34m)\u001b[0m\u001b[0;34m.\u001b[0m\u001b[0m__call__\u001b[0m\u001b[0;34m(\u001b[0m\u001b[0;34m*\u001b[0m\u001b[0margs\u001b[0m\u001b[0;34m,\u001b[0m \u001b[0;34m**\u001b[0m\u001b[0mkwargs\u001b[0m\u001b[0;34m)\u001b[0m\u001b[0;34m\u001b[0m\u001b[0;34m\u001b[0m\u001b[0m\n\u001b[0m\u001b[1;32m    290\u001b[0m \u001b[0;34m\u001b[0m\u001b[0m\n\u001b[1;32m    291\u001b[0m \u001b[0;34m\u001b[0m\u001b[0m\n",
            "\u001b[0;32m/usr/local/lib/python3.10/dist-packages/tensorflow/python/ops/resource_variable_ops.py\u001b[0m in \u001b[0;36m__init__\u001b[0;34m(self, initial_value, trainable, collections, validate_shape, caching_device, name, dtype, variable_def, import_scope, constraint, distribute_strategy, synchronization, aggregation, shape, handle, experimental_enable_variable_lifting)\u001b[0m\n\u001b[1;32m   1766\u001b[0m                              handle=handle)\n\u001b[1;32m   1767\u001b[0m     \u001b[0;32melse\u001b[0m\u001b[0;34m:\u001b[0m\u001b[0;34m\u001b[0m\u001b[0;34m\u001b[0m\u001b[0m\n\u001b[0;32m-> 1768\u001b[0;31m       self._init_from_args(\n\u001b[0m\u001b[1;32m   1769\u001b[0m           \u001b[0minitial_value\u001b[0m\u001b[0;34m=\u001b[0m\u001b[0minitial_value\u001b[0m\u001b[0;34m,\u001b[0m\u001b[0;34m\u001b[0m\u001b[0;34m\u001b[0m\u001b[0m\n\u001b[1;32m   1770\u001b[0m           \u001b[0mtrainable\u001b[0m\u001b[0;34m=\u001b[0m\u001b[0mtrainable\u001b[0m\u001b[0;34m,\u001b[0m\u001b[0;34m\u001b[0m\u001b[0;34m\u001b[0m\u001b[0m\n",
            "\u001b[0;32m/usr/local/lib/python3.10/dist-packages/tensorflow/python/ops/resource_variable_ops.py\u001b[0m in \u001b[0;36m_init_from_args\u001b[0;34m(self, initial_value, trainable, collections, caching_device, name, dtype, constraint, synchronization, aggregation, distribute_strategy, shape, validate_shape, experimental_enable_variable_lifting)\u001b[0m\n\u001b[1;32m   2025\u001b[0m               \u001b[0mcached_value\u001b[0m \u001b[0;34m=\u001b[0m \u001b[0;32mNone\u001b[0m\u001b[0;34m\u001b[0m\u001b[0;34m\u001b[0m\u001b[0m\n\u001b[1;32m   2026\u001b[0m         \u001b[0;32melse\u001b[0m\u001b[0;34m:\u001b[0m\u001b[0;34m\u001b[0m\u001b[0;34m\u001b[0m\u001b[0m\n\u001b[0;32m-> 2027\u001b[0;31m           \u001b[0mgen_resource_variable_ops\u001b[0m\u001b[0;34m.\u001b[0m\u001b[0massign_variable_op\u001b[0m\u001b[0;34m(\u001b[0m\u001b[0mhandle\u001b[0m\u001b[0;34m,\u001b[0m \u001b[0minitial_value\u001b[0m\u001b[0;34m)\u001b[0m\u001b[0;34m\u001b[0m\u001b[0;34m\u001b[0m\u001b[0m\n\u001b[0m\u001b[1;32m   2028\u001b[0m           \u001b[0mis_initialized_op\u001b[0m \u001b[0;34m=\u001b[0m \u001b[0;32mNone\u001b[0m\u001b[0;34m\u001b[0m\u001b[0;34m\u001b[0m\u001b[0m\n\u001b[1;32m   2029\u001b[0m           \u001b[0minitializer_op\u001b[0m \u001b[0;34m=\u001b[0m \u001b[0;32mNone\u001b[0m\u001b[0;34m\u001b[0m\u001b[0;34m\u001b[0m\u001b[0m\n",
            "\u001b[0;32m/usr/local/lib/python3.10/dist-packages/tensorflow/python/ops/gen_resource_variable_ops.py\u001b[0m in \u001b[0;36massign_variable_op\u001b[0;34m(resource, value, validate_shape, name)\u001b[0m\n\u001b[1;32m    139\u001b[0m   \u001b[0;32mif\u001b[0m \u001b[0mtld\u001b[0m\u001b[0;34m.\u001b[0m\u001b[0mis_eager\u001b[0m\u001b[0;34m:\u001b[0m\u001b[0;34m\u001b[0m\u001b[0;34m\u001b[0m\u001b[0m\n\u001b[1;32m    140\u001b[0m     \u001b[0;32mtry\u001b[0m\u001b[0;34m:\u001b[0m\u001b[0;34m\u001b[0m\u001b[0;34m\u001b[0m\u001b[0m\n\u001b[0;32m--> 141\u001b[0;31m       _result = pywrap_tfe.TFE_Py_FastPathExecute(\n\u001b[0m\u001b[1;32m    142\u001b[0m         \u001b[0m_ctx\u001b[0m\u001b[0;34m,\u001b[0m \u001b[0;34m\"AssignVariableOp\"\u001b[0m\u001b[0;34m,\u001b[0m \u001b[0mname\u001b[0m\u001b[0;34m,\u001b[0m \u001b[0mresource\u001b[0m\u001b[0;34m,\u001b[0m \u001b[0mvalue\u001b[0m\u001b[0;34m,\u001b[0m \u001b[0;34m\"validate_shape\"\u001b[0m\u001b[0;34m,\u001b[0m\u001b[0;34m\u001b[0m\u001b[0;34m\u001b[0m\u001b[0m\n\u001b[1;32m    143\u001b[0m         validate_shape)\n",
            "\u001b[0;31mKeyboardInterrupt\u001b[0m: "
          ]
        }
      ],
      "source": [
        "# Make an initial quick exploration of the hyperparam space\n",
        "tuner.search(x_train, y_train, epochs=10, validation_split=0.1)"
      ]
    },
    {
      "cell_type": "code",
      "execution_count": null,
      "metadata": {
        "colab": {
          "base_uri": "https://localhost:8080/"
        },
        "id": "PhQeUw8Lmqbx",
        "outputId": "0e3e98a2-0125-4eb7-87c9-a7626600c879"
      },
      "outputs": [
        {
          "name": "stdout",
          "output_type": "stream",
          "text": [
            "Model: \"sequential\"\n",
            "_________________________________________________________________\n",
            " Layer (type)                Output Shape              Param #   \n",
            "=================================================================\n",
            " dense (Dense)               (None, 960)               27840     \n",
            "                                                                 \n",
            " OUTPUT (Dense)              (None, 2)                 1922      \n",
            "                                                                 \n",
            "=================================================================\n",
            "Total params: 29,762\n",
            "Trainable params: 29,762\n",
            "Non-trainable params: 0\n",
            "_________________________________________________________________\n"
          ]
        }
      ],
      "source": [
        "# Get the top model\n",
        "best_models = tuner.get_best_models()\n",
        "best_model = best_models[0]\n",
        "best_model.summary()"
      ]
    },
    {
      "cell_type": "code",
      "execution_count": null,
      "metadata": {
        "colab": {
          "base_uri": "https://localhost:8080/"
        },
        "id": "pNR0VS3zmqgP",
        "outputId": "8dec862f-0de6-4955-9865-74fa1270659d"
      },
      "outputs": [
        {
          "name": "stdout",
          "output_type": "stream",
          "text": [
            "Results summary\n",
            "Results in ./untitled_project\n",
            "Showing 10 best trials\n",
            "<keras_tuner.engine.objective.Objective object at 0x7fb6602e3af0>\n",
            "Trial summary\n",
            "Hyperparameters:\n",
            "units: 960\n",
            "optimizer: adagrad\n",
            "Score: 0.2404097467660904\n",
            "Trial summary\n",
            "Hyperparameters:\n",
            "units: 896\n",
            "optimizer: adam\n",
            "Score: 0.2759658694267273\n",
            "Trial summary\n",
            "Hyperparameters:\n",
            "units: 576\n",
            "optimizer: adagrad\n",
            "Score: 0.28821346163749695\n",
            "Trial summary\n",
            "Hyperparameters:\n",
            "units: 704\n",
            "optimizer: adam\n",
            "Score: 0.3020375967025757\n",
            "Trial summary\n",
            "Hyperparameters:\n",
            "units: 704\n",
            "optimizer: adagrad\n",
            "Score: 0.3062101900577545\n",
            "Trial summary\n",
            "Hyperparameters:\n",
            "units: 960\n",
            "optimizer: adam\n",
            "Score: 0.32970574498176575\n",
            "Trial summary\n",
            "Hyperparameters:\n",
            "units: 320\n",
            "optimizer: adam\n",
            "Score: 0.34830552339553833\n",
            "Trial summary\n",
            "Hyperparameters:\n",
            "units: 768\n",
            "optimizer: adam\n",
            "Score: 0.3536406457424164\n",
            "Trial summary\n",
            "Hyperparameters:\n",
            "units: 512\n",
            "optimizer: adagrad\n",
            "Score: 0.37855640053749084\n",
            "Trial summary\n",
            "Hyperparameters:\n",
            "units: 256\n",
            "optimizer: adam\n",
            "Score: 0.3847929537296295\n"
          ]
        }
      ],
      "source": [
        "# See top best results\n",
        "tuner.results_summary()"
      ]
    },
    {
      "cell_type": "code",
      "execution_count": null,
      "metadata": {
        "colab": {
          "base_uri": "https://localhost:8080/"
        },
        "id": "Lz90Elusm48w",
        "outputId": "d6b76fee-aa11-4e60-8e12-4f5f20567845"
      },
      "outputs": [
        {
          "data": {
            "text/plain": [
              "{'units': 960, 'optimizer': 'adagrad'}"
            ]
          },
          "execution_count": 28,
          "metadata": {},
          "output_type": "execute_result"
        }
      ],
      "source": [
        "# Retrieve the best combination of hyperparams\n",
        "best_hps = tuner.get_best_hyperparameters()[0]\n",
        "best_hps.values"
      ]
    },
    {
      "cell_type": "code",
      "execution_count": null,
      "metadata": {
        "colab": {
          "base_uri": "https://localhost:8080/"
        },
        "id": "BjtVy3V_m4_P",
        "outputId": "0a3e9ec8-3a40-40a7-8edd-a4d73a077484"
      },
      "outputs": [
        {
          "name": "stdout",
          "output_type": "stream",
          "text": [
            "Model: \"sequential_1\"\n",
            "_________________________________________________________________\n",
            " Layer (type)                Output Shape              Param #   \n",
            "=================================================================\n",
            " dense_1 (Dense)             (None, 960)               27840     \n",
            "                                                                 \n",
            " OUTPUT (Dense)              (None, 2)                 1922      \n",
            "                                                                 \n",
            "=================================================================\n",
            "Total params: 29,762\n",
            "Trainable params: 29,762\n",
            "Non-trainable params: 0\n",
            "_________________________________________________________________\n"
          ]
        }
      ],
      "source": [
        "# Create a new model using the best hyperparams\n",
        "DNN = model_builder(best_hps)\n",
        "DNN.summary()"
      ]
    },
    {
      "cell_type": "code",
      "execution_count": null,
      "metadata": {
        "colab": {
          "base_uri": "https://localhost:8080/"
        },
        "id": "fIEdW5Rfm5CH",
        "outputId": "76f18da5-4c68-4685-e25d-f9abbb4b6c14"
      },
      "outputs": [
        {
          "name": "stdout",
          "output_type": "stream",
          "text": [
            "Epoch 1/100\n",
            "403/403 [==============================] - 1s 3ms/step - loss: 61.4688 - mape: 6553068.5000 - val_loss: 1.0121 - val_mape: 2839496.2500\n",
            "Epoch 2/100\n",
            "403/403 [==============================] - 1s 3ms/step - loss: 0.7322 - mape: 2480596.0000 - val_loss: 0.5233 - val_mape: 2203265.0000\n",
            "Epoch 3/100\n",
            "403/403 [==============================] - 1s 3ms/step - loss: 0.4866 - mape: 2045649.0000 - val_loss: 0.3972 - val_mape: 2017180.1250\n",
            "Epoch 4/100\n",
            "403/403 [==============================] - 1s 3ms/step - loss: 0.3974 - mape: 1888965.7500 - val_loss: 0.4273 - val_mape: 2332913.0000\n",
            "Epoch 5/100\n",
            "403/403 [==============================] - 1s 3ms/step - loss: 0.3568 - mape: 1721967.5000 - val_loss: 0.3269 - val_mape: 1857132.0000\n",
            "Epoch 6/100\n",
            "403/403 [==============================] - 1s 3ms/step - loss: 0.3275 - mape: 1655991.7500 - val_loss: 0.3189 - val_mape: 1876019.2500\n",
            "Epoch 7/100\n",
            "403/403 [==============================] - 1s 3ms/step - loss: 0.3116 - mape: 1615003.2500 - val_loss: 0.3130 - val_mape: 1770790.6250\n",
            "Epoch 8/100\n",
            "403/403 [==============================] - 1s 3ms/step - loss: 0.2994 - mape: 1482667.0000 - val_loss: 0.2769 - val_mape: 1801494.7500\n",
            "Epoch 9/100\n",
            "403/403 [==============================] - 1s 3ms/step - loss: 0.2914 - mape: 1500023.6250 - val_loss: 0.2662 - val_mape: 1788800.3750\n",
            "Epoch 10/100\n",
            "403/403 [==============================] - 1s 3ms/step - loss: 0.2835 - mape: 1477590.1250 - val_loss: 0.3143 - val_mape: 1971266.6250\n",
            "Epoch 11/100\n",
            "403/403 [==============================] - 1s 3ms/step - loss: 0.2783 - mape: 1433407.6250 - val_loss: 0.2636 - val_mape: 1619852.0000\n",
            "Epoch 12/100\n",
            "403/403 [==============================] - 1s 3ms/step - loss: 0.2725 - mape: 1418573.0000 - val_loss: 0.2535 - val_mape: 1751715.8750\n",
            "Epoch 13/100\n",
            "403/403 [==============================] - 1s 3ms/step - loss: 0.2694 - mape: 1439914.7500 - val_loss: 0.2502 - val_mape: 1784809.8750\n",
            "Epoch 14/100\n",
            "403/403 [==============================] - 1s 3ms/step - loss: 0.2648 - mape: 1373069.6250 - val_loss: 0.2767 - val_mape: 1778190.6250\n",
            "Epoch 15/100\n",
            "403/403 [==============================] - 1s 3ms/step - loss: 0.2627 - mape: 1401416.0000 - val_loss: 0.2427 - val_mape: 1700623.2500\n",
            "Epoch 16/100\n",
            "403/403 [==============================] - 1s 3ms/step - loss: 0.2595 - mape: 1346970.1250 - val_loss: 0.2695 - val_mape: 1822005.6250\n",
            "Epoch 17/100\n",
            "403/403 [==============================] - 1s 3ms/step - loss: 0.2557 - mape: 1395501.8750 - val_loss: 0.2443 - val_mape: 1528097.3750\n",
            "Epoch 18/100\n",
            "403/403 [==============================] - 1s 3ms/step - loss: 0.2548 - mape: 1345074.7500 - val_loss: 0.2385 - val_mape: 1658348.7500\n",
            "Epoch 19/100\n",
            "403/403 [==============================] - 1s 3ms/step - loss: 0.2527 - mape: 1361009.5000 - val_loss: 0.2365 - val_mape: 1656297.8750\n",
            "Epoch 20/100\n",
            "403/403 [==============================] - 1s 3ms/step - loss: 0.2514 - mape: 1337764.5000 - val_loss: 0.2340 - val_mape: 1623866.2500\n",
            "Epoch 21/100\n",
            "403/403 [==============================] - 1s 3ms/step - loss: 0.2483 - mape: 1315089.1250 - val_loss: 0.2316 - val_mape: 1693130.0000\n",
            "Epoch 22/100\n",
            "403/403 [==============================] - 1s 3ms/step - loss: 0.2468 - mape: 1316187.0000 - val_loss: 0.2386 - val_mape: 1598835.6250\n",
            "Epoch 23/100\n",
            "403/403 [==============================] - 1s 3ms/step - loss: 0.2455 - mape: 1305214.0000 - val_loss: 0.2274 - val_mape: 1630471.3750\n",
            "Epoch 24/100\n",
            "403/403 [==============================] - 1s 3ms/step - loss: 0.2440 - mape: 1282665.8750 - val_loss: 0.2293 - val_mape: 1620010.3750\n",
            "Epoch 25/100\n",
            "403/403 [==============================] - 1s 3ms/step - loss: 0.2421 - mape: 1324372.6250 - val_loss: 0.2247 - val_mape: 1590929.3750\n",
            "Epoch 26/100\n",
            "403/403 [==============================] - 1s 3ms/step - loss: 0.2405 - mape: 1247634.7500 - val_loss: 0.2268 - val_mape: 1612541.5000\n",
            "Epoch 27/100\n",
            "403/403 [==============================] - 1s 3ms/step - loss: 0.2394 - mape: 1287719.6250 - val_loss: 0.2291 - val_mape: 1548091.7500\n",
            "Epoch 28/100\n",
            "403/403 [==============================] - 1s 3ms/step - loss: 0.2377 - mape: 1263995.0000 - val_loss: 0.2946 - val_mape: 1985223.5000\n",
            "Epoch 29/100\n",
            "403/403 [==============================] - 1s 3ms/step - loss: 0.2367 - mape: 1279517.2500 - val_loss: 0.2279 - val_mape: 1708511.5000\n",
            "Epoch 30/100\n",
            "403/403 [==============================] - 1s 3ms/step - loss: 0.2373 - mape: 1306696.6250 - val_loss: 0.2249 - val_mape: 1529192.7500\n",
            "Epoch 31/100\n",
            "403/403 [==============================] - 1s 3ms/step - loss: 0.2352 - mape: 1268248.2500 - val_loss: 0.2205 - val_mape: 1617228.3750\n",
            "Epoch 32/100\n",
            "403/403 [==============================] - 1s 3ms/step - loss: 0.2343 - mape: 1280773.8750 - val_loss: 0.2183 - val_mape: 1623182.5000\n",
            "Epoch 33/100\n",
            "403/403 [==============================] - 1s 3ms/step - loss: 0.2335 - mape: 1253128.6250 - val_loss: 0.3310 - val_mape: 2084315.5000\n",
            "Epoch 34/100\n",
            "403/403 [==============================] - 1s 3ms/step - loss: 0.2342 - mape: 1286376.6250 - val_loss: 0.2240 - val_mape: 1714512.7500\n",
            "Epoch 35/100\n",
            "403/403 [==============================] - 1s 3ms/step - loss: 0.2334 - mape: 1277732.0000 - val_loss: 0.2183 - val_mape: 1648794.2500\n",
            "Epoch 36/100\n",
            "403/403 [==============================] - 1s 3ms/step - loss: 0.2319 - mape: 1269171.6250 - val_loss: 0.2158 - val_mape: 1668320.0000\n",
            "Epoch 37/100\n",
            "403/403 [==============================] - 1s 3ms/step - loss: 0.2314 - mape: 1262612.1250 - val_loss: 0.2207 - val_mape: 1624939.5000\n",
            "Epoch 38/100\n",
            "403/403 [==============================] - 1s 3ms/step - loss: 0.2300 - mape: 1299921.6250 - val_loss: 0.2169 - val_mape: 1606943.2500\n",
            "Epoch 39/100\n",
            "403/403 [==============================] - 1s 3ms/step - loss: 0.2297 - mape: 1295949.6250 - val_loss: 0.2159 - val_mape: 1657461.2500\n",
            "Epoch 40/100\n",
            "403/403 [==============================] - 1s 3ms/step - loss: 0.2302 - mape: 1256198.5000 - val_loss: 0.2143 - val_mape: 1594688.7500\n",
            "Epoch 41/100\n",
            "403/403 [==============================] - 1s 3ms/step - loss: 0.2300 - mape: 1275896.1250 - val_loss: 0.2277 - val_mape: 1608920.8750\n",
            "Epoch 42/100\n",
            "403/403 [==============================] - 1s 3ms/step - loss: 0.2280 - mape: 1285323.8750 - val_loss: 0.2197 - val_mape: 1477565.7500\n",
            "Epoch 43/100\n",
            "403/403 [==============================] - 1s 3ms/step - loss: 0.2271 - mape: 1256106.7500 - val_loss: 0.2162 - val_mape: 1666765.0000\n",
            "Epoch 44/100\n",
            "403/403 [==============================] - 1s 3ms/step - loss: 0.2263 - mape: 1252510.6250 - val_loss: 0.2133 - val_mape: 1556400.7500\n",
            "Epoch 45/100\n",
            "403/403 [==============================] - 1s 3ms/step - loss: 0.2269 - mape: 1232107.0000 - val_loss: 0.2140 - val_mape: 1618419.6250\n",
            "Epoch 46/100\n",
            "403/403 [==============================] - 1s 3ms/step - loss: 0.2263 - mape: 1278828.2500 - val_loss: 0.2270 - val_mape: 1641967.5000\n",
            "Epoch 47/100\n",
            "403/403 [==============================] - 1s 3ms/step - loss: 0.2266 - mape: 1258883.6250 - val_loss: 0.2114 - val_mape: 1509496.6250\n",
            "Epoch 48/100\n",
            "403/403 [==============================] - 1s 3ms/step - loss: 0.2246 - mape: 1245017.2500 - val_loss: 0.2091 - val_mape: 1558695.0000\n",
            "Epoch 49/100\n",
            "403/403 [==============================] - 1s 3ms/step - loss: 0.2260 - mape: 1220540.8750 - val_loss: 0.2167 - val_mape: 1695234.8750\n",
            "Epoch 50/100\n",
            "403/403 [==============================] - 1s 3ms/step - loss: 0.2238 - mape: 1253997.6250 - val_loss: 0.2102 - val_mape: 1499739.5000\n",
            "Epoch 51/100\n",
            "403/403 [==============================] - 1s 3ms/step - loss: 0.2241 - mape: 1244607.8750 - val_loss: 0.2235 - val_mape: 1513833.8750\n",
            "Epoch 52/100\n",
            "403/403 [==============================] - 1s 3ms/step - loss: 0.2220 - mape: 1220264.8750 - val_loss: 0.2089 - val_mape: 1488717.6250\n",
            "Epoch 53/100\n",
            "403/403 [==============================] - 1s 3ms/step - loss: 0.2236 - mape: 1226400.5000 - val_loss: 0.2371 - val_mape: 1776716.0000\n",
            "Epoch 54/100\n",
            "403/403 [==============================] - 1s 3ms/step - loss: 0.2229 - mape: 1214416.5000 - val_loss: 0.2079 - val_mape: 1534757.5000\n",
            "Epoch 55/100\n",
            "403/403 [==============================] - 1s 3ms/step - loss: 0.2227 - mape: 1201445.6250 - val_loss: 0.2096 - val_mape: 1512647.6250\n",
            "Epoch 56/100\n",
            "403/403 [==============================] - 1s 3ms/step - loss: 0.2227 - mape: 1219751.6250 - val_loss: 0.2146 - val_mape: 1679722.7500\n",
            "Epoch 57/100\n",
            "403/403 [==============================] - 1s 3ms/step - loss: 0.2220 - mape: 1239177.6250 - val_loss: 0.2296 - val_mape: 1519159.3750\n",
            "Epoch 58/100\n",
            "403/403 [==============================] - 1s 3ms/step - loss: 0.2210 - mape: 1231920.8750 - val_loss: 0.2097 - val_mape: 1535949.6250\n",
            "Epoch 59/100\n",
            "403/403 [==============================] - 1s 3ms/step - loss: 0.2219 - mape: 1252727.3750 - val_loss: 0.2128 - val_mape: 1717315.3750\n",
            "Epoch 60/100\n",
            "403/403 [==============================] - 1s 3ms/step - loss: 0.2208 - mape: 1226530.3750 - val_loss: 0.2059 - val_mape: 1562465.2500\n",
            "Epoch 61/100\n",
            "403/403 [==============================] - 1s 3ms/step - loss: 0.2204 - mape: 1214081.6250 - val_loss: 0.2079 - val_mape: 1580595.0000\n",
            "Epoch 62/100\n",
            "403/403 [==============================] - 1s 3ms/step - loss: 0.2205 - mape: 1221653.6250 - val_loss: 0.2128 - val_mape: 1480375.5000\n",
            "Epoch 63/100\n",
            "403/403 [==============================] - 1s 3ms/step - loss: 0.2212 - mape: 1219908.5000 - val_loss: 0.2061 - val_mape: 1619002.6250\n",
            "Epoch 64/100\n",
            "403/403 [==============================] - 1s 3ms/step - loss: 0.2199 - mape: 1194305.5000 - val_loss: 0.2099 - val_mape: 1579908.5000\n",
            "Epoch 65/100\n",
            "403/403 [==============================] - 1s 3ms/step - loss: 0.2200 - mape: 1193789.6250 - val_loss: 0.2337 - val_mape: 1416503.3750\n",
            "Epoch 66/100\n",
            "403/403 [==============================] - 1s 3ms/step - loss: 0.2187 - mape: 1234177.3750 - val_loss: 0.2054 - val_mape: 1535009.7500\n",
            "Epoch 67/100\n",
            "403/403 [==============================] - 1s 3ms/step - loss: 0.2195 - mape: 1206488.7500 - val_loss: 0.2039 - val_mape: 1535835.1250\n",
            "Epoch 68/100\n",
            "403/403 [==============================] - 1s 3ms/step - loss: 0.2182 - mape: 1254687.2500 - val_loss: 0.2076 - val_mape: 1516839.3750\n",
            "Epoch 69/100\n",
            "403/403 [==============================] - 1s 3ms/step - loss: 0.2185 - mape: 1208744.8750 - val_loss: 0.2047 - val_mape: 1546936.1250\n",
            "Epoch 70/100\n",
            "403/403 [==============================] - 1s 3ms/step - loss: 0.2193 - mape: 1208247.1250 - val_loss: 0.2022 - val_mape: 1586829.0000\n",
            "Epoch 71/100\n",
            "403/403 [==============================] - 1s 3ms/step - loss: 0.2177 - mape: 1222920.0000 - val_loss: 0.2104 - val_mape: 1460584.0000\n",
            "Epoch 72/100\n",
            "403/403 [==============================] - 1s 3ms/step - loss: 0.2182 - mape: 1210882.2500 - val_loss: 0.2037 - val_mape: 1579248.2500\n",
            "Epoch 73/100\n",
            "403/403 [==============================] - 1s 3ms/step - loss: 0.2184 - mape: 1206691.8750 - val_loss: 0.2054 - val_mape: 1666815.5000\n",
            "Epoch 74/100\n",
            "403/403 [==============================] - 1s 3ms/step - loss: 0.2178 - mape: 1205014.1250 - val_loss: 0.2039 - val_mape: 1539559.5000\n",
            "Epoch 75/100\n",
            "403/403 [==============================] - 1s 3ms/step - loss: 0.2172 - mape: 1242188.8750 - val_loss: 0.2025 - val_mape: 1520278.3750\n",
            "Epoch 76/100\n",
            "403/403 [==============================] - 1s 3ms/step - loss: 0.2176 - mape: 1212668.7500 - val_loss: 0.2016 - val_mape: 1549764.1250\n",
            "Epoch 77/100\n",
            "403/403 [==============================] - 1s 3ms/step - loss: 0.2183 - mape: 1213945.0000 - val_loss: 0.2011 - val_mape: 1500945.7500\n",
            "Epoch 78/100\n",
            "403/403 [==============================] - 1s 3ms/step - loss: 0.2172 - mape: 1190390.2500 - val_loss: 0.2013 - val_mape: 1501457.3750\n",
            "Epoch 79/100\n",
            "403/403 [==============================] - 1s 3ms/step - loss: 0.2161 - mape: 1213377.1250 - val_loss: 0.2152 - val_mape: 1494278.1250\n",
            "Epoch 80/100\n",
            "403/403 [==============================] - 1s 3ms/step - loss: 0.2159 - mape: 1237072.1250 - val_loss: 0.2130 - val_mape: 1694608.7500\n",
            "Epoch 81/100\n",
            "403/403 [==============================] - 1s 3ms/step - loss: 0.2168 - mape: 1213029.3750 - val_loss: 0.2053 - val_mape: 1568244.5000\n",
            "Epoch 82/100\n",
            "403/403 [==============================] - 1s 3ms/step - loss: 0.2162 - mape: 1187128.1250 - val_loss: 0.2239 - val_mape: 1688760.6250\n",
            "Epoch 83/100\n",
            "403/403 [==============================] - 1s 3ms/step - loss: 0.2155 - mape: 1205162.2500 - val_loss: 0.2022 - val_mape: 1448837.2500\n",
            "Epoch 84/100\n",
            "403/403 [==============================] - 1s 3ms/step - loss: 0.2161 - mape: 1207606.2500 - val_loss: 0.1996 - val_mape: 1523763.2500\n",
            "Epoch 85/100\n",
            "403/403 [==============================] - 1s 3ms/step - loss: 0.2158 - mape: 1211952.7500 - val_loss: 0.2080 - val_mape: 1593211.3750\n",
            "Epoch 86/100\n",
            "403/403 [==============================] - 1s 3ms/step - loss: 0.2153 - mape: 1178177.0000 - val_loss: 0.2047 - val_mape: 1476794.3750\n",
            "Epoch 87/100\n",
            "403/403 [==============================] - 1s 3ms/step - loss: 0.2156 - mape: 1215448.1250 - val_loss: 0.1994 - val_mape: 1478576.5000\n",
            "Epoch 88/100\n",
            "403/403 [==============================] - 1s 3ms/step - loss: 0.2145 - mape: 1177171.2500 - val_loss: 0.2036 - val_mape: 1456006.1250\n",
            "Epoch 89/100\n",
            "403/403 [==============================] - 1s 3ms/step - loss: 0.2150 - mape: 1201775.0000 - val_loss: 0.2007 - val_mape: 1450678.7500\n",
            "Epoch 90/100\n",
            "403/403 [==============================] - 1s 3ms/step - loss: 0.2147 - mape: 1185108.6250 - val_loss: 0.2099 - val_mape: 1464097.6250\n",
            "Epoch 91/100\n",
            "403/403 [==============================] - 1s 3ms/step - loss: 0.2148 - mape: 1192127.8750 - val_loss: 0.2029 - val_mape: 1528141.2500\n",
            "Epoch 92/100\n",
            "403/403 [==============================] - 1s 3ms/step - loss: 0.2146 - mape: 1191625.7500 - val_loss: 0.2032 - val_mape: 1507086.2500\n",
            "Epoch 93/100\n",
            "403/403 [==============================] - 1s 3ms/step - loss: 0.2140 - mape: 1182501.5000 - val_loss: 0.2001 - val_mape: 1514657.7500\n",
            "Epoch 94/100\n",
            "403/403 [==============================] - 1s 3ms/step - loss: 0.2141 - mape: 1165675.3750 - val_loss: 0.1994 - val_mape: 1592619.2500\n",
            "Epoch 95/100\n",
            "403/403 [==============================] - 1s 3ms/step - loss: 0.2134 - mape: 1187965.8750 - val_loss: 0.2001 - val_mape: 1596463.5000\n",
            "Epoch 96/100\n",
            "403/403 [==============================] - 1s 3ms/step - loss: 0.2130 - mape: 1209516.1250 - val_loss: 0.2030 - val_mape: 1494086.7500\n",
            "Epoch 97/100\n",
            "403/403 [==============================] - 1s 3ms/step - loss: 0.2131 - mape: 1192422.7500 - val_loss: 0.1995 - val_mape: 1529181.5000\n",
            "Epoch 98/100\n",
            "403/403 [==============================] - 1s 3ms/step - loss: 0.2125 - mape: 1198642.2500 - val_loss: 0.1984 - val_mape: 1491662.1250\n",
            "Epoch 99/100\n",
            "403/403 [==============================] - 1s 3ms/step - loss: 0.2129 - mape: 1174753.7500 - val_loss: 0.1987 - val_mape: 1582090.3750\n",
            "Epoch 100/100\n",
            "403/403 [==============================] - 1s 3ms/step - loss: 0.2133 - mape: 1172118.0000 - val_loss: 0.1985 - val_mape: 1500641.3750\n"
          ]
        }
      ],
      "source": [
        "# Full training of best model\n",
        "H = DNN.fit(x=x_train, y=y_train, batch_size=64, epochs=100, validation_split=0.1)"
      ]
    },
    {
      "cell_type": "markdown",
      "metadata": {
        "id": "YABYPnzS8ab3"
      },
      "source": [
        "# 3.2 Auto tuning of hyperparams: number of layers, number of units, and optimizer"
      ]
    },
    {
      "cell_type": "code",
      "execution_count": 62,
      "metadata": {
        "id": "BTI4XeEIDENi"
      },
      "outputs": [],
      "source": [
        "def model_builder(hp):\n",
        "  ''' Define a auxiliar function to create DNN models with varying\n",
        "      hyperparameters.\n",
        "  '''\n",
        "  model = Sequential()\n",
        "  model.add(InputLayer(input_shape=x_train.shape[1:], name='INPUT'))\n",
        "\n",
        "  # Choose optimal number of layers between 2 and 8\n",
        "  for i in range(hp.Int('num_layers', 2, 8)):\n",
        "    # Tune the number of units in the each dense layer\n",
        "    hp_units = hp.Int('units_'+str(i), min_value=64, max_value=1024, step=64)\n",
        "    model.add(Dense(units=hp_units, activation='tanh'))\n",
        "  # Add output layer\n",
        "  model.add(Dense(units=y_train.shape[1], name='OUTPUT', activation='sigmoid'))\n",
        "\n",
        "  # Choose best optimizer\n",
        "  model.compile(optimizer=hp.Choice('optimizer', values=['sgd', 'adam', 'adagrad', 'adadelta']), loss=tf.keras.losses.BinaryCrossentropy(), \n",
        "                metrics=['accuracy', tf.keras.metrics.Recall(),\n",
        "     tf.keras.metrics.Precision()])\n",
        "  \n",
        "  return model"
      ]
    },
    {
      "cell_type": "code",
      "execution_count": 63,
      "metadata": {
        "id": "qROz7Ldj816c",
        "colab": {
          "base_uri": "https://localhost:8080/"
        },
        "outputId": "6fdd177c-e1f8-46d1-99a4-fec7f1fb4be6"
      },
      "outputs": [
        {
          "output_type": "stream",
          "name": "stdout",
          "text": [
            "Search space summary\n",
            "Default search space size: 11\n",
            "units (Int)\n",
            "{'default': None, 'conditions': [], 'min_value': 64, 'max_value': 1024, 'step': 64, 'sampling': 'linear'}\n",
            "optimizer (Choice)\n",
            "{'default': 'sgd', 'conditions': [], 'values': ['sgd', 'adam', 'adagrad', 'adadelta'], 'ordered': False}\n",
            "num_layers (Int)\n",
            "{'default': None, 'conditions': [], 'min_value': 2, 'max_value': 8, 'step': 1, 'sampling': 'linear'}\n",
            "units_0 (Int)\n",
            "{'default': None, 'conditions': [], 'min_value': 64, 'max_value': 1024, 'step': 64, 'sampling': 'linear'}\n",
            "units_1 (Int)\n",
            "{'default': None, 'conditions': [], 'min_value': 64, 'max_value': 1024, 'step': 64, 'sampling': 'linear'}\n",
            "units_2 (Int)\n",
            "{'default': None, 'conditions': [], 'min_value': 64, 'max_value': 1024, 'step': 64, 'sampling': 'linear'}\n",
            "units_3 (Int)\n",
            "{'default': None, 'conditions': [], 'min_value': 64, 'max_value': 1024, 'step': 64, 'sampling': 'linear'}\n",
            "units_4 (Int)\n",
            "{'default': None, 'conditions': [], 'min_value': 64, 'max_value': 1024, 'step': 64, 'sampling': 'linear'}\n",
            "units_5 (Int)\n",
            "{'default': None, 'conditions': [], 'min_value': 64, 'max_value': 1024, 'step': 64, 'sampling': 'linear'}\n",
            "units_6 (Int)\n",
            "{'default': None, 'conditions': [], 'min_value': 64, 'max_value': 1024, 'step': 64, 'sampling': 'linear'}\n",
            "units_7 (Int)\n",
            "{'default': None, 'conditions': [], 'min_value': 64, 'max_value': 1024, 'step': 64, 'sampling': 'linear'}\n"
          ]
        }
      ],
      "source": [
        "# Create a tuner and show the search space\n",
        "tuner = RandomSearch(model_builder,\n",
        "                     objective='val_loss',\n",
        "                     max_trials=64)\n",
        "\n",
        "tuner.search_space_summary()"
      ]
    },
    {
      "cell_type": "code",
      "execution_count": 64,
      "metadata": {
        "id": "csXz6fCT816e"
      },
      "outputs": [],
      "source": [
        "# Make an initial quick exploration of the hyperparam space\n",
        "tuner.search(x_train, y_train, epochs=10, validation_split=0.1)"
      ]
    },
    {
      "cell_type": "code",
      "execution_count": 65,
      "metadata": {
        "colab": {
          "base_uri": "https://localhost:8080/"
        },
        "id": "MPbRzq6_816f",
        "outputId": "6569ce55-41c6-49ee-c845-9e87e650bb9b"
      },
      "outputs": [
        {
          "output_type": "stream",
          "name": "stdout",
          "text": [
            "Model: \"sequential\"\n",
            "_________________________________________________________________\n",
            " Layer (type)                Output Shape              Param #   \n",
            "=================================================================\n",
            " dense (Dense)               (None, 1024)              6144      \n",
            "                                                                 \n",
            " dense_1 (Dense)             (None, 832)               852800    \n",
            "                                                                 \n",
            " dense_2 (Dense)             (None, 896)               746368    \n",
            "                                                                 \n",
            " dense_3 (Dense)             (None, 384)               344448    \n",
            "                                                                 \n",
            " dense_4 (Dense)             (None, 320)               123200    \n",
            "                                                                 \n",
            " dense_5 (Dense)             (None, 960)               308160    \n",
            "                                                                 \n",
            " dense_6 (Dense)             (None, 384)               369024    \n",
            "                                                                 \n",
            " OUTPUT (Dense)              (None, 1)                 385       \n",
            "                                                                 \n",
            "=================================================================\n",
            "Total params: 2,750,529\n",
            "Trainable params: 2,750,529\n",
            "Non-trainable params: 0\n",
            "_________________________________________________________________\n"
          ]
        },
        {
          "output_type": "stream",
          "name": "stderr",
          "text": [
            "WARNING:tensorflow:Detecting that an object or model or tf.train.Checkpoint is being deleted with unrestored values. See the following logs for the specific values in question. To silence these warnings, use `status.expect_partial()`. See https://www.tensorflow.org/api_docs/python/tf/train/Checkpoint#restorefor details about the status object returned by the restore function.\n",
            "WARNING:tensorflow:Value in checkpoint could not be found in the restored object: (root).optimizer._variables.1\n",
            "WARNING:tensorflow:Value in checkpoint could not be found in the restored object: (root).optimizer._variables.2\n",
            "WARNING:tensorflow:Value in checkpoint could not be found in the restored object: (root).optimizer._variables.3\n",
            "WARNING:tensorflow:Value in checkpoint could not be found in the restored object: (root).optimizer._variables.4\n",
            "WARNING:tensorflow:Value in checkpoint could not be found in the restored object: (root).optimizer._variables.5\n",
            "WARNING:tensorflow:Value in checkpoint could not be found in the restored object: (root).optimizer._variables.6\n",
            "WARNING:tensorflow:Value in checkpoint could not be found in the restored object: (root).optimizer._variables.7\n",
            "WARNING:tensorflow:Value in checkpoint could not be found in the restored object: (root).optimizer._variables.8\n",
            "WARNING:tensorflow:Value in checkpoint could not be found in the restored object: (root).optimizer._variables.9\n",
            "WARNING:tensorflow:Value in checkpoint could not be found in the restored object: (root).optimizer._variables.10\n",
            "WARNING:tensorflow:Value in checkpoint could not be found in the restored object: (root).optimizer._variables.11\n",
            "WARNING:tensorflow:Value in checkpoint could not be found in the restored object: (root).optimizer._variables.12\n",
            "WARNING:tensorflow:Value in checkpoint could not be found in the restored object: (root).optimizer._variables.13\n",
            "WARNING:tensorflow:Value in checkpoint could not be found in the restored object: (root).optimizer._variables.14\n",
            "WARNING:tensorflow:Value in checkpoint could not be found in the restored object: (root).optimizer._variables.15\n",
            "WARNING:tensorflow:Value in checkpoint could not be found in the restored object: (root).optimizer._variables.16\n",
            "WARNING:tensorflow:Value in checkpoint could not be found in the restored object: (root).optimizer._variables.17\n",
            "WARNING:tensorflow:Value in checkpoint could not be found in the restored object: (root).optimizer._variables.18\n",
            "WARNING:tensorflow:Value in checkpoint could not be found in the restored object: (root).optimizer._variables.19\n",
            "WARNING:tensorflow:Value in checkpoint could not be found in the restored object: (root).optimizer._variables.20\n",
            "WARNING:tensorflow:Value in checkpoint could not be found in the restored object: (root).optimizer._variables.21\n",
            "WARNING:tensorflow:Value in checkpoint could not be found in the restored object: (root).optimizer._variables.22\n",
            "WARNING:tensorflow:Value in checkpoint could not be found in the restored object: (root).optimizer._variables.23\n",
            "WARNING:tensorflow:Value in checkpoint could not be found in the restored object: (root).optimizer._variables.24\n",
            "WARNING:tensorflow:Value in checkpoint could not be found in the restored object: (root).optimizer._variables.25\n",
            "WARNING:tensorflow:Value in checkpoint could not be found in the restored object: (root).optimizer._variables.26\n",
            "WARNING:tensorflow:Value in checkpoint could not be found in the restored object: (root).optimizer._variables.27\n",
            "WARNING:tensorflow:Value in checkpoint could not be found in the restored object: (root).optimizer._variables.28\n",
            "WARNING:tensorflow:Value in checkpoint could not be found in the restored object: (root).optimizer._variables.29\n",
            "WARNING:tensorflow:Value in checkpoint could not be found in the restored object: (root).optimizer._variables.30\n",
            "WARNING:tensorflow:Value in checkpoint could not be found in the restored object: (root).optimizer._variables.31\n",
            "WARNING:tensorflow:Value in checkpoint could not be found in the restored object: (root).optimizer._variables.32\n"
          ]
        }
      ],
      "source": [
        "# Get the top model\n",
        "tuner.get_best_models()[0].summary()"
      ]
    },
    {
      "cell_type": "code",
      "execution_count": 66,
      "metadata": {
        "id": "Fk5_k3SY816h",
        "colab": {
          "base_uri": "https://localhost:8080/"
        },
        "outputId": "95158b0e-d2f3-4af8-b47b-642eaee5c551"
      },
      "outputs": [
        {
          "output_type": "stream",
          "name": "stdout",
          "text": [
            "Model: \"sequential_1\"\n",
            "_________________________________________________________________\n",
            " Layer (type)                Output Shape              Param #   \n",
            "=================================================================\n",
            " dense_7 (Dense)             (None, 1024)              6144      \n",
            "                                                                 \n",
            " dense_8 (Dense)             (None, 832)               852800    \n",
            "                                                                 \n",
            " dense_9 (Dense)             (None, 896)               746368    \n",
            "                                                                 \n",
            " dense_10 (Dense)            (None, 384)               344448    \n",
            "                                                                 \n",
            " dense_11 (Dense)            (None, 320)               123200    \n",
            "                                                                 \n",
            " dense_12 (Dense)            (None, 960)               308160    \n",
            "                                                                 \n",
            " dense_13 (Dense)            (None, 384)               369024    \n",
            "                                                                 \n",
            " OUTPUT (Dense)              (None, 1)                 385       \n",
            "                                                                 \n",
            "=================================================================\n",
            "Total params: 2,750,529\n",
            "Trainable params: 2,750,529\n",
            "Non-trainable params: 0\n",
            "_________________________________________________________________\n"
          ]
        }
      ],
      "source": [
        "# Create a new model using the best hyperparams\n",
        "DNN = model_builder(tuner.get_best_hyperparameters()[0])\n",
        "DNN.summary()"
      ]
    },
    {
      "cell_type": "code",
      "execution_count": 67,
      "metadata": {
        "colab": {
          "base_uri": "https://localhost:8080/"
        },
        "id": "dPBWgCyh816h",
        "outputId": "5373e7bb-c813-4841-a212-0d44cefed559"
      },
      "outputs": [
        {
          "output_type": "stream",
          "name": "stdout",
          "text": [
            "Epoch 1/100\n",
            "13/13 [==============================] - 4s 33ms/step - loss: -2.0631 - accuracy: 0.8963 - recall_1: 0.0000e+00 - precision_1: 0.0000e+00 - val_loss: -2.4937 - val_accuracy: 0.9111 - val_recall_1: 0.0000e+00 - val_precision_1: 0.0000e+00\n",
            "Epoch 2/100\n",
            "13/13 [==============================] - 0s 8ms/step - loss: -3.1403 - accuracy: 0.8963 - recall_1: 0.0000e+00 - precision_1: 0.0000e+00 - val_loss: -2.8971 - val_accuracy: 0.9111 - val_recall_1: 0.0000e+00 - val_precision_1: 0.0000e+00\n",
            "Epoch 3/100\n",
            "13/13 [==============================] - 0s 9ms/step - loss: -3.5890 - accuracy: 0.8963 - recall_1: 0.0000e+00 - precision_1: 0.0000e+00 - val_loss: -3.3383 - val_accuracy: 0.9111 - val_recall_1: 0.0000e+00 - val_precision_1: 0.0000e+00\n",
            "Epoch 4/100\n",
            "13/13 [==============================] - 0s 9ms/step - loss: -4.1062 - accuracy: 0.8963 - recall_1: 0.0000e+00 - precision_1: 0.0000e+00 - val_loss: -3.7432 - val_accuracy: 0.9111 - val_recall_1: 0.0000e+00 - val_precision_1: 0.0000e+00\n",
            "Epoch 5/100\n",
            "13/13 [==============================] - 0s 8ms/step - loss: -4.5790 - accuracy: 0.8963 - recall_1: 0.0000e+00 - precision_1: 0.0000e+00 - val_loss: -4.1686 - val_accuracy: 0.9111 - val_recall_1: 0.0000e+00 - val_precision_1: 0.0000e+00\n",
            "Epoch 6/100\n",
            "13/13 [==============================] - 0s 9ms/step - loss: -5.0886 - accuracy: 0.8963 - recall_1: 0.0000e+00 - precision_1: 0.0000e+00 - val_loss: -4.5807 - val_accuracy: 0.9111 - val_recall_1: 0.0000e+00 - val_precision_1: 0.0000e+00\n",
            "Epoch 7/100\n",
            "13/13 [==============================] - 0s 9ms/step - loss: -5.5708 - accuracy: 0.8963 - recall_1: 0.0000e+00 - precision_1: 0.0000e+00 - val_loss: -5.0126 - val_accuracy: 0.9111 - val_recall_1: 0.0000e+00 - val_precision_1: 0.0000e+00\n",
            "Epoch 8/100\n",
            "13/13 [==============================] - 0s 8ms/step - loss: -6.0770 - accuracy: 0.8963 - recall_1: 0.0000e+00 - precision_1: 0.0000e+00 - val_loss: -5.4321 - val_accuracy: 0.9111 - val_recall_1: 0.0000e+00 - val_precision_1: 0.0000e+00\n",
            "Epoch 9/100\n",
            "13/13 [==============================] - 0s 8ms/step - loss: -6.5625 - accuracy: 0.8963 - recall_1: 0.0000e+00 - precision_1: 0.0000e+00 - val_loss: -5.8492 - val_accuracy: 0.9111 - val_recall_1: 0.0000e+00 - val_precision_1: 0.0000e+00\n",
            "Epoch 10/100\n",
            "13/13 [==============================] - 0s 9ms/step - loss: -7.0534 - accuracy: 0.8963 - recall_1: 0.0000e+00 - precision_1: 0.0000e+00 - val_loss: -6.2538 - val_accuracy: 0.9111 - val_recall_1: 0.0000e+00 - val_precision_1: 0.0000e+00\n",
            "Epoch 11/100\n",
            "13/13 [==============================] - 0s 8ms/step - loss: -7.5139 - accuracy: 0.8963 - recall_1: 0.0000e+00 - precision_1: 0.0000e+00 - val_loss: -6.6863 - val_accuracy: 0.9111 - val_recall_1: 0.0000e+00 - val_precision_1: 0.0000e+00\n",
            "Epoch 12/100\n",
            "13/13 [==============================] - 0s 9ms/step - loss: -8.0226 - accuracy: 0.8963 - recall_1: 0.0000e+00 - precision_1: 0.0000e+00 - val_loss: -7.0962 - val_accuracy: 0.9111 - val_recall_1: 0.0000e+00 - val_precision_1: 0.0000e+00\n",
            "Epoch 13/100\n",
            "13/13 [==============================] - 0s 9ms/step - loss: -8.5049 - accuracy: 0.8963 - recall_1: 0.0000e+00 - precision_1: 0.0000e+00 - val_loss: -7.5146 - val_accuracy: 0.9111 - val_recall_1: 0.0000e+00 - val_precision_1: 0.0000e+00\n",
            "Epoch 14/100\n",
            "13/13 [==============================] - 0s 10ms/step - loss: -8.9994 - accuracy: 0.8963 - recall_1: 0.0000e+00 - precision_1: 0.0000e+00 - val_loss: -7.9310 - val_accuracy: 0.9111 - val_recall_1: 0.0000e+00 - val_precision_1: 0.0000e+00\n",
            "Epoch 15/100\n",
            "13/13 [==============================] - 0s 9ms/step - loss: -9.4646 - accuracy: 0.8963 - recall_1: 0.0000e+00 - precision_1: 0.0000e+00 - val_loss: -8.3689 - val_accuracy: 0.9111 - val_recall_1: 0.0000e+00 - val_precision_1: 0.0000e+00\n",
            "Epoch 16/100\n",
            "13/13 [==============================] - 0s 8ms/step - loss: -9.9840 - accuracy: 0.8963 - recall_1: 0.0000e+00 - precision_1: 0.0000e+00 - val_loss: -8.7778 - val_accuracy: 0.9111 - val_recall_1: 0.0000e+00 - val_precision_1: 0.0000e+00\n",
            "Epoch 17/100\n",
            "13/13 [==============================] - 0s 9ms/step - loss: -10.4702 - accuracy: 0.8963 - recall_1: 0.0000e+00 - precision_1: 0.0000e+00 - val_loss: -9.1950 - val_accuracy: 0.9111 - val_recall_1: 0.0000e+00 - val_precision_1: 0.0000e+00\n",
            "Epoch 18/100\n",
            "13/13 [==============================] - 0s 8ms/step - loss: -10.9493 - accuracy: 0.8963 - recall_1: 0.0000e+00 - precision_1: 0.0000e+00 - val_loss: -9.6266 - val_accuracy: 0.9111 - val_recall_1: 0.0000e+00 - val_precision_1: 0.0000e+00\n",
            "Epoch 19/100\n",
            "13/13 [==============================] - 0s 8ms/step - loss: -11.4537 - accuracy: 0.8963 - recall_1: 0.0000e+00 - precision_1: 0.0000e+00 - val_loss: -10.0452 - val_accuracy: 0.9111 - val_recall_1: 0.0000e+00 - val_precision_1: 0.0000e+00\n",
            "Epoch 20/100\n",
            "13/13 [==============================] - 0s 10ms/step - loss: -11.9408 - accuracy: 0.8963 - recall_1: 0.0000e+00 - precision_1: 0.0000e+00 - val_loss: -10.4702 - val_accuracy: 0.9111 - val_recall_1: 0.0000e+00 - val_precision_1: 0.0000e+00\n",
            "Epoch 21/100\n",
            "13/13 [==============================] - 0s 9ms/step - loss: -12.4168 - accuracy: 0.8963 - recall_1: 0.0000e+00 - precision_1: 0.0000e+00 - val_loss: -10.9011 - val_accuracy: 0.9111 - val_recall_1: 0.0000e+00 - val_precision_1: 0.0000e+00\n",
            "Epoch 22/100\n",
            "13/13 [==============================] - 0s 9ms/step - loss: -12.9296 - accuracy: 0.8963 - recall_1: 0.0000e+00 - precision_1: 0.0000e+00 - val_loss: -11.3050 - val_accuracy: 0.9111 - val_recall_1: 0.0000e+00 - val_precision_1: 0.0000e+00\n",
            "Epoch 23/100\n",
            "13/13 [==============================] - 0s 9ms/step - loss: -13.4058 - accuracy: 0.8963 - recall_1: 0.0000e+00 - precision_1: 0.0000e+00 - val_loss: -11.7318 - val_accuracy: 0.9111 - val_recall_1: 0.0000e+00 - val_precision_1: 0.0000e+00\n",
            "Epoch 24/100\n",
            "13/13 [==============================] - 0s 10ms/step - loss: -13.9096 - accuracy: 0.8963 - recall_1: 0.0000e+00 - precision_1: 0.0000e+00 - val_loss: -12.1394 - val_accuracy: 0.9111 - val_recall_1: 0.0000e+00 - val_precision_1: 0.0000e+00\n",
            "Epoch 25/100\n",
            "13/13 [==============================] - 0s 9ms/step - loss: -14.3704 - accuracy: 0.8963 - recall_1: 0.0000e+00 - precision_1: 0.0000e+00 - val_loss: -12.5782 - val_accuracy: 0.9111 - val_recall_1: 0.0000e+00 - val_precision_1: 0.0000e+00\n",
            "Epoch 26/100\n",
            "13/13 [==============================] - 0s 9ms/step - loss: -14.8851 - accuracy: 0.8963 - recall_1: 0.0000e+00 - precision_1: 0.0000e+00 - val_loss: -12.9855 - val_accuracy: 0.9111 - val_recall_1: 0.0000e+00 - val_precision_1: 0.0000e+00\n",
            "Epoch 27/100\n",
            "13/13 [==============================] - 0s 9ms/step - loss: -15.3639 - accuracy: 0.8963 - recall_1: 0.0000e+00 - precision_1: 0.0000e+00 - val_loss: -13.4080 - val_accuracy: 0.9111 - val_recall_1: 0.0000e+00 - val_precision_1: 0.0000e+00\n",
            "Epoch 28/100\n",
            "13/13 [==============================] - 0s 9ms/step - loss: -15.8614 - accuracy: 0.8963 - recall_1: 0.0000e+00 - precision_1: 0.0000e+00 - val_loss: -13.8279 - val_accuracy: 0.9111 - val_recall_1: 0.0000e+00 - val_precision_1: 0.0000e+00\n",
            "Epoch 29/100\n",
            "13/13 [==============================] - 0s 8ms/step - loss: -16.3516 - accuracy: 0.8963 - recall_1: 0.0000e+00 - precision_1: 0.0000e+00 - val_loss: -14.2471 - val_accuracy: 0.9111 - val_recall_1: 0.0000e+00 - val_precision_1: 0.0000e+00\n",
            "Epoch 30/100\n",
            "13/13 [==============================] - 0s 10ms/step - loss: -16.8401 - accuracy: 0.8963 - recall_1: 0.0000e+00 - precision_1: 0.0000e+00 - val_loss: -14.6690 - val_accuracy: 0.9111 - val_recall_1: 0.0000e+00 - val_precision_1: 0.0000e+00\n",
            "Epoch 31/100\n",
            "13/13 [==============================] - 0s 9ms/step - loss: -17.3346 - accuracy: 0.8963 - recall_1: 0.0000e+00 - precision_1: 0.0000e+00 - val_loss: -15.0835 - val_accuracy: 0.9111 - val_recall_1: 0.0000e+00 - val_precision_1: 0.0000e+00\n",
            "Epoch 32/100\n",
            "13/13 [==============================] - 0s 8ms/step - loss: -17.8216 - accuracy: 0.8963 - recall_1: 0.0000e+00 - precision_1: 0.0000e+00 - val_loss: -15.5118 - val_accuracy: 0.9111 - val_recall_1: 0.0000e+00 - val_precision_1: 0.0000e+00\n",
            "Epoch 33/100\n",
            "13/13 [==============================] - 0s 10ms/step - loss: -18.3186 - accuracy: 0.8963 - recall_1: 0.0000e+00 - precision_1: 0.0000e+00 - val_loss: -15.9310 - val_accuracy: 0.9111 - val_recall_1: 0.0000e+00 - val_precision_1: 0.0000e+00\n",
            "Epoch 34/100\n",
            "13/13 [==============================] - 0s 10ms/step - loss: -18.8151 - accuracy: 0.8963 - recall_1: 0.0000e+00 - precision_1: 0.0000e+00 - val_loss: -16.3431 - val_accuracy: 0.9111 - val_recall_1: 0.0000e+00 - val_precision_1: 0.0000e+00\n",
            "Epoch 35/100\n",
            "13/13 [==============================] - 0s 8ms/step - loss: -19.3017 - accuracy: 0.8963 - recall_1: 0.0000e+00 - precision_1: 0.0000e+00 - val_loss: -16.7605 - val_accuracy: 0.9111 - val_recall_1: 0.0000e+00 - val_precision_1: 0.0000e+00\n",
            "Epoch 36/100\n",
            "13/13 [==============================] - 0s 9ms/step - loss: -19.7686 - accuracy: 0.8963 - recall_1: 0.0000e+00 - precision_1: 0.0000e+00 - val_loss: -17.1984 - val_accuracy: 0.9111 - val_recall_1: 0.0000e+00 - val_precision_1: 0.0000e+00\n",
            "Epoch 37/100\n",
            "13/13 [==============================] - 0s 9ms/step - loss: -20.2738 - accuracy: 0.8963 - recall_1: 0.0000e+00 - precision_1: 0.0000e+00 - val_loss: -17.6128 - val_accuracy: 0.9111 - val_recall_1: 0.0000e+00 - val_precision_1: 0.0000e+00\n",
            "Epoch 38/100\n",
            "13/13 [==============================] - 0s 9ms/step - loss: -20.7600 - accuracy: 0.8963 - recall_1: 0.0000e+00 - precision_1: 0.0000e+00 - val_loss: -18.0346 - val_accuracy: 0.9111 - val_recall_1: 0.0000e+00 - val_precision_1: 0.0000e+00\n",
            "Epoch 39/100\n",
            "13/13 [==============================] - 0s 11ms/step - loss: -21.2603 - accuracy: 0.8963 - recall_1: 0.0000e+00 - precision_1: 0.0000e+00 - val_loss: -18.4390 - val_accuracy: 0.9111 - val_recall_1: 0.0000e+00 - val_precision_1: 0.0000e+00\n",
            "Epoch 40/100\n",
            "13/13 [==============================] - 0s 8ms/step - loss: -21.7440 - accuracy: 0.8963 - recall_1: 0.0000e+00 - precision_1: 0.0000e+00 - val_loss: -18.8440 - val_accuracy: 0.9111 - val_recall_1: 0.0000e+00 - val_precision_1: 0.0000e+00\n",
            "Epoch 41/100\n",
            "13/13 [==============================] - 0s 9ms/step - loss: -22.1997 - accuracy: 0.8963 - recall_1: 0.0000e+00 - precision_1: 0.0000e+00 - val_loss: -19.2795 - val_accuracy: 0.9111 - val_recall_1: 0.0000e+00 - val_precision_1: 0.0000e+00\n",
            "Epoch 42/100\n",
            "13/13 [==============================] - 0s 8ms/step - loss: -22.7042 - accuracy: 0.8963 - recall_1: 0.0000e+00 - precision_1: 0.0000e+00 - val_loss: -19.6974 - val_accuracy: 0.9111 - val_recall_1: 0.0000e+00 - val_precision_1: 0.0000e+00\n",
            "Epoch 43/100\n",
            "13/13 [==============================] - 0s 10ms/step - loss: -23.1915 - accuracy: 0.8963 - recall_1: 0.0000e+00 - precision_1: 0.0000e+00 - val_loss: -20.1122 - val_accuracy: 0.9111 - val_recall_1: 0.0000e+00 - val_precision_1: 0.0000e+00\n",
            "Epoch 44/100\n",
            "13/13 [==============================] - 0s 8ms/step - loss: -23.6896 - accuracy: 0.8963 - recall_1: 0.0000e+00 - precision_1: 0.0000e+00 - val_loss: -20.5087 - val_accuracy: 0.9111 - val_recall_1: 0.0000e+00 - val_precision_1: 0.0000e+00\n",
            "Epoch 45/100\n",
            "13/13 [==============================] - 0s 9ms/step - loss: -24.1540 - accuracy: 0.8963 - recall_1: 0.0000e+00 - precision_1: 0.0000e+00 - val_loss: -20.9362 - val_accuracy: 0.9111 - val_recall_1: 0.0000e+00 - val_precision_1: 0.0000e+00\n",
            "Epoch 46/100\n",
            "13/13 [==============================] - 0s 10ms/step - loss: -24.6475 - accuracy: 0.8963 - recall_1: 0.0000e+00 - precision_1: 0.0000e+00 - val_loss: -21.3712 - val_accuracy: 0.9111 - val_recall_1: 0.0000e+00 - val_precision_1: 0.0000e+00\n",
            "Epoch 47/100\n",
            "13/13 [==============================] - 0s 9ms/step - loss: -25.1566 - accuracy: 0.8963 - recall_1: 0.0000e+00 - precision_1: 0.0000e+00 - val_loss: -21.7893 - val_accuracy: 0.9111 - val_recall_1: 0.0000e+00 - val_precision_1: 0.0000e+00\n",
            "Epoch 48/100\n",
            "13/13 [==============================] - 0s 10ms/step - loss: -25.6370 - accuracy: 0.8963 - recall_1: 0.0000e+00 - precision_1: 0.0000e+00 - val_loss: -22.2184 - val_accuracy: 0.9111 - val_recall_1: 0.0000e+00 - val_precision_1: 0.0000e+00\n",
            "Epoch 49/100\n",
            "13/13 [==============================] - 0s 9ms/step - loss: -26.1372 - accuracy: 0.8963 - recall_1: 0.0000e+00 - precision_1: 0.0000e+00 - val_loss: -22.6321 - val_accuracy: 0.9111 - val_recall_1: 0.0000e+00 - val_precision_1: 0.0000e+00\n",
            "Epoch 50/100\n",
            "13/13 [==============================] - 0s 10ms/step - loss: -26.6283 - accuracy: 0.8963 - recall_1: 0.0000e+00 - precision_1: 0.0000e+00 - val_loss: -23.0452 - val_accuracy: 0.9111 - val_recall_1: 0.0000e+00 - val_precision_1: 0.0000e+00\n",
            "Epoch 51/100\n",
            "13/13 [==============================] - 0s 8ms/step - loss: -27.1055 - accuracy: 0.8963 - recall_1: 0.0000e+00 - precision_1: 0.0000e+00 - val_loss: -23.4690 - val_accuracy: 0.9111 - val_recall_1: 0.0000e+00 - val_precision_1: 0.0000e+00\n",
            "Epoch 52/100\n",
            "13/13 [==============================] - 0s 8ms/step - loss: -27.5936 - accuracy: 0.8963 - recall_1: 0.0000e+00 - precision_1: 0.0000e+00 - val_loss: -23.8836 - val_accuracy: 0.9111 - val_recall_1: 0.0000e+00 - val_precision_1: 0.0000e+00\n",
            "Epoch 53/100\n",
            "13/13 [==============================] - 0s 8ms/step - loss: -28.0864 - accuracy: 0.8963 - recall_1: 0.0000e+00 - precision_1: 0.0000e+00 - val_loss: -24.2944 - val_accuracy: 0.9111 - val_recall_1: 0.0000e+00 - val_precision_1: 0.0000e+00\n",
            "Epoch 54/100\n",
            "13/13 [==============================] - 0s 9ms/step - loss: -28.5646 - accuracy: 0.8963 - recall_1: 0.0000e+00 - precision_1: 0.0000e+00 - val_loss: -24.7266 - val_accuracy: 0.9111 - val_recall_1: 0.0000e+00 - val_precision_1: 0.0000e+00\n",
            "Epoch 55/100\n",
            "13/13 [==============================] - 0s 9ms/step - loss: -29.0558 - accuracy: 0.8963 - recall_1: 0.0000e+00 - precision_1: 0.0000e+00 - val_loss: -25.1511 - val_accuracy: 0.9111 - val_recall_1: 0.0000e+00 - val_precision_1: 0.0000e+00\n",
            "Epoch 56/100\n",
            "13/13 [==============================] - 0s 8ms/step - loss: -29.5634 - accuracy: 0.8963 - recall_1: 0.0000e+00 - precision_1: 0.0000e+00 - val_loss: -25.5527 - val_accuracy: 0.9111 - val_recall_1: 0.0000e+00 - val_precision_1: 0.0000e+00\n",
            "Epoch 57/100\n",
            "13/13 [==============================] - 0s 9ms/step - loss: -30.0431 - accuracy: 0.8963 - recall_1: 0.0000e+00 - precision_1: 0.0000e+00 - val_loss: -25.9684 - val_accuracy: 0.9111 - val_recall_1: 0.0000e+00 - val_precision_1: 0.0000e+00\n",
            "Epoch 58/100\n",
            "13/13 [==============================] - 0s 9ms/step - loss: -30.5371 - accuracy: 0.8963 - recall_1: 0.0000e+00 - precision_1: 0.0000e+00 - val_loss: -26.3849 - val_accuracy: 0.9111 - val_recall_1: 0.0000e+00 - val_precision_1: 0.0000e+00\n",
            "Epoch 59/100\n",
            "13/13 [==============================] - 0s 9ms/step - loss: -31.0156 - accuracy: 0.8963 - recall_1: 0.0000e+00 - precision_1: 0.0000e+00 - val_loss: -26.8186 - val_accuracy: 0.9111 - val_recall_1: 0.0000e+00 - val_precision_1: 0.0000e+00\n",
            "Epoch 60/100\n",
            "13/13 [==============================] - 0s 10ms/step - loss: -31.5125 - accuracy: 0.8963 - recall_1: 0.0000e+00 - precision_1: 0.0000e+00 - val_loss: -27.2449 - val_accuracy: 0.9111 - val_recall_1: 0.0000e+00 - val_precision_1: 0.0000e+00\n",
            "Epoch 61/100\n",
            "13/13 [==============================] - 0s 9ms/step - loss: -31.9907 - accuracy: 0.8963 - recall_1: 0.0000e+00 - precision_1: 0.0000e+00 - val_loss: -27.6741 - val_accuracy: 0.9111 - val_recall_1: 0.0000e+00 - val_precision_1: 0.0000e+00\n",
            "Epoch 62/100\n",
            "13/13 [==============================] - 0s 9ms/step - loss: -32.5039 - accuracy: 0.8963 - recall_1: 0.0000e+00 - precision_1: 0.0000e+00 - val_loss: -28.0678 - val_accuracy: 0.9111 - val_recall_1: 0.0000e+00 - val_precision_1: 0.0000e+00\n",
            "Epoch 63/100\n",
            "13/13 [==============================] - 0s 8ms/step - loss: -32.9682 - accuracy: 0.8963 - recall_1: 0.0000e+00 - precision_1: 0.0000e+00 - val_loss: -28.4843 - val_accuracy: 0.9111 - val_recall_1: 0.0000e+00 - val_precision_1: 0.0000e+00\n",
            "Epoch 64/100\n",
            "13/13 [==============================] - 0s 12ms/step - loss: -33.4692 - accuracy: 0.8963 - recall_1: 0.0000e+00 - precision_1: 0.0000e+00 - val_loss: -28.8938 - val_accuracy: 0.9111 - val_recall_1: 0.0000e+00 - val_precision_1: 0.0000e+00\n",
            "Epoch 65/100\n",
            "13/13 [==============================] - 0s 13ms/step - loss: -33.9445 - accuracy: 0.8963 - recall_1: 0.0000e+00 - precision_1: 0.0000e+00 - val_loss: -29.3223 - val_accuracy: 0.9111 - val_recall_1: 0.0000e+00 - val_precision_1: 0.0000e+00\n",
            "Epoch 66/100\n",
            "13/13 [==============================] - 0s 13ms/step - loss: -34.4321 - accuracy: 0.8963 - recall_1: 0.0000e+00 - precision_1: 0.0000e+00 - val_loss: -29.7519 - val_accuracy: 0.9111 - val_recall_1: 0.0000e+00 - val_precision_1: 0.0000e+00\n",
            "Epoch 67/100\n",
            "13/13 [==============================] - 0s 12ms/step - loss: -34.9287 - accuracy: 0.8963 - recall_1: 0.0000e+00 - precision_1: 0.0000e+00 - val_loss: -30.1763 - val_accuracy: 0.9111 - val_recall_1: 0.0000e+00 - val_precision_1: 0.0000e+00\n",
            "Epoch 68/100\n",
            "13/13 [==============================] - 0s 12ms/step - loss: -35.4229 - accuracy: 0.8963 - recall_1: 0.0000e+00 - precision_1: 0.0000e+00 - val_loss: -30.5957 - val_accuracy: 0.9111 - val_recall_1: 0.0000e+00 - val_precision_1: 0.0000e+00\n",
            "Epoch 69/100\n",
            "13/13 [==============================] - 0s 13ms/step - loss: -35.9127 - accuracy: 0.8963 - recall_1: 0.0000e+00 - precision_1: 0.0000e+00 - val_loss: -31.0180 - val_accuracy: 0.9111 - val_recall_1: 0.0000e+00 - val_precision_1: 0.0000e+00\n",
            "Epoch 70/100\n",
            "13/13 [==============================] - 0s 12ms/step - loss: -36.3965 - accuracy: 0.8963 - recall_1: 0.0000e+00 - precision_1: 0.0000e+00 - val_loss: -31.4471 - val_accuracy: 0.9111 - val_recall_1: 0.0000e+00 - val_precision_1: 0.0000e+00\n",
            "Epoch 71/100\n",
            "13/13 [==============================] - 0s 15ms/step - loss: -36.8847 - accuracy: 0.8963 - recall_1: 0.0000e+00 - precision_1: 0.0000e+00 - val_loss: -31.8702 - val_accuracy: 0.9111 - val_recall_1: 0.0000e+00 - val_precision_1: 0.0000e+00\n",
            "Epoch 72/100\n",
            "13/13 [==============================] - 0s 13ms/step - loss: -37.3849 - accuracy: 0.8963 - recall_1: 0.0000e+00 - precision_1: 0.0000e+00 - val_loss: -32.2812 - val_accuracy: 0.9111 - val_recall_1: 0.0000e+00 - val_precision_1: 0.0000e+00\n",
            "Epoch 73/100\n",
            "13/13 [==============================] - 0s 13ms/step - loss: -37.8708 - accuracy: 0.8963 - recall_1: 0.0000e+00 - precision_1: 0.0000e+00 - val_loss: -32.6955 - val_accuracy: 0.9111 - val_recall_1: 0.0000e+00 - val_precision_1: 0.0000e+00\n",
            "Epoch 74/100\n",
            "13/13 [==============================] - 0s 14ms/step - loss: -38.3745 - accuracy: 0.8963 - recall_1: 0.0000e+00 - precision_1: 0.0000e+00 - val_loss: -33.0937 - val_accuracy: 0.9111 - val_recall_1: 0.0000e+00 - val_precision_1: 0.0000e+00\n",
            "Epoch 75/100\n",
            "13/13 [==============================] - 0s 13ms/step - loss: -38.8369 - accuracy: 0.8963 - recall_1: 0.0000e+00 - precision_1: 0.0000e+00 - val_loss: -33.5297 - val_accuracy: 0.9111 - val_recall_1: 0.0000e+00 - val_precision_1: 0.0000e+00\n",
            "Epoch 76/100\n",
            "13/13 [==============================] - 0s 14ms/step - loss: -39.3550 - accuracy: 0.8963 - recall_1: 0.0000e+00 - precision_1: 0.0000e+00 - val_loss: -33.9342 - val_accuracy: 0.9111 - val_recall_1: 0.0000e+00 - val_precision_1: 0.0000e+00\n",
            "Epoch 77/100\n",
            "13/13 [==============================] - 0s 14ms/step - loss: -39.8142 - accuracy: 0.8963 - recall_1: 0.0000e+00 - precision_1: 0.0000e+00 - val_loss: -34.3784 - val_accuracy: 0.9111 - val_recall_1: 0.0000e+00 - val_precision_1: 0.0000e+00\n",
            "Epoch 78/100\n",
            "13/13 [==============================] - 0s 13ms/step - loss: -40.3120 - accuracy: 0.8963 - recall_1: 0.0000e+00 - precision_1: 0.0000e+00 - val_loss: -34.8082 - val_accuracy: 0.9111 - val_recall_1: 0.0000e+00 - val_precision_1: 0.0000e+00\n",
            "Epoch 79/100\n",
            "13/13 [==============================] - 0s 12ms/step - loss: -40.8118 - accuracy: 0.8963 - recall_1: 0.0000e+00 - precision_1: 0.0000e+00 - val_loss: -35.2235 - val_accuracy: 0.9111 - val_recall_1: 0.0000e+00 - val_precision_1: 0.0000e+00\n",
            "Epoch 80/100\n",
            "13/13 [==============================] - 0s 10ms/step - loss: -41.3104 - accuracy: 0.8963 - recall_1: 0.0000e+00 - precision_1: 0.0000e+00 - val_loss: -35.6260 - val_accuracy: 0.9111 - val_recall_1: 0.0000e+00 - val_precision_1: 0.0000e+00\n",
            "Epoch 81/100\n",
            "13/13 [==============================] - 0s 10ms/step - loss: -41.7927 - accuracy: 0.8963 - recall_1: 0.0000e+00 - precision_1: 0.0000e+00 - val_loss: -36.0392 - val_accuracy: 0.9111 - val_recall_1: 0.0000e+00 - val_precision_1: 0.0000e+00\n",
            "Epoch 82/100\n",
            "13/13 [==============================] - 0s 10ms/step - loss: -42.2636 - accuracy: 0.8963 - recall_1: 0.0000e+00 - precision_1: 0.0000e+00 - val_loss: -36.4760 - val_accuracy: 0.9111 - val_recall_1: 0.0000e+00 - val_precision_1: 0.0000e+00\n",
            "Epoch 83/100\n",
            "13/13 [==============================] - 0s 9ms/step - loss: -42.7749 - accuracy: 0.8963 - recall_1: 0.0000e+00 - precision_1: 0.0000e+00 - val_loss: -36.8869 - val_accuracy: 0.9111 - val_recall_1: 0.0000e+00 - val_precision_1: 0.0000e+00\n",
            "Epoch 84/100\n",
            "13/13 [==============================] - 0s 10ms/step - loss: -43.2617 - accuracy: 0.8963 - recall_1: 0.0000e+00 - precision_1: 0.0000e+00 - val_loss: -37.3021 - val_accuracy: 0.9111 - val_recall_1: 0.0000e+00 - val_precision_1: 0.0000e+00\n",
            "Epoch 85/100\n",
            "13/13 [==============================] - 0s 8ms/step - loss: -43.7542 - accuracy: 0.8963 - recall_1: 0.0000e+00 - precision_1: 0.0000e+00 - val_loss: -37.7127 - val_accuracy: 0.9111 - val_recall_1: 0.0000e+00 - val_precision_1: 0.0000e+00\n",
            "Epoch 86/100\n",
            "13/13 [==============================] - 0s 9ms/step - loss: -44.2302 - accuracy: 0.8963 - recall_1: 0.0000e+00 - precision_1: 0.0000e+00 - val_loss: -38.1519 - val_accuracy: 0.9111 - val_recall_1: 0.0000e+00 - val_precision_1: 0.0000e+00\n",
            "Epoch 87/100\n",
            "13/13 [==============================] - 0s 9ms/step - loss: -44.7331 - accuracy: 0.8963 - recall_1: 0.0000e+00 - precision_1: 0.0000e+00 - val_loss: -38.5815 - val_accuracy: 0.9111 - val_recall_1: 0.0000e+00 - val_precision_1: 0.0000e+00\n",
            "Epoch 88/100\n",
            "13/13 [==============================] - 0s 10ms/step - loss: -45.2362 - accuracy: 0.8963 - recall_1: 0.0000e+00 - precision_1: 0.0000e+00 - val_loss: -39.0070 - val_accuracy: 0.9111 - val_recall_1: 0.0000e+00 - val_precision_1: 0.0000e+00\n",
            "Epoch 89/100\n",
            "13/13 [==============================] - 0s 9ms/step - loss: -45.7319 - accuracy: 0.8963 - recall_1: 0.0000e+00 - precision_1: 0.0000e+00 - val_loss: -39.4244 - val_accuracy: 0.9111 - val_recall_1: 0.0000e+00 - val_precision_1: 0.0000e+00\n",
            "Epoch 90/100\n",
            "13/13 [==============================] - 0s 10ms/step - loss: -46.2229 - accuracy: 0.8963 - recall_1: 0.0000e+00 - precision_1: 0.0000e+00 - val_loss: -39.8398 - val_accuracy: 0.9111 - val_recall_1: 0.0000e+00 - val_precision_1: 0.0000e+00\n",
            "Epoch 91/100\n",
            "13/13 [==============================] - 0s 9ms/step - loss: -46.6966 - accuracy: 0.8963 - recall_1: 0.0000e+00 - precision_1: 0.0000e+00 - val_loss: -40.2752 - val_accuracy: 0.9111 - val_recall_1: 0.0000e+00 - val_precision_1: 0.0000e+00\n",
            "Epoch 92/100\n",
            "13/13 [==============================] - 0s 9ms/step - loss: -47.2020 - accuracy: 0.8963 - recall_1: 0.0000e+00 - precision_1: 0.0000e+00 - val_loss: -40.6860 - val_accuracy: 0.9111 - val_recall_1: 0.0000e+00 - val_precision_1: 0.0000e+00\n",
            "Epoch 93/100\n",
            "13/13 [==============================] - 0s 9ms/step - loss: -47.6846 - accuracy: 0.8963 - recall_1: 0.0000e+00 - precision_1: 0.0000e+00 - val_loss: -41.1017 - val_accuracy: 0.9111 - val_recall_1: 0.0000e+00 - val_precision_1: 0.0000e+00\n",
            "Epoch 94/100\n",
            "13/13 [==============================] - 0s 9ms/step - loss: -48.1653 - accuracy: 0.8963 - recall_1: 0.0000e+00 - precision_1: 0.0000e+00 - val_loss: -41.5359 - val_accuracy: 0.9111 - val_recall_1: 0.0000e+00 - val_precision_1: 0.0000e+00\n",
            "Epoch 95/100\n",
            "13/13 [==============================] - 0s 9ms/step - loss: -48.6688 - accuracy: 0.8963 - recall_1: 0.0000e+00 - precision_1: 0.0000e+00 - val_loss: -41.9509 - val_accuracy: 0.9111 - val_recall_1: 0.0000e+00 - val_precision_1: 0.0000e+00\n",
            "Epoch 96/100\n",
            "13/13 [==============================] - 0s 9ms/step - loss: -49.1530 - accuracy: 0.8963 - recall_1: 0.0000e+00 - precision_1: 0.0000e+00 - val_loss: -42.3675 - val_accuracy: 0.9111 - val_recall_1: 0.0000e+00 - val_precision_1: 0.0000e+00\n",
            "Epoch 97/100\n",
            "13/13 [==============================] - 0s 9ms/step - loss: -49.6260 - accuracy: 0.8963 - recall_1: 0.0000e+00 - precision_1: 0.0000e+00 - val_loss: -42.7927 - val_accuracy: 0.9111 - val_recall_1: 0.0000e+00 - val_precision_1: 0.0000e+00\n",
            "Epoch 98/100\n",
            "13/13 [==============================] - 0s 10ms/step - loss: -50.1384 - accuracy: 0.8963 - recall_1: 0.0000e+00 - precision_1: 0.0000e+00 - val_loss: -43.2025 - val_accuracy: 0.9111 - val_recall_1: 0.0000e+00 - val_precision_1: 0.0000e+00\n",
            "Epoch 99/100\n",
            "13/13 [==============================] - 0s 9ms/step - loss: -50.6108 - accuracy: 0.8963 - recall_1: 0.0000e+00 - precision_1: 0.0000e+00 - val_loss: -43.6261 - val_accuracy: 0.9111 - val_recall_1: 0.0000e+00 - val_precision_1: 0.0000e+00\n",
            "Epoch 100/100\n",
            "13/13 [==============================] - 0s 10ms/step - loss: -51.1171 - accuracy: 0.8963 - recall_1: 0.0000e+00 - precision_1: 0.0000e+00 - val_loss: -44.0288 - val_accuracy: 0.9111 - val_recall_1: 0.0000e+00 - val_precision_1: 0.0000e+00\n"
          ]
        }
      ],
      "source": [
        "# Full training of best model\n",
        "H = DNN.fit(x=x_train, y=y_train, batch_size=64, epochs=100, validation_split=0.1)"
      ]
    },
    {
      "cell_type": "code",
      "execution_count": 68,
      "metadata": {
        "colab": {
          "base_uri": "https://localhost:8080/",
          "height": 264
        },
        "id": "LYDG8I2N9IZN",
        "outputId": "18389f9b-816b-4ee2-ae09-28a0061b5771"
      },
      "outputs": [
        {
          "output_type": "display_data",
          "data": {
            "text/plain": [
              "<Figure size 2000x400 with 2 Axes>"
            ],
            "image/png": "[encoded data removed]"
          },
          "metadata": {}
        }
      ],
      "source": [
        "# Plot loss\n",
        "plt.figure(figsize=(20, 4))\n",
        "plt.subplot(1, 2, 1)\n",
        "plt.plot(DNN.history.history['loss'], label='Training', linewidth=2)\n",
        "plt.plot(DNN.history.history['val_loss'], label='Validation', linewidth=2)\n",
        "plt.legend()\n",
        "plt.xlabel('Epoch')\n",
        "plt.ylabel('Loss (binary_cross_entropy)')\n",
        "plt.grid()\n",
        "plt.subplot(1, 2, 2)\n",
        "plt.plot(DNN.history.history['accuracy'], label='Training', linewidth=2)\n",
        "plt.plot(DNN.history.history['val_accuracy'], label='Validation', linewidth=2)\n",
        "plt.legend()\n",
        "plt.xlabel('Epoch')\n",
        "plt.ylabel('accuracy')\n",
        "plt.grid()\n",
        "plt.show()"
      ]
    },
    {
      "cell_type": "code",
      "execution_count": 69,
      "metadata": {
        "colab": {
          "base_uri": "https://localhost:8080/"
        },
        "id": "kxp-aIKj9IZP",
        "outputId": "743cb397-520b-4bf8-d44d-a5667c5e3410"
      },
      "outputs": [
        {
          "output_type": "stream",
          "name": "stdout",
          "text": [
            "Test loss and accuracy: [-49.5323486328125, 0.8999999761581421, 0.0, 0.0]\n"
          ]
        }
      ],
      "source": [
        "# Compute test loss\n",
        "loss_test = DNN.evaluate(x=x_test, y=y_test, verbose=False)\n",
        "print(\"Test loss and accuracy:\", loss_test)"
      ]
    },
    {
      "cell_type": "code",
      "execution_count": 74,
      "metadata": {
        "colab": {
          "base_uri": "https://localhost:8080/"
        },
        "id": "eJEi2uok9IZQ",
        "outputId": "13350ab0-2e47-4ba1-dfaa-1b9d3a0eb8cf"
      },
      "outputs": [
        {
          "output_type": "stream",
          "name": "stdout",
          "text": [
            "4/4 [==============================] - 0s 3ms/step\n",
            "0.1\n"
          ]
        }
      ],
      "source": [
        "# Predict on test set\n",
        "y_test_hat = DNN.predict(x=x_test)\n",
        "error = np.mean( y_test != y_test_hat )\n",
        "print(error)"
      ]
    },
    {
      "cell_type": "markdown",
      "metadata": {
        "id": "dfa1V1ugGNMw"
      },
      "source": [
        "# Part 4: save model to disk and load it back\n",
        "\n",
        "\n",
        "\n"
      ]
    },
    {
      "cell_type": "code",
      "execution_count": 75,
      "metadata": {
        "id": "Dj1cG1L5GRf_"
      },
      "outputs": [],
      "source": [
        "# Save model to disk, then delete it\n",
        "\n",
        "DNN.save(\"DiaBETO.h5\")\n",
        "\n",
        "del DNN"
      ]
    },
    {
      "cell_type": "code",
      "execution_count": 76,
      "metadata": {
        "id": "tz95tvPvGamV",
        "colab": {
          "base_uri": "https://localhost:8080/"
        },
        "outputId": "00aaffa3-eab9-4188-f55e-24ab60c34e8d"
      },
      "outputs": [
        {
          "output_type": "stream",
          "name": "stdout",
          "text": [
            "4/4 [==============================] - 0s 4ms/step\n",
            "(100, 1)\n"
          ]
        }
      ],
      "source": [
        "# Load model back into memory, and use it for prediction\n",
        "from tensorflow.keras.models import load_model\n",
        "DNN = load_model(\"DiaBETO.h5\")\n",
        "\n",
        "y_test_hat = DNN.predict(x=x_test)\n",
        "print(y_test_hat.shape)"
      ]
    }
  ],
  "metadata": {
    "accelerator": "GPU",
    "colab": {
      "collapsed_sections": [
        "7AnH6VY-W09n",
        "Xx9N-n_K4_3k"
      ],
      "provenance": []
    },
    "gpuClass": "standard",
    "kernelspec": {
      "display_name": "Python 3",
      "name": "python3"
    }
  },
  "nbformat": 4,
  "nbformat_minor": 0
}